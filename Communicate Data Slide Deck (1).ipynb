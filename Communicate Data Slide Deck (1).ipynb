{
 "cells": [
  {
   "cell_type": "markdown",
   "metadata": {
    "slideshow": {
     "slide_type": "slide"
    }
   },
   "source": [
    "# 2018 Bay Wheels Ride Data Exploration and Visualization"
   ]
  },
  {
   "cell_type": "markdown",
   "metadata": {
    "slideshow": {
     "slide_type": "slide"
    }
   },
   "source": [
    "### By Elham Daha"
   ]
  },
  {
   "cell_type": "markdown",
   "metadata": {
    "slideshow": {
     "slide_type": "skip"
    }
   },
   "source": [
    "## Table of Contents"
   ]
  },
  {
   "cell_type": "markdown",
   "metadata": {
    "slideshow": {
     "slide_type": "skip"
    }
   },
   "source": [
    "- Introduction\n",
    "- Preliminary Wrangling\n",
    "- Univariate Exploration\n",
    "- Bivariate Explorationn\n",
    "- Multivariate Exploration\n",
    "- Summary\n",
    "- Sources"
   ]
  },
  {
   "cell_type": "markdown",
   "metadata": {
    "slideshow": {
     "slide_type": "skip"
    }
   },
   "source": [
    "## Introduction"
   ]
  },
  {
   "cell_type": "markdown",
   "metadata": {
    "slideshow": {
     "slide_type": "slide"
    }
   },
   "source": [
    "## Investigation Overview\n",
    "\n",
    "In this investigation of the Ford GoBike System, I wanted to look at the most common customer behaviors and characteristics, specifically how user type, time, gender, and age impacts usage of the system."
   ]
  },
  {
   "cell_type": "markdown",
   "metadata": {
    "slideshow": {
     "slide_type": "slide"
    }
   },
   "source": [
    "## Dataset Overview"
   ]
  },
  {
   "cell_type": "markdown",
   "metadata": {
    "slideshow": {
     "slide_type": "slide"
    }
   },
   "source": [
    "Ford GoBike is the Bay Area's bike share system. Bay Area Bike Share was introduced in 2013 as a pilot program for the region, with 700 bikes and 70 stations across San Francisco and San Jose. Once expansion is complete, Ford GoBike will grow to 7,000 bikes across San Francisco, the East Bay and San Jose.\n",
    "\n",
    "Ford GoBike, like other bike share systems, consists of a fleet of specially designed, sturdy and durable bikes that are locked into a network of docking stations throughout the city. The bikes can be unlocked from one station and returned to any other station in the system, making them ideal for one-way trips. People use bike share to commute to work or school, run errands, get to appointments or social engagements and more. It's a fun, convenient and affordable way to get around.\n",
    "\n",
    "The bikes are available for use 24 hours/day, 7 days/week, 365 days/year and riders have access to all bikes in the network when they become a member or purchase a pass.\n",
    "\n",
    "See the data here"
   ]
  },
  {
   "cell_type": "markdown",
   "metadata": {
    "slideshow": {
     "slide_type": "slide"
    }
   },
   "source": [
    "## Preliminary Wrangling"
   ]
  },
  {
   "cell_type": "code",
   "execution_count": 1,
   "metadata": {
    "slideshow": {
     "slide_type": "slide"
    }
   },
   "outputs": [],
   "source": [
    "# import all packages and set plots to be embedded inline\n",
    "import numpy as np\n",
    "import pandas as pd\n",
    "import matplotlib.pyplot as plt\n",
    "%matplotlib inline\n",
    "import seaborn as sb\n",
    "import glob\n",
    "import os\n",
    "import datetime"
   ]
  },
  {
   "cell_type": "markdown",
   "metadata": {
    "slideshow": {
     "slide_type": "-"
    }
   },
   "source": [
    "### Gathering "
   ]
  },
  {
   "cell_type": "markdown",
   "metadata": {
    "slideshow": {
     "slide_type": "-"
    }
   },
   "source": [
    "#### Specifying folder path where all the files from 2018 are stored"
   ]
  },
  {
   "cell_type": "code",
   "execution_count": 2,
   "metadata": {
    "slideshow": {
     "slide_type": "-"
    }
   },
   "outputs": [],
   "source": [
    "path =r'C:\\Users\\edaha\\Desktop\\Courses\\DataAnalyst\\Session5\\Project5\\Data'\n",
    "\n",
    "files = glob.glob(os.path.join(path, \"*.csv\"))"
   ]
  },
  {
   "cell_type": "markdown",
   "metadata": {
    "slideshow": {
     "slide_type": "-"
    }
   },
   "source": [
    "#### Reading the content from all the files and concatenating them into a single fil"
   ]
  },
  {
   "cell_type": "code",
   "execution_count": 3,
   "metadata": {
    "slideshow": {
     "slide_type": "slide"
    }
   },
   "outputs": [],
   "source": [
    "df = pd.concat((pd.read_csv(f) for f in files), ignore_index = True)\n",
    "\n",
    "df.to_csv('master_file.csv', index=False)"
   ]
  },
  {
   "cell_type": "code",
   "execution_count": 4,
   "metadata": {
    "slideshow": {
     "slide_type": "slide"
    }
   },
   "outputs": [],
   "source": [
    "df_new = pd.read_csv('master_file.csv')"
   ]
  },
  {
   "cell_type": "code",
   "execution_count": 5,
   "metadata": {
    "slideshow": {
     "slide_type": "slide"
    }
   },
   "outputs": [
    {
     "data": {
      "text/html": [
       "<div>\n",
       "<style scoped>\n",
       "    .dataframe tbody tr th:only-of-type {\n",
       "        vertical-align: middle;\n",
       "    }\n",
       "\n",
       "    .dataframe tbody tr th {\n",
       "        vertical-align: top;\n",
       "    }\n",
       "\n",
       "    .dataframe thead th {\n",
       "        text-align: right;\n",
       "    }\n",
       "</style>\n",
       "<table border=\"1\" class=\"dataframe\">\n",
       "  <thead>\n",
       "    <tr style=\"text-align: right;\">\n",
       "      <th></th>\n",
       "      <th>duration_sec</th>\n",
       "      <th>start_time</th>\n",
       "      <th>end_time</th>\n",
       "      <th>start_station_id</th>\n",
       "      <th>start_station_name</th>\n",
       "      <th>start_station_latitude</th>\n",
       "      <th>start_station_longitude</th>\n",
       "      <th>end_station_id</th>\n",
       "      <th>end_station_name</th>\n",
       "      <th>end_station_latitude</th>\n",
       "      <th>end_station_longitude</th>\n",
       "      <th>bike_id</th>\n",
       "      <th>user_type</th>\n",
       "      <th>bike_share_for_all_trip</th>\n",
       "    </tr>\n",
       "  </thead>\n",
       "  <tbody>\n",
       "    <tr>\n",
       "      <th>0</th>\n",
       "      <td>75284</td>\n",
       "      <td>2018-01-31 22:52:35.2390</td>\n",
       "      <td>2018-02-01 19:47:19.8240</td>\n",
       "      <td>120.0</td>\n",
       "      <td>Mission Dolores Park</td>\n",
       "      <td>37.761420</td>\n",
       "      <td>-122.426435</td>\n",
       "      <td>285.0</td>\n",
       "      <td>Webster St at O'Farrell St</td>\n",
       "      <td>37.783521</td>\n",
       "      <td>-122.431158</td>\n",
       "      <td>2765</td>\n",
       "      <td>Subscriber</td>\n",
       "      <td>No</td>\n",
       "    </tr>\n",
       "    <tr>\n",
       "      <th>1</th>\n",
       "      <td>85422</td>\n",
       "      <td>2018-01-31 16:13:34.3510</td>\n",
       "      <td>2018-02-01 15:57:17.3100</td>\n",
       "      <td>15.0</td>\n",
       "      <td>San Francisco Ferry Building (Harry Bridges Pl...</td>\n",
       "      <td>37.795392</td>\n",
       "      <td>-122.394203</td>\n",
       "      <td>15.0</td>\n",
       "      <td>San Francisco Ferry Building (Harry Bridges Pl...</td>\n",
       "      <td>37.795392</td>\n",
       "      <td>-122.394203</td>\n",
       "      <td>2815</td>\n",
       "      <td>Customer</td>\n",
       "      <td>No</td>\n",
       "    </tr>\n",
       "    <tr>\n",
       "      <th>2</th>\n",
       "      <td>71576</td>\n",
       "      <td>2018-01-31 14:23:55.8890</td>\n",
       "      <td>2018-02-01 10:16:52.1160</td>\n",
       "      <td>304.0</td>\n",
       "      <td>Jackson St at 5th St</td>\n",
       "      <td>37.348759</td>\n",
       "      <td>-121.894798</td>\n",
       "      <td>296.0</td>\n",
       "      <td>5th St at Virginia St</td>\n",
       "      <td>37.325998</td>\n",
       "      <td>-121.877120</td>\n",
       "      <td>3039</td>\n",
       "      <td>Customer</td>\n",
       "      <td>No</td>\n",
       "    </tr>\n",
       "    <tr>\n",
       "      <th>3</th>\n",
       "      <td>61076</td>\n",
       "      <td>2018-01-31 14:53:23.5620</td>\n",
       "      <td>2018-02-01 07:51:20.5000</td>\n",
       "      <td>75.0</td>\n",
       "      <td>Market St at Franklin St</td>\n",
       "      <td>37.773793</td>\n",
       "      <td>-122.421239</td>\n",
       "      <td>47.0</td>\n",
       "      <td>4th St at Harrison St</td>\n",
       "      <td>37.780955</td>\n",
       "      <td>-122.399749</td>\n",
       "      <td>321</td>\n",
       "      <td>Customer</td>\n",
       "      <td>No</td>\n",
       "    </tr>\n",
       "    <tr>\n",
       "      <th>4</th>\n",
       "      <td>39966</td>\n",
       "      <td>2018-01-31 19:52:24.6670</td>\n",
       "      <td>2018-02-01 06:58:31.0530</td>\n",
       "      <td>74.0</td>\n",
       "      <td>Laguna St at Hayes St</td>\n",
       "      <td>37.776435</td>\n",
       "      <td>-122.426244</td>\n",
       "      <td>19.0</td>\n",
       "      <td>Post St at Kearny St</td>\n",
       "      <td>37.788975</td>\n",
       "      <td>-122.403452</td>\n",
       "      <td>617</td>\n",
       "      <td>Subscriber</td>\n",
       "      <td>No</td>\n",
       "    </tr>\n",
       "  </tbody>\n",
       "</table>\n",
       "</div>"
      ],
      "text/plain": [
       "   duration_sec                start_time                  end_time  \\\n",
       "0         75284  2018-01-31 22:52:35.2390  2018-02-01 19:47:19.8240   \n",
       "1         85422  2018-01-31 16:13:34.3510  2018-02-01 15:57:17.3100   \n",
       "2         71576  2018-01-31 14:23:55.8890  2018-02-01 10:16:52.1160   \n",
       "3         61076  2018-01-31 14:53:23.5620  2018-02-01 07:51:20.5000   \n",
       "4         39966  2018-01-31 19:52:24.6670  2018-02-01 06:58:31.0530   \n",
       "\n",
       "   start_station_id                                 start_station_name  \\\n",
       "0             120.0                               Mission Dolores Park   \n",
       "1              15.0  San Francisco Ferry Building (Harry Bridges Pl...   \n",
       "2             304.0                               Jackson St at 5th St   \n",
       "3              75.0                           Market St at Franklin St   \n",
       "4              74.0                              Laguna St at Hayes St   \n",
       "\n",
       "   start_station_latitude  start_station_longitude  end_station_id  \\\n",
       "0               37.761420              -122.426435           285.0   \n",
       "1               37.795392              -122.394203            15.0   \n",
       "2               37.348759              -121.894798           296.0   \n",
       "3               37.773793              -122.421239            47.0   \n",
       "4               37.776435              -122.426244            19.0   \n",
       "\n",
       "                                    end_station_name  end_station_latitude  \\\n",
       "0                         Webster St at O'Farrell St             37.783521   \n",
       "1  San Francisco Ferry Building (Harry Bridges Pl...             37.795392   \n",
       "2                              5th St at Virginia St             37.325998   \n",
       "3                              4th St at Harrison St             37.780955   \n",
       "4                               Post St at Kearny St             37.788975   \n",
       "\n",
       "   end_station_longitude  bike_id   user_type bike_share_for_all_trip  \n",
       "0            -122.431158     2765  Subscriber                      No  \n",
       "1            -122.394203     2815    Customer                      No  \n",
       "2            -121.877120     3039    Customer                      No  \n",
       "3            -122.399749      321    Customer                      No  \n",
       "4            -122.403452      617  Subscriber                      No  "
      ]
     },
     "execution_count": 5,
     "metadata": {},
     "output_type": "execute_result"
    }
   ],
   "source": [
    "df_new.head()"
   ]
  },
  {
   "cell_type": "code",
   "execution_count": 6,
   "metadata": {
    "slideshow": {
     "slide_type": "-"
    }
   },
   "outputs": [
    {
     "name": "stdout",
     "output_type": "stream",
     "text": [
      "<class 'pandas.core.frame.DataFrame'>\n",
      "RangeIndex: 1863721 entries, 0 to 1863720\n",
      "Data columns (total 14 columns):\n",
      " #   Column                   Dtype  \n",
      "---  ------                   -----  \n",
      " 0   duration_sec             int64  \n",
      " 1   start_time               object \n",
      " 2   end_time                 object \n",
      " 3   start_station_id         float64\n",
      " 4   start_station_name       object \n",
      " 5   start_station_latitude   float64\n",
      " 6   start_station_longitude  float64\n",
      " 7   end_station_id           float64\n",
      " 8   end_station_name         object \n",
      " 9   end_station_latitude     float64\n",
      " 10  end_station_longitude    float64\n",
      " 11  bike_id                  int64  \n",
      " 12  user_type                object \n",
      " 13  bike_share_for_all_trip  object \n",
      "dtypes: float64(6), int64(2), object(6)\n",
      "memory usage: 199.1+ MB\n"
     ]
    }
   ],
   "source": [
    "df_new.info()"
   ]
  },
  {
   "cell_type": "code",
   "execution_count": 7,
   "metadata": {
    "scrolled": true,
    "slideshow": {
     "slide_type": "-"
    }
   },
   "outputs": [
    {
     "data": {
      "text/html": [
       "<div>\n",
       "<style scoped>\n",
       "    .dataframe tbody tr th:only-of-type {\n",
       "        vertical-align: middle;\n",
       "    }\n",
       "\n",
       "    .dataframe tbody tr th {\n",
       "        vertical-align: top;\n",
       "    }\n",
       "\n",
       "    .dataframe thead th {\n",
       "        text-align: right;\n",
       "    }\n",
       "</style>\n",
       "<table border=\"1\" class=\"dataframe\">\n",
       "  <thead>\n",
       "    <tr style=\"text-align: right;\">\n",
       "      <th></th>\n",
       "      <th>duration_sec</th>\n",
       "      <th>start_time</th>\n",
       "      <th>end_time</th>\n",
       "      <th>start_station_id</th>\n",
       "      <th>start_station_name</th>\n",
       "      <th>start_station_latitude</th>\n",
       "      <th>start_station_longitude</th>\n",
       "      <th>end_station_id</th>\n",
       "      <th>end_station_name</th>\n",
       "      <th>end_station_latitude</th>\n",
       "      <th>end_station_longitude</th>\n",
       "      <th>bike_id</th>\n",
       "      <th>user_type</th>\n",
       "      <th>bike_share_for_all_trip</th>\n",
       "    </tr>\n",
       "  </thead>\n",
       "  <tbody>\n",
       "    <tr>\n",
       "      <th>321317</th>\n",
       "      <td>1732</td>\n",
       "      <td>2018-04-29 12:22:16.3440</td>\n",
       "      <td>2018-04-29 12:51:09.0440</td>\n",
       "      <td>19.0</td>\n",
       "      <td>Post St at Kearny St</td>\n",
       "      <td>37.788975</td>\n",
       "      <td>-122.403452</td>\n",
       "      <td>70.0</td>\n",
       "      <td>Central Ave at Fell St</td>\n",
       "      <td>37.773311</td>\n",
       "      <td>-122.444293</td>\n",
       "      <td>3681</td>\n",
       "      <td>Customer</td>\n",
       "      <td>No</td>\n",
       "    </tr>\n",
       "    <tr>\n",
       "      <th>562575</th>\n",
       "      <td>171</td>\n",
       "      <td>2018-05-11 06:24:03.9970</td>\n",
       "      <td>2018-05-11 06:26:55.3100</td>\n",
       "      <td>105.0</td>\n",
       "      <td>16th St at Prosper St</td>\n",
       "      <td>37.764285</td>\n",
       "      <td>-122.431804</td>\n",
       "      <td>96.0</td>\n",
       "      <td>Dolores St at 15th St</td>\n",
       "      <td>37.766210</td>\n",
       "      <td>-122.426614</td>\n",
       "      <td>687</td>\n",
       "      <td>Subscriber</td>\n",
       "      <td>No</td>\n",
       "    </tr>\n",
       "    <tr>\n",
       "      <th>1448977</th>\n",
       "      <td>125</td>\n",
       "      <td>2018-10-23 19:25:59.1790</td>\n",
       "      <td>2018-10-23 19:28:04.8590</td>\n",
       "      <td>26.0</td>\n",
       "      <td>1st St at Folsom St</td>\n",
       "      <td>37.787290</td>\n",
       "      <td>-122.394380</td>\n",
       "      <td>24.0</td>\n",
       "      <td>Spear St at Folsom St</td>\n",
       "      <td>37.789677</td>\n",
       "      <td>-122.390428</td>\n",
       "      <td>2296</td>\n",
       "      <td>Subscriber</td>\n",
       "      <td>Yes</td>\n",
       "    </tr>\n",
       "    <tr>\n",
       "      <th>1454165</th>\n",
       "      <td>312</td>\n",
       "      <td>2018-10-23 08:36:51.5310</td>\n",
       "      <td>2018-10-23 08:42:03.5980</td>\n",
       "      <td>164.0</td>\n",
       "      <td>Isabella St at San Pablo Ave</td>\n",
       "      <td>37.814988</td>\n",
       "      <td>-122.274844</td>\n",
       "      <td>182.0</td>\n",
       "      <td>19th Street BART Station</td>\n",
       "      <td>37.809013</td>\n",
       "      <td>-122.268247</td>\n",
       "      <td>3490</td>\n",
       "      <td>Subscriber</td>\n",
       "      <td>No</td>\n",
       "    </tr>\n",
       "    <tr>\n",
       "      <th>704505</th>\n",
       "      <td>299</td>\n",
       "      <td>2018-06-19 08:49:13.2430</td>\n",
       "      <td>2018-06-19 08:54:12.7910</td>\n",
       "      <td>46.0</td>\n",
       "      <td>San Antonio Park</td>\n",
       "      <td>37.790140</td>\n",
       "      <td>-122.242373</td>\n",
       "      <td>221.0</td>\n",
       "      <td>12th St at 6th Ave</td>\n",
       "      <td>37.794353</td>\n",
       "      <td>-122.253874</td>\n",
       "      <td>3066</td>\n",
       "      <td>Subscriber</td>\n",
       "      <td>Yes</td>\n",
       "    </tr>\n",
       "    <tr>\n",
       "      <th>50877</th>\n",
       "      <td>532</td>\n",
       "      <td>2018-01-17 10:51:15.1130</td>\n",
       "      <td>2018-01-17 11:00:07.9590</td>\n",
       "      <td>178.0</td>\n",
       "      <td>Broadway at 30th St</td>\n",
       "      <td>37.819381</td>\n",
       "      <td>-122.261928</td>\n",
       "      <td>7.0</td>\n",
       "      <td>Frank H Ogawa Plaza</td>\n",
       "      <td>37.804562</td>\n",
       "      <td>-122.271738</td>\n",
       "      <td>2483</td>\n",
       "      <td>Subscriber</td>\n",
       "      <td>No</td>\n",
       "    </tr>\n",
       "    <tr>\n",
       "      <th>786535</th>\n",
       "      <td>1157</td>\n",
       "      <td>2018-06-06 08:26:15.1020</td>\n",
       "      <td>2018-06-06 08:45:32.5470</td>\n",
       "      <td>6.0</td>\n",
       "      <td>The Embarcadero at Sansome St</td>\n",
       "      <td>37.804770</td>\n",
       "      <td>-122.403234</td>\n",
       "      <td>88.0</td>\n",
       "      <td>11th St at Bryant St</td>\n",
       "      <td>37.770030</td>\n",
       "      <td>-122.411726</td>\n",
       "      <td>3828</td>\n",
       "      <td>Subscriber</td>\n",
       "      <td>No</td>\n",
       "    </tr>\n",
       "    <tr>\n",
       "      <th>1102445</th>\n",
       "      <td>816</td>\n",
       "      <td>2018-08-17 21:03:10.6080</td>\n",
       "      <td>2018-08-17 21:16:47.3110</td>\n",
       "      <td>291.0</td>\n",
       "      <td>Autumn Parkway at Coleman Ave</td>\n",
       "      <td>37.341335</td>\n",
       "      <td>-121.903183</td>\n",
       "      <td>309.0</td>\n",
       "      <td>San Jose City Hall</td>\n",
       "      <td>37.337391</td>\n",
       "      <td>-121.886995</td>\n",
       "      <td>580</td>\n",
       "      <td>Subscriber</td>\n",
       "      <td>No</td>\n",
       "    </tr>\n",
       "    <tr>\n",
       "      <th>777683</th>\n",
       "      <td>346</td>\n",
       "      <td>2018-06-07 11:16:37.1010</td>\n",
       "      <td>2018-06-07 11:22:23.1450</td>\n",
       "      <td>200.0</td>\n",
       "      <td>2nd Ave at E 18th St</td>\n",
       "      <td>37.800214</td>\n",
       "      <td>-122.253810</td>\n",
       "      <td>163.0</td>\n",
       "      <td>Lake Merritt BART Station</td>\n",
       "      <td>37.797320</td>\n",
       "      <td>-122.265320</td>\n",
       "      <td>991</td>\n",
       "      <td>Subscriber</td>\n",
       "      <td>No</td>\n",
       "    </tr>\n",
       "    <tr>\n",
       "      <th>356229</th>\n",
       "      <td>2346</td>\n",
       "      <td>2018-04-22 16:15:17.4200</td>\n",
       "      <td>2018-04-22 16:54:23.6840</td>\n",
       "      <td>71.0</td>\n",
       "      <td>Broderick St at Oak St</td>\n",
       "      <td>37.773063</td>\n",
       "      <td>-122.439078</td>\n",
       "      <td>71.0</td>\n",
       "      <td>Broderick St at Oak St</td>\n",
       "      <td>37.773063</td>\n",
       "      <td>-122.439078</td>\n",
       "      <td>3101</td>\n",
       "      <td>Customer</td>\n",
       "      <td>No</td>\n",
       "    </tr>\n",
       "  </tbody>\n",
       "</table>\n",
       "</div>"
      ],
      "text/plain": [
       "         duration_sec                start_time                  end_time  \\\n",
       "321317           1732  2018-04-29 12:22:16.3440  2018-04-29 12:51:09.0440   \n",
       "562575            171  2018-05-11 06:24:03.9970  2018-05-11 06:26:55.3100   \n",
       "1448977           125  2018-10-23 19:25:59.1790  2018-10-23 19:28:04.8590   \n",
       "1454165           312  2018-10-23 08:36:51.5310  2018-10-23 08:42:03.5980   \n",
       "704505            299  2018-06-19 08:49:13.2430  2018-06-19 08:54:12.7910   \n",
       "50877             532  2018-01-17 10:51:15.1130  2018-01-17 11:00:07.9590   \n",
       "786535           1157  2018-06-06 08:26:15.1020  2018-06-06 08:45:32.5470   \n",
       "1102445           816  2018-08-17 21:03:10.6080  2018-08-17 21:16:47.3110   \n",
       "777683            346  2018-06-07 11:16:37.1010  2018-06-07 11:22:23.1450   \n",
       "356229           2346  2018-04-22 16:15:17.4200  2018-04-22 16:54:23.6840   \n",
       "\n",
       "         start_station_id             start_station_name  \\\n",
       "321317               19.0           Post St at Kearny St   \n",
       "562575              105.0          16th St at Prosper St   \n",
       "1448977              26.0            1st St at Folsom St   \n",
       "1454165             164.0   Isabella St at San Pablo Ave   \n",
       "704505               46.0               San Antonio Park   \n",
       "50877               178.0            Broadway at 30th St   \n",
       "786535                6.0  The Embarcadero at Sansome St   \n",
       "1102445             291.0  Autumn Parkway at Coleman Ave   \n",
       "777683              200.0           2nd Ave at E 18th St   \n",
       "356229               71.0         Broderick St at Oak St   \n",
       "\n",
       "         start_station_latitude  start_station_longitude  end_station_id  \\\n",
       "321317                37.788975              -122.403452            70.0   \n",
       "562575                37.764285              -122.431804            96.0   \n",
       "1448977               37.787290              -122.394380            24.0   \n",
       "1454165               37.814988              -122.274844           182.0   \n",
       "704505                37.790140              -122.242373           221.0   \n",
       "50877                 37.819381              -122.261928             7.0   \n",
       "786535                37.804770              -122.403234            88.0   \n",
       "1102445               37.341335              -121.903183           309.0   \n",
       "777683                37.800214              -122.253810           163.0   \n",
       "356229                37.773063              -122.439078            71.0   \n",
       "\n",
       "                  end_station_name  end_station_latitude  \\\n",
       "321317      Central Ave at Fell St             37.773311   \n",
       "562575       Dolores St at 15th St             37.766210   \n",
       "1448977      Spear St at Folsom St             37.789677   \n",
       "1454165   19th Street BART Station             37.809013   \n",
       "704505          12th St at 6th Ave             37.794353   \n",
       "50877          Frank H Ogawa Plaza             37.804562   \n",
       "786535        11th St at Bryant St             37.770030   \n",
       "1102445         San Jose City Hall             37.337391   \n",
       "777683   Lake Merritt BART Station             37.797320   \n",
       "356229      Broderick St at Oak St             37.773063   \n",
       "\n",
       "         end_station_longitude  bike_id   user_type bike_share_for_all_trip  \n",
       "321317             -122.444293     3681    Customer                      No  \n",
       "562575             -122.426614      687  Subscriber                      No  \n",
       "1448977            -122.390428     2296  Subscriber                     Yes  \n",
       "1454165            -122.268247     3490  Subscriber                      No  \n",
       "704505             -122.253874     3066  Subscriber                     Yes  \n",
       "50877              -122.271738     2483  Subscriber                      No  \n",
       "786535             -122.411726     3828  Subscriber                      No  \n",
       "1102445            -121.886995      580  Subscriber                      No  \n",
       "777683             -122.265320      991  Subscriber                      No  \n",
       "356229             -122.439078     3101    Customer                      No  "
      ]
     },
     "execution_count": 7,
     "metadata": {},
     "output_type": "execute_result"
    }
   ],
   "source": [
    "df_new.sample(10)"
   ]
  },
  {
   "cell_type": "code",
   "execution_count": 8,
   "metadata": {
    "scrolled": true,
    "slideshow": {
     "slide_type": "-"
    }
   },
   "outputs": [
    {
     "data": {
      "text/plain": [
       "(1863721, 14)"
      ]
     },
     "execution_count": 8,
     "metadata": {},
     "output_type": "execute_result"
    }
   ],
   "source": [
    "df_new.shape"
   ]
  },
  {
   "cell_type": "code",
   "execution_count": 9,
   "metadata": {
    "slideshow": {
     "slide_type": "-"
    }
   },
   "outputs": [],
   "source": [
    "df.start_time = pd.to_datetime(df.start_time)\n",
    "df.end_time = pd.to_datetime(df.end_time)"
   ]
  },
  {
   "cell_type": "code",
   "execution_count": 10,
   "metadata": {
    "scrolled": false,
    "slideshow": {
     "slide_type": "-"
    }
   },
   "outputs": [
    {
     "name": "stdout",
     "output_type": "stream",
     "text": [
      "<class 'pandas.core.frame.DataFrame'>\n",
      "RangeIndex: 1863721 entries, 0 to 1863720\n",
      "Data columns (total 14 columns):\n",
      " #   Column                   Dtype         \n",
      "---  ------                   -----         \n",
      " 0   duration_sec             int64         \n",
      " 1   start_time               datetime64[ns]\n",
      " 2   end_time                 datetime64[ns]\n",
      " 3   start_station_id         float64       \n",
      " 4   start_station_name       object        \n",
      " 5   start_station_latitude   float64       \n",
      " 6   start_station_longitude  float64       \n",
      " 7   end_station_id           float64       \n",
      " 8   end_station_name         object        \n",
      " 9   end_station_latitude     float64       \n",
      " 10  end_station_longitude    float64       \n",
      " 11  bike_id                  int64         \n",
      " 12  user_type                object        \n",
      " 13  bike_share_for_all_trip  object        \n",
      "dtypes: datetime64[ns](2), float64(6), int64(2), object(4)\n",
      "memory usage: 199.1+ MB\n"
     ]
    }
   ],
   "source": [
    "df.info()"
   ]
  },
  {
   "cell_type": "code",
   "execution_count": 11,
   "metadata": {
    "slideshow": {
     "slide_type": "-"
    }
   },
   "outputs": [
    {
     "data": {
      "text/html": [
       "<div>\n",
       "<style scoped>\n",
       "    .dataframe tbody tr th:only-of-type {\n",
       "        vertical-align: middle;\n",
       "    }\n",
       "\n",
       "    .dataframe tbody tr th {\n",
       "        vertical-align: top;\n",
       "    }\n",
       "\n",
       "    .dataframe thead th {\n",
       "        text-align: right;\n",
       "    }\n",
       "</style>\n",
       "<table border=\"1\" class=\"dataframe\">\n",
       "  <thead>\n",
       "    <tr style=\"text-align: right;\">\n",
       "      <th></th>\n",
       "      <th>duration_sec</th>\n",
       "      <th>start_station_id</th>\n",
       "      <th>start_station_latitude</th>\n",
       "      <th>start_station_longitude</th>\n",
       "      <th>end_station_id</th>\n",
       "      <th>end_station_latitude</th>\n",
       "      <th>end_station_longitude</th>\n",
       "      <th>bike_id</th>\n",
       "    </tr>\n",
       "  </thead>\n",
       "  <tbody>\n",
       "    <tr>\n",
       "      <th>count</th>\n",
       "      <td>1.863721e+06</td>\n",
       "      <td>1.851950e+06</td>\n",
       "      <td>1.863721e+06</td>\n",
       "      <td>1.863721e+06</td>\n",
       "      <td>1.851950e+06</td>\n",
       "      <td>1.863721e+06</td>\n",
       "      <td>1.863721e+06</td>\n",
       "      <td>1.863721e+06</td>\n",
       "    </tr>\n",
       "    <tr>\n",
       "      <th>mean</th>\n",
       "      <td>8.573026e+02</td>\n",
       "      <td>1.196744e+02</td>\n",
       "      <td>3.776678e+01</td>\n",
       "      <td>-1.223492e+02</td>\n",
       "      <td>1.181730e+02</td>\n",
       "      <td>3.776690e+01</td>\n",
       "      <td>-1.223487e+02</td>\n",
       "      <td>2.296851e+03</td>\n",
       "    </tr>\n",
       "    <tr>\n",
       "      <th>std</th>\n",
       "      <td>2.370379e+03</td>\n",
       "      <td>1.003976e+02</td>\n",
       "      <td>1.057689e-01</td>\n",
       "      <td>1.654634e-01</td>\n",
       "      <td>1.004403e+02</td>\n",
       "      <td>1.056483e-01</td>\n",
       "      <td>1.650597e-01</td>\n",
       "      <td>1.287733e+03</td>\n",
       "    </tr>\n",
       "    <tr>\n",
       "      <th>min</th>\n",
       "      <td>6.100000e+01</td>\n",
       "      <td>3.000000e+00</td>\n",
       "      <td>3.726331e+01</td>\n",
       "      <td>-1.224737e+02</td>\n",
       "      <td>3.000000e+00</td>\n",
       "      <td>3.726331e+01</td>\n",
       "      <td>-1.224737e+02</td>\n",
       "      <td>1.100000e+01</td>\n",
       "    </tr>\n",
       "    <tr>\n",
       "      <th>25%</th>\n",
       "      <td>3.500000e+02</td>\n",
       "      <td>3.300000e+01</td>\n",
       "      <td>3.777106e+01</td>\n",
       "      <td>-1.224114e+02</td>\n",
       "      <td>3.000000e+01</td>\n",
       "      <td>3.777106e+01</td>\n",
       "      <td>-1.224094e+02</td>\n",
       "      <td>1.225000e+03</td>\n",
       "    </tr>\n",
       "    <tr>\n",
       "      <th>50%</th>\n",
       "      <td>5.560000e+02</td>\n",
       "      <td>8.900000e+01</td>\n",
       "      <td>3.778107e+01</td>\n",
       "      <td>-1.223974e+02</td>\n",
       "      <td>8.800000e+01</td>\n",
       "      <td>3.778127e+01</td>\n",
       "      <td>-1.223971e+02</td>\n",
       "      <td>2.338000e+03</td>\n",
       "    </tr>\n",
       "    <tr>\n",
       "      <th>75%</th>\n",
       "      <td>8.720000e+02</td>\n",
       "      <td>1.860000e+02</td>\n",
       "      <td>3.779625e+01</td>\n",
       "      <td>-1.222865e+02</td>\n",
       "      <td>1.830000e+02</td>\n",
       "      <td>3.779728e+01</td>\n",
       "      <td>-1.222894e+02</td>\n",
       "      <td>3.333000e+03</td>\n",
       "    </tr>\n",
       "    <tr>\n",
       "      <th>max</th>\n",
       "      <td>8.636600e+04</td>\n",
       "      <td>3.810000e+02</td>\n",
       "      <td>4.551000e+01</td>\n",
       "      <td>-7.357000e+01</td>\n",
       "      <td>3.810000e+02</td>\n",
       "      <td>4.551000e+01</td>\n",
       "      <td>-7.357000e+01</td>\n",
       "      <td>6.234000e+03</td>\n",
       "    </tr>\n",
       "  </tbody>\n",
       "</table>\n",
       "</div>"
      ],
      "text/plain": [
       "       duration_sec  start_station_id  start_station_latitude  \\\n",
       "count  1.863721e+06      1.851950e+06            1.863721e+06   \n",
       "mean   8.573026e+02      1.196744e+02            3.776678e+01   \n",
       "std    2.370379e+03      1.003976e+02            1.057689e-01   \n",
       "min    6.100000e+01      3.000000e+00            3.726331e+01   \n",
       "25%    3.500000e+02      3.300000e+01            3.777106e+01   \n",
       "50%    5.560000e+02      8.900000e+01            3.778107e+01   \n",
       "75%    8.720000e+02      1.860000e+02            3.779625e+01   \n",
       "max    8.636600e+04      3.810000e+02            4.551000e+01   \n",
       "\n",
       "       start_station_longitude  end_station_id  end_station_latitude  \\\n",
       "count             1.863721e+06    1.851950e+06          1.863721e+06   \n",
       "mean             -1.223492e+02    1.181730e+02          3.776690e+01   \n",
       "std               1.654634e-01    1.004403e+02          1.056483e-01   \n",
       "min              -1.224737e+02    3.000000e+00          3.726331e+01   \n",
       "25%              -1.224114e+02    3.000000e+01          3.777106e+01   \n",
       "50%              -1.223974e+02    8.800000e+01          3.778127e+01   \n",
       "75%              -1.222865e+02    1.830000e+02          3.779728e+01   \n",
       "max              -7.357000e+01    3.810000e+02          4.551000e+01   \n",
       "\n",
       "       end_station_longitude       bike_id  \n",
       "count           1.863721e+06  1.863721e+06  \n",
       "mean           -1.223487e+02  2.296851e+03  \n",
       "std             1.650597e-01  1.287733e+03  \n",
       "min            -1.224737e+02  1.100000e+01  \n",
       "25%            -1.224094e+02  1.225000e+03  \n",
       "50%            -1.223971e+02  2.338000e+03  \n",
       "75%            -1.222894e+02  3.333000e+03  \n",
       "max            -7.357000e+01  6.234000e+03  "
      ]
     },
     "execution_count": 11,
     "metadata": {},
     "output_type": "execute_result"
    }
   ],
   "source": [
    "# Let's also get some additional description for stats figures\n",
    "df_new.describe()"
   ]
  },
  {
   "cell_type": "code",
   "execution_count": 12,
   "metadata": {
    "slideshow": {
     "slide_type": "-"
    }
   },
   "outputs": [
    {
     "data": {
      "text/plain": [
       "0"
      ]
     },
     "execution_count": 12,
     "metadata": {},
     "output_type": "execute_result"
    }
   ],
   "source": [
    "# Any duplicates?\n",
    "df_new.duplicated().sum()\n",
    "# No duplicates here - that was straightforward"
   ]
  },
  {
   "cell_type": "code",
   "execution_count": 13,
   "metadata": {
    "scrolled": true,
    "slideshow": {
     "slide_type": "-"
    }
   },
   "outputs": [
    {
     "data": {
      "text/plain": [
       "duration_sec                   0\n",
       "start_time                     0\n",
       "end_time                       0\n",
       "start_station_id           11771\n",
       "start_station_name         11771\n",
       "start_station_latitude         0\n",
       "start_station_longitude        0\n",
       "end_station_id             11771\n",
       "end_station_name           11771\n",
       "end_station_latitude           0\n",
       "end_station_longitude          0\n",
       "bike_id                        0\n",
       "user_type                      0\n",
       "bike_share_for_all_trip        0\n",
       "dtype: int64"
      ]
     },
     "execution_count": 13,
     "metadata": {},
     "output_type": "execute_result"
    }
   ],
   "source": [
    "# What about NaN values?\n",
    "df_new.isna().sum()\n",
    "# It looks like some of the starting and ending values are NaN."
   ]
  },
  {
   "cell_type": "code",
   "execution_count": 14,
   "metadata": {
    "scrolled": true,
    "slideshow": {
     "slide_type": "-"
    }
   },
   "outputs": [
    {
     "data": {
      "text/html": [
       "<div>\n",
       "<style scoped>\n",
       "    .dataframe tbody tr th:only-of-type {\n",
       "        vertical-align: middle;\n",
       "    }\n",
       "\n",
       "    .dataframe tbody tr th {\n",
       "        vertical-align: top;\n",
       "    }\n",
       "\n",
       "    .dataframe thead th {\n",
       "        text-align: right;\n",
       "    }\n",
       "</style>\n",
       "<table border=\"1\" class=\"dataframe\">\n",
       "  <thead>\n",
       "    <tr style=\"text-align: right;\">\n",
       "      <th></th>\n",
       "      <th>duration_sec</th>\n",
       "      <th>start_time</th>\n",
       "      <th>end_time</th>\n",
       "      <th>start_station_id</th>\n",
       "      <th>start_station_name</th>\n",
       "      <th>start_station_latitude</th>\n",
       "      <th>start_station_longitude</th>\n",
       "      <th>end_station_id</th>\n",
       "      <th>end_station_name</th>\n",
       "      <th>end_station_latitude</th>\n",
       "      <th>end_station_longitude</th>\n",
       "      <th>bike_id</th>\n",
       "      <th>user_type</th>\n",
       "      <th>bike_share_for_all_trip</th>\n",
       "    </tr>\n",
       "  </thead>\n",
       "  <tbody>\n",
       "    <tr>\n",
       "      <th>36</th>\n",
       "      <td>196</td>\n",
       "      <td>2018-01-31 22:55:25.4130</td>\n",
       "      <td>2018-01-31 22:58:42.1420</td>\n",
       "      <td>93.0</td>\n",
       "      <td>4th St at Mission Bay Blvd S</td>\n",
       "      <td>37.770407</td>\n",
       "      <td>-122.391198</td>\n",
       "      <td>81.0</td>\n",
       "      <td>Berry St at 4th St</td>\n",
       "      <td>37.775880</td>\n",
       "      <td>-122.393170</td>\n",
       "      <td>1403</td>\n",
       "      <td>Subscriber</td>\n",
       "      <td>No</td>\n",
       "    </tr>\n",
       "    <tr>\n",
       "      <th>53</th>\n",
       "      <td>520</td>\n",
       "      <td>2018-01-31 22:32:52.9330</td>\n",
       "      <td>2018-01-31 22:41:33.1470</td>\n",
       "      <td>146.0</td>\n",
       "      <td>30th St at San Jose Ave</td>\n",
       "      <td>37.742314</td>\n",
       "      <td>-122.423181</td>\n",
       "      <td>98.0</td>\n",
       "      <td>Valencia St at 16th St</td>\n",
       "      <td>37.765052</td>\n",
       "      <td>-122.421866</td>\n",
       "      <td>1278</td>\n",
       "      <td>Subscriber</td>\n",
       "      <td>No</td>\n",
       "    </tr>\n",
       "    <tr>\n",
       "      <th>61</th>\n",
       "      <td>612</td>\n",
       "      <td>2018-01-31 22:21:06.9690</td>\n",
       "      <td>2018-01-31 22:31:18.9740</td>\n",
       "      <td>284.0</td>\n",
       "      <td>Yerba Buena Center for the Arts (Howard St at ...</td>\n",
       "      <td>37.784872</td>\n",
       "      <td>-122.400876</td>\n",
       "      <td>99.0</td>\n",
       "      <td>Folsom St at 15th St</td>\n",
       "      <td>37.767037</td>\n",
       "      <td>-122.415442</td>\n",
       "      <td>3379</td>\n",
       "      <td>Subscriber</td>\n",
       "      <td>No</td>\n",
       "    </tr>\n",
       "    <tr>\n",
       "      <th>86</th>\n",
       "      <td>12167</td>\n",
       "      <td>2018-01-31 18:45:53.0990</td>\n",
       "      <td>2018-01-31 22:08:40.1500</td>\n",
       "      <td>64.0</td>\n",
       "      <td>5th St at Brannan St</td>\n",
       "      <td>37.776754</td>\n",
       "      <td>-122.399018</td>\n",
       "      <td>58.0</td>\n",
       "      <td>Market St at 10th St</td>\n",
       "      <td>37.776619</td>\n",
       "      <td>-122.417385</td>\n",
       "      <td>3483</td>\n",
       "      <td>Customer</td>\n",
       "      <td>No</td>\n",
       "    </tr>\n",
       "    <tr>\n",
       "      <th>92</th>\n",
       "      <td>2440</td>\n",
       "      <td>2018-01-31 21:23:58.0530</td>\n",
       "      <td>2018-01-31 22:04:38.7510</td>\n",
       "      <td>324.0</td>\n",
       "      <td>Union Square (Powell St at Post St)</td>\n",
       "      <td>37.788300</td>\n",
       "      <td>-122.408531</td>\n",
       "      <td>41.0</td>\n",
       "      <td>Golden Gate Ave at Polk St</td>\n",
       "      <td>37.781270</td>\n",
       "      <td>-122.418740</td>\n",
       "      <td>236</td>\n",
       "      <td>Customer</td>\n",
       "      <td>No</td>\n",
       "    </tr>\n",
       "    <tr>\n",
       "      <th>...</th>\n",
       "      <td>...</td>\n",
       "      <td>...</td>\n",
       "      <td>...</td>\n",
       "      <td>...</td>\n",
       "      <td>...</td>\n",
       "      <td>...</td>\n",
       "      <td>...</td>\n",
       "      <td>...</td>\n",
       "      <td>...</td>\n",
       "      <td>...</td>\n",
       "      <td>...</td>\n",
       "      <td>...</td>\n",
       "      <td>...</td>\n",
       "      <td>...</td>\n",
       "    </tr>\n",
       "    <tr>\n",
       "      <th>1863716</th>\n",
       "      <td>473</td>\n",
       "      <td>2018-12-01 00:11:54.8110</td>\n",
       "      <td>2018-12-01 00:19:48.5470</td>\n",
       "      <td>345.0</td>\n",
       "      <td>Hubbell St at 16th St</td>\n",
       "      <td>37.766474</td>\n",
       "      <td>-122.398295</td>\n",
       "      <td>81.0</td>\n",
       "      <td>Berry St at 4th St</td>\n",
       "      <td>37.775880</td>\n",
       "      <td>-122.393170</td>\n",
       "      <td>3035</td>\n",
       "      <td>Subscriber</td>\n",
       "      <td>No</td>\n",
       "    </tr>\n",
       "    <tr>\n",
       "      <th>1863717</th>\n",
       "      <td>841</td>\n",
       "      <td>2018-12-01 00:02:48.7260</td>\n",
       "      <td>2018-12-01 00:16:49.7660</td>\n",
       "      <td>10.0</td>\n",
       "      <td>Washington St at Kearny St</td>\n",
       "      <td>37.795393</td>\n",
       "      <td>-122.404770</td>\n",
       "      <td>58.0</td>\n",
       "      <td>Market St at 10th St</td>\n",
       "      <td>37.776619</td>\n",
       "      <td>-122.417385</td>\n",
       "      <td>2034</td>\n",
       "      <td>Subscriber</td>\n",
       "      <td>No</td>\n",
       "    </tr>\n",
       "    <tr>\n",
       "      <th>1863718</th>\n",
       "      <td>260</td>\n",
       "      <td>2018-12-01 00:05:27.6150</td>\n",
       "      <td>2018-12-01 00:09:47.9560</td>\n",
       "      <td>245.0</td>\n",
       "      <td>Downtown Berkeley BART</td>\n",
       "      <td>37.870139</td>\n",
       "      <td>-122.268422</td>\n",
       "      <td>255.0</td>\n",
       "      <td>Virginia St at Shattuck Ave</td>\n",
       "      <td>37.876573</td>\n",
       "      <td>-122.269528</td>\n",
       "      <td>2243</td>\n",
       "      <td>Subscriber</td>\n",
       "      <td>No</td>\n",
       "    </tr>\n",
       "    <tr>\n",
       "      <th>1863719</th>\n",
       "      <td>292</td>\n",
       "      <td>2018-12-01 00:03:06.5490</td>\n",
       "      <td>2018-12-01 00:07:59.0800</td>\n",
       "      <td>93.0</td>\n",
       "      <td>4th St at Mission Bay Blvd S</td>\n",
       "      <td>37.770407</td>\n",
       "      <td>-122.391198</td>\n",
       "      <td>126.0</td>\n",
       "      <td>Esprit Park</td>\n",
       "      <td>37.761634</td>\n",
       "      <td>-122.390648</td>\n",
       "      <td>545</td>\n",
       "      <td>Subscriber</td>\n",
       "      <td>No</td>\n",
       "    </tr>\n",
       "    <tr>\n",
       "      <th>1863720</th>\n",
       "      <td>150</td>\n",
       "      <td>2018-12-01 00:03:05.7420</td>\n",
       "      <td>2018-12-01 00:05:36.0260</td>\n",
       "      <td>107.0</td>\n",
       "      <td>17th St at Dolores St</td>\n",
       "      <td>37.763015</td>\n",
       "      <td>-122.426497</td>\n",
       "      <td>119.0</td>\n",
       "      <td>18th St at Noe St</td>\n",
       "      <td>37.761047</td>\n",
       "      <td>-122.432642</td>\n",
       "      <td>4319</td>\n",
       "      <td>Subscriber</td>\n",
       "      <td>No</td>\n",
       "    </tr>\n",
       "  </tbody>\n",
       "</table>\n",
       "<p>1858667 rows × 14 columns</p>\n",
       "</div>"
      ],
      "text/plain": [
       "         duration_sec                start_time                  end_time  \\\n",
       "36                196  2018-01-31 22:55:25.4130  2018-01-31 22:58:42.1420   \n",
       "53                520  2018-01-31 22:32:52.9330  2018-01-31 22:41:33.1470   \n",
       "61                612  2018-01-31 22:21:06.9690  2018-01-31 22:31:18.9740   \n",
       "86              12167  2018-01-31 18:45:53.0990  2018-01-31 22:08:40.1500   \n",
       "92               2440  2018-01-31 21:23:58.0530  2018-01-31 22:04:38.7510   \n",
       "...               ...                       ...                       ...   \n",
       "1863716           473  2018-12-01 00:11:54.8110  2018-12-01 00:19:48.5470   \n",
       "1863717           841  2018-12-01 00:02:48.7260  2018-12-01 00:16:49.7660   \n",
       "1863718           260  2018-12-01 00:05:27.6150  2018-12-01 00:09:47.9560   \n",
       "1863719           292  2018-12-01 00:03:06.5490  2018-12-01 00:07:59.0800   \n",
       "1863720           150  2018-12-01 00:03:05.7420  2018-12-01 00:05:36.0260   \n",
       "\n",
       "         start_station_id                                 start_station_name  \\\n",
       "36                   93.0                       4th St at Mission Bay Blvd S   \n",
       "53                  146.0                            30th St at San Jose Ave   \n",
       "61                  284.0  Yerba Buena Center for the Arts (Howard St at ...   \n",
       "86                   64.0                               5th St at Brannan St   \n",
       "92                  324.0                Union Square (Powell St at Post St)   \n",
       "...                   ...                                                ...   \n",
       "1863716             345.0                              Hubbell St at 16th St   \n",
       "1863717              10.0                         Washington St at Kearny St   \n",
       "1863718             245.0                             Downtown Berkeley BART   \n",
       "1863719              93.0                       4th St at Mission Bay Blvd S   \n",
       "1863720             107.0                              17th St at Dolores St   \n",
       "\n",
       "         start_station_latitude  start_station_longitude  end_station_id  \\\n",
       "36                    37.770407              -122.391198            81.0   \n",
       "53                    37.742314              -122.423181            98.0   \n",
       "61                    37.784872              -122.400876            99.0   \n",
       "86                    37.776754              -122.399018            58.0   \n",
       "92                    37.788300              -122.408531            41.0   \n",
       "...                         ...                      ...             ...   \n",
       "1863716               37.766474              -122.398295            81.0   \n",
       "1863717               37.795393              -122.404770            58.0   \n",
       "1863718               37.870139              -122.268422           255.0   \n",
       "1863719               37.770407              -122.391198           126.0   \n",
       "1863720               37.763015              -122.426497           119.0   \n",
       "\n",
       "                    end_station_name  end_station_latitude  \\\n",
       "36                Berry St at 4th St             37.775880   \n",
       "53            Valencia St at 16th St             37.765052   \n",
       "61              Folsom St at 15th St             37.767037   \n",
       "86              Market St at 10th St             37.776619   \n",
       "92        Golden Gate Ave at Polk St             37.781270   \n",
       "...                              ...                   ...   \n",
       "1863716           Berry St at 4th St             37.775880   \n",
       "1863717         Market St at 10th St             37.776619   \n",
       "1863718  Virginia St at Shattuck Ave             37.876573   \n",
       "1863719                  Esprit Park             37.761634   \n",
       "1863720            18th St at Noe St             37.761047   \n",
       "\n",
       "         end_station_longitude  bike_id   user_type bike_share_for_all_trip  \n",
       "36                 -122.393170     1403  Subscriber                      No  \n",
       "53                 -122.421866     1278  Subscriber                      No  \n",
       "61                 -122.415442     3379  Subscriber                      No  \n",
       "86                 -122.417385     3483    Customer                      No  \n",
       "92                 -122.418740      236    Customer                      No  \n",
       "...                        ...      ...         ...                     ...  \n",
       "1863716            -122.393170     3035  Subscriber                      No  \n",
       "1863717            -122.417385     2034  Subscriber                      No  \n",
       "1863718            -122.269528     2243  Subscriber                      No  \n",
       "1863719            -122.390648      545  Subscriber                      No  \n",
       "1863720            -122.432642     4319  Subscriber                      No  \n",
       "\n",
       "[1858667 rows x 14 columns]"
      ]
     },
     "execution_count": 14,
     "metadata": {},
     "output_type": "execute_result"
    }
   ],
   "source": [
    "#Are there duplicated bike ids?\n",
    "df_new[df_new.bike_id.duplicated()]"
   ]
  },
  {
   "cell_type": "code",
   "execution_count": 15,
   "metadata": {
    "slideshow": {
     "slide_type": "-"
    }
   },
   "outputs": [
    {
     "data": {
      "text/plain": [
       "Subscriber    1583554\n",
       "Customer       280167\n",
       "Name: user_type, dtype: int64"
      ]
     },
     "execution_count": 15,
     "metadata": {},
     "output_type": "execute_result"
    }
   ],
   "source": [
    "df_new.user_type.value_counts()"
   ]
  },
  {
   "cell_type": "markdown",
   "metadata": {
    "slideshow": {
     "slide_type": "-"
    }
   },
   "source": [
    "### Cleaning"
   ]
  },
  {
   "cell_type": "markdown",
   "metadata": {
    "slideshow": {
     "slide_type": "-"
    }
   },
   "source": [
    "Before assessing the data to draw conclusions, there are some quality issues (this dataset is tidy) that need to be cleaned (from left to right):"
   ]
  },
  {
   "cell_type": "markdown",
   "metadata": {
    "slideshow": {
     "slide_type": "-"
    }
   },
   "source": [
    "- There are missing values throughout the dataset (start_station_id, start_station_name, end_station_id, end_station_name, member_birth_year, member_gender)\n",
    "- Start/end times are not in the timestamp format\n",
    "- The following columns are not in object format:\n",
    "  - start_station_id\n",
    "  - end_station_id\n",
    "  - bike_id\n",
    "- There are "
   ]
  },
  {
   "cell_type": "code",
   "execution_count": 16,
   "metadata": {
    "slideshow": {
     "slide_type": "-"
    }
   },
   "outputs": [],
   "source": [
    "# Save the original data set and save as a new, cleaned version while I clean things up\n",
    "df_cleaned = df_new.copy()"
   ]
  },
  {
   "cell_type": "markdown",
   "metadata": {
    "slideshow": {
     "slide_type": "-"
    }
   },
   "source": [
    "#### Define: Converting several of the columns to the appropriate data type:"
   ]
  },
  {
   "cell_type": "markdown",
   "metadata": {
    "slideshow": {
     "slide_type": "-"
    }
   },
   "source": [
    "- Starting and ending times to the timestamp format\n",
    "- User type, gender, and bike share for all to category format\n",
    "- Bike ID, start station ID, and end station ID to object format"
   ]
  },
  {
   "cell_type": "code",
   "execution_count": 17,
   "metadata": {
    "slideshow": {
     "slide_type": "-"
    }
   },
   "outputs": [],
   "source": [
    "# Changing the format to datetime\n",
    "df_cleaned.start_time = pd.to_datetime(df_cleaned.start_time)\n",
    "df_cleaned.end_time = pd.to_datetime(df_cleaned.end_time)"
   ]
  },
  {
   "cell_type": "code",
   "execution_count": 18,
   "metadata": {
    "slideshow": {
     "slide_type": "-"
    }
   },
   "outputs": [],
   "source": [
    "# Changing the user_type, and bike_share_for_all_trip to category format\n",
    "df_cleaned.user_type  = df_cleaned.user_type.astype('category')\n",
    "df_cleaned.bike_share_for_all_trip = df_cleaned.bike_share_for_all_trip.astype('category')"
   ]
  },
  {
   "cell_type": "code",
   "execution_count": 19,
   "metadata": {
    "slideshow": {
     "slide_type": "-"
    }
   },
   "outputs": [],
   "source": [
    "# Changing the bike_id, start_station_id, and end_station_id to object\n",
    "df_cleaned.bike_id = df_cleaned.bike_id.astype(str)\n",
    "df_cleaned.start_station_id = df_cleaned.start_station_id.astype(str)\n",
    "df_cleaned.end_station_id = df_cleaned.end_station_id.astype(str)"
   ]
  },
  {
   "cell_type": "code",
   "execution_count": 20,
   "metadata": {
    "slideshow": {
     "slide_type": "-"
    }
   },
   "outputs": [
    {
     "name": "stdout",
     "output_type": "stream",
     "text": [
      "<class 'pandas.core.frame.DataFrame'>\n",
      "RangeIndex: 1863721 entries, 0 to 1863720\n",
      "Data columns (total 14 columns):\n",
      " #   Column                   Non-Null Count    Dtype         \n",
      "---  ------                   --------------    -----         \n",
      " 0   duration_sec             1863721 non-null  int64         \n",
      " 1   start_time               1863721 non-null  datetime64[ns]\n",
      " 2   end_time                 1863721 non-null  datetime64[ns]\n",
      " 3   start_station_id         1863721 non-null  object        \n",
      " 4   start_station_name       1851950 non-null  object        \n",
      " 5   start_station_latitude   1863721 non-null  float64       \n",
      " 6   start_station_longitude  1863721 non-null  float64       \n",
      " 7   end_station_id           1863721 non-null  object        \n",
      " 8   end_station_name         1851950 non-null  object        \n",
      " 9   end_station_latitude     1863721 non-null  float64       \n",
      " 10  end_station_longitude    1863721 non-null  float64       \n",
      " 11  bike_id                  1863721 non-null  object        \n",
      " 12  user_type                1863721 non-null  category      \n",
      " 13  bike_share_for_all_trip  1863721 non-null  category      \n",
      "dtypes: category(2), datetime64[ns](2), float64(4), int64(1), object(5)\n",
      "memory usage: 174.2+ MB\n"
     ]
    }
   ],
   "source": [
    "df_cleaned.info(null_counts = True)"
   ]
  },
  {
   "cell_type": "code",
   "execution_count": 21,
   "metadata": {
    "scrolled": true,
    "slideshow": {
     "slide_type": "-"
    }
   },
   "outputs": [
    {
     "data": {
      "text/html": [
       "<div>\n",
       "<style scoped>\n",
       "    .dataframe tbody tr th:only-of-type {\n",
       "        vertical-align: middle;\n",
       "    }\n",
       "\n",
       "    .dataframe tbody tr th {\n",
       "        vertical-align: top;\n",
       "    }\n",
       "\n",
       "    .dataframe thead th {\n",
       "        text-align: right;\n",
       "    }\n",
       "</style>\n",
       "<table border=\"1\" class=\"dataframe\">\n",
       "  <thead>\n",
       "    <tr style=\"text-align: right;\">\n",
       "      <th></th>\n",
       "      <th>duration_sec</th>\n",
       "      <th>start_time</th>\n",
       "      <th>end_time</th>\n",
       "      <th>start_station_id</th>\n",
       "      <th>start_station_name</th>\n",
       "      <th>start_station_latitude</th>\n",
       "      <th>start_station_longitude</th>\n",
       "      <th>end_station_id</th>\n",
       "      <th>end_station_name</th>\n",
       "      <th>end_station_latitude</th>\n",
       "      <th>end_station_longitude</th>\n",
       "      <th>bike_id</th>\n",
       "      <th>user_type</th>\n",
       "      <th>bike_share_for_all_trip</th>\n",
       "    </tr>\n",
       "  </thead>\n",
       "  <tbody>\n",
       "    <tr>\n",
       "      <th>0</th>\n",
       "      <td>75284</td>\n",
       "      <td>2018-01-31 22:52:35.239</td>\n",
       "      <td>2018-02-01 19:47:19.824</td>\n",
       "      <td>120.0</td>\n",
       "      <td>Mission Dolores Park</td>\n",
       "      <td>37.761420</td>\n",
       "      <td>-122.426435</td>\n",
       "      <td>285.0</td>\n",
       "      <td>Webster St at O'Farrell St</td>\n",
       "      <td>37.783521</td>\n",
       "      <td>-122.431158</td>\n",
       "      <td>2765</td>\n",
       "      <td>Subscriber</td>\n",
       "      <td>No</td>\n",
       "    </tr>\n",
       "    <tr>\n",
       "      <th>1</th>\n",
       "      <td>85422</td>\n",
       "      <td>2018-01-31 16:13:34.351</td>\n",
       "      <td>2018-02-01 15:57:17.310</td>\n",
       "      <td>15.0</td>\n",
       "      <td>San Francisco Ferry Building (Harry Bridges Pl...</td>\n",
       "      <td>37.795392</td>\n",
       "      <td>-122.394203</td>\n",
       "      <td>15.0</td>\n",
       "      <td>San Francisco Ferry Building (Harry Bridges Pl...</td>\n",
       "      <td>37.795392</td>\n",
       "      <td>-122.394203</td>\n",
       "      <td>2815</td>\n",
       "      <td>Customer</td>\n",
       "      <td>No</td>\n",
       "    </tr>\n",
       "    <tr>\n",
       "      <th>2</th>\n",
       "      <td>71576</td>\n",
       "      <td>2018-01-31 14:23:55.889</td>\n",
       "      <td>2018-02-01 10:16:52.116</td>\n",
       "      <td>304.0</td>\n",
       "      <td>Jackson St at 5th St</td>\n",
       "      <td>37.348759</td>\n",
       "      <td>-121.894798</td>\n",
       "      <td>296.0</td>\n",
       "      <td>5th St at Virginia St</td>\n",
       "      <td>37.325998</td>\n",
       "      <td>-121.877120</td>\n",
       "      <td>3039</td>\n",
       "      <td>Customer</td>\n",
       "      <td>No</td>\n",
       "    </tr>\n",
       "    <tr>\n",
       "      <th>3</th>\n",
       "      <td>61076</td>\n",
       "      <td>2018-01-31 14:53:23.562</td>\n",
       "      <td>2018-02-01 07:51:20.500</td>\n",
       "      <td>75.0</td>\n",
       "      <td>Market St at Franklin St</td>\n",
       "      <td>37.773793</td>\n",
       "      <td>-122.421239</td>\n",
       "      <td>47.0</td>\n",
       "      <td>4th St at Harrison St</td>\n",
       "      <td>37.780955</td>\n",
       "      <td>-122.399749</td>\n",
       "      <td>321</td>\n",
       "      <td>Customer</td>\n",
       "      <td>No</td>\n",
       "    </tr>\n",
       "    <tr>\n",
       "      <th>4</th>\n",
       "      <td>39966</td>\n",
       "      <td>2018-01-31 19:52:24.667</td>\n",
       "      <td>2018-02-01 06:58:31.053</td>\n",
       "      <td>74.0</td>\n",
       "      <td>Laguna St at Hayes St</td>\n",
       "      <td>37.776435</td>\n",
       "      <td>-122.426244</td>\n",
       "      <td>19.0</td>\n",
       "      <td>Post St at Kearny St</td>\n",
       "      <td>37.788975</td>\n",
       "      <td>-122.403452</td>\n",
       "      <td>617</td>\n",
       "      <td>Subscriber</td>\n",
       "      <td>No</td>\n",
       "    </tr>\n",
       "  </tbody>\n",
       "</table>\n",
       "</div>"
      ],
      "text/plain": [
       "   duration_sec              start_time                end_time  \\\n",
       "0         75284 2018-01-31 22:52:35.239 2018-02-01 19:47:19.824   \n",
       "1         85422 2018-01-31 16:13:34.351 2018-02-01 15:57:17.310   \n",
       "2         71576 2018-01-31 14:23:55.889 2018-02-01 10:16:52.116   \n",
       "3         61076 2018-01-31 14:53:23.562 2018-02-01 07:51:20.500   \n",
       "4         39966 2018-01-31 19:52:24.667 2018-02-01 06:58:31.053   \n",
       "\n",
       "  start_station_id                                 start_station_name  \\\n",
       "0            120.0                               Mission Dolores Park   \n",
       "1             15.0  San Francisco Ferry Building (Harry Bridges Pl...   \n",
       "2            304.0                               Jackson St at 5th St   \n",
       "3             75.0                           Market St at Franklin St   \n",
       "4             74.0                              Laguna St at Hayes St   \n",
       "\n",
       "   start_station_latitude  start_station_longitude end_station_id  \\\n",
       "0               37.761420              -122.426435          285.0   \n",
       "1               37.795392              -122.394203           15.0   \n",
       "2               37.348759              -121.894798          296.0   \n",
       "3               37.773793              -122.421239           47.0   \n",
       "4               37.776435              -122.426244           19.0   \n",
       "\n",
       "                                    end_station_name  end_station_latitude  \\\n",
       "0                         Webster St at O'Farrell St             37.783521   \n",
       "1  San Francisco Ferry Building (Harry Bridges Pl...             37.795392   \n",
       "2                              5th St at Virginia St             37.325998   \n",
       "3                              4th St at Harrison St             37.780955   \n",
       "4                               Post St at Kearny St             37.788975   \n",
       "\n",
       "   end_station_longitude bike_id   user_type bike_share_for_all_trip  \n",
       "0            -122.431158    2765  Subscriber                      No  \n",
       "1            -122.394203    2815    Customer                      No  \n",
       "2            -121.877120    3039    Customer                      No  \n",
       "3            -122.399749     321    Customer                      No  \n",
       "4            -122.403452     617  Subscriber                      No  "
      ]
     },
     "execution_count": 21,
     "metadata": {},
     "output_type": "execute_result"
    }
   ],
   "source": [
    "df_cleaned.head()"
   ]
  },
  {
   "cell_type": "markdown",
   "metadata": {
    "slideshow": {
     "slide_type": "-"
    }
   },
   "source": [
    "#### Define: Records where the start and end station values are null"
   ]
  },
  {
   "cell_type": "code",
   "execution_count": 22,
   "metadata": {
    "slideshow": {
     "slide_type": "-"
    }
   },
   "outputs": [
    {
     "data": {
      "text/html": [
       "<div>\n",
       "<style scoped>\n",
       "    .dataframe tbody tr th:only-of-type {\n",
       "        vertical-align: middle;\n",
       "    }\n",
       "\n",
       "    .dataframe tbody tr th {\n",
       "        vertical-align: top;\n",
       "    }\n",
       "\n",
       "    .dataframe thead th {\n",
       "        text-align: right;\n",
       "    }\n",
       "</style>\n",
       "<table border=\"1\" class=\"dataframe\">\n",
       "  <thead>\n",
       "    <tr style=\"text-align: right;\">\n",
       "      <th></th>\n",
       "      <th>duration_sec</th>\n",
       "      <th>start_time</th>\n",
       "      <th>end_time</th>\n",
       "      <th>start_station_id</th>\n",
       "      <th>start_station_name</th>\n",
       "      <th>start_station_latitude</th>\n",
       "      <th>start_station_longitude</th>\n",
       "      <th>end_station_id</th>\n",
       "      <th>end_station_name</th>\n",
       "      <th>end_station_latitude</th>\n",
       "      <th>end_station_longitude</th>\n",
       "      <th>bike_id</th>\n",
       "      <th>user_type</th>\n",
       "      <th>bike_share_for_all_trip</th>\n",
       "    </tr>\n",
       "  </thead>\n",
       "  <tbody>\n",
       "    <tr>\n",
       "      <th>623364</th>\n",
       "      <td>5572</td>\n",
       "      <td>2018-06-30 20:58:31.855</td>\n",
       "      <td>2018-06-30 22:31:24.593</td>\n",
       "      <td>nan</td>\n",
       "      <td>NaN</td>\n",
       "      <td>37.40</td>\n",
       "      <td>-121.94</td>\n",
       "      <td>nan</td>\n",
       "      <td>NaN</td>\n",
       "      <td>37.40</td>\n",
       "      <td>-121.94</td>\n",
       "      <td>4202</td>\n",
       "      <td>Customer</td>\n",
       "      <td>No</td>\n",
       "    </tr>\n",
       "    <tr>\n",
       "      <th>623376</th>\n",
       "      <td>573</td>\n",
       "      <td>2018-06-30 22:12:27.511</td>\n",
       "      <td>2018-06-30 22:22:01.174</td>\n",
       "      <td>nan</td>\n",
       "      <td>NaN</td>\n",
       "      <td>37.40</td>\n",
       "      <td>-121.94</td>\n",
       "      <td>nan</td>\n",
       "      <td>NaN</td>\n",
       "      <td>37.40</td>\n",
       "      <td>-121.93</td>\n",
       "      <td>4095</td>\n",
       "      <td>Subscriber</td>\n",
       "      <td>Yes</td>\n",
       "    </tr>\n",
       "    <tr>\n",
       "      <th>623393</th>\n",
       "      <td>850</td>\n",
       "      <td>2018-06-30 22:01:25.585</td>\n",
       "      <td>2018-06-30 22:15:36.151</td>\n",
       "      <td>nan</td>\n",
       "      <td>NaN</td>\n",
       "      <td>37.41</td>\n",
       "      <td>-121.94</td>\n",
       "      <td>nan</td>\n",
       "      <td>NaN</td>\n",
       "      <td>37.41</td>\n",
       "      <td>-121.95</td>\n",
       "      <td>4122</td>\n",
       "      <td>Customer</td>\n",
       "      <td>No</td>\n",
       "    </tr>\n",
       "    <tr>\n",
       "      <th>623429</th>\n",
       "      <td>562</td>\n",
       "      <td>2018-06-30 21:52:05.118</td>\n",
       "      <td>2018-06-30 22:01:27.440</td>\n",
       "      <td>nan</td>\n",
       "      <td>NaN</td>\n",
       "      <td>37.41</td>\n",
       "      <td>-121.94</td>\n",
       "      <td>nan</td>\n",
       "      <td>NaN</td>\n",
       "      <td>37.42</td>\n",
       "      <td>-121.94</td>\n",
       "      <td>4184</td>\n",
       "      <td>Subscriber</td>\n",
       "      <td>No</td>\n",
       "    </tr>\n",
       "    <tr>\n",
       "      <th>623456</th>\n",
       "      <td>819</td>\n",
       "      <td>2018-06-30 21:37:34.506</td>\n",
       "      <td>2018-06-30 21:51:13.729</td>\n",
       "      <td>nan</td>\n",
       "      <td>NaN</td>\n",
       "      <td>37.41</td>\n",
       "      <td>-121.94</td>\n",
       "      <td>nan</td>\n",
       "      <td>NaN</td>\n",
       "      <td>37.41</td>\n",
       "      <td>-121.96</td>\n",
       "      <td>4137</td>\n",
       "      <td>Customer</td>\n",
       "      <td>No</td>\n",
       "    </tr>\n",
       "    <tr>\n",
       "      <th>...</th>\n",
       "      <td>...</td>\n",
       "      <td>...</td>\n",
       "      <td>...</td>\n",
       "      <td>...</td>\n",
       "      <td>...</td>\n",
       "      <td>...</td>\n",
       "      <td>...</td>\n",
       "      <td>...</td>\n",
       "      <td>...</td>\n",
       "      <td>...</td>\n",
       "      <td>...</td>\n",
       "      <td>...</td>\n",
       "      <td>...</td>\n",
       "      <td>...</td>\n",
       "    </tr>\n",
       "    <tr>\n",
       "      <th>1860854</th>\n",
       "      <td>663</td>\n",
       "      <td>2018-12-02 09:47:44.116</td>\n",
       "      <td>2018-12-02 09:58:47.162</td>\n",
       "      <td>nan</td>\n",
       "      <td>NaN</td>\n",
       "      <td>37.40</td>\n",
       "      <td>-121.92</td>\n",
       "      <td>nan</td>\n",
       "      <td>NaN</td>\n",
       "      <td>37.39</td>\n",
       "      <td>-121.93</td>\n",
       "      <td>4284</td>\n",
       "      <td>Customer</td>\n",
       "      <td>No</td>\n",
       "    </tr>\n",
       "    <tr>\n",
       "      <th>1861409</th>\n",
       "      <td>1141</td>\n",
       "      <td>2018-12-01 21:22:41.646</td>\n",
       "      <td>2018-12-01 21:41:42.727</td>\n",
       "      <td>nan</td>\n",
       "      <td>NaN</td>\n",
       "      <td>37.41</td>\n",
       "      <td>-121.96</td>\n",
       "      <td>nan</td>\n",
       "      <td>NaN</td>\n",
       "      <td>37.41</td>\n",
       "      <td>-121.94</td>\n",
       "      <td>4256</td>\n",
       "      <td>Subscriber</td>\n",
       "      <td>No</td>\n",
       "    </tr>\n",
       "    <tr>\n",
       "      <th>1861570</th>\n",
       "      <td>753</td>\n",
       "      <td>2018-12-01 19:57:14.201</td>\n",
       "      <td>2018-12-01 20:09:47.858</td>\n",
       "      <td>nan</td>\n",
       "      <td>NaN</td>\n",
       "      <td>37.41</td>\n",
       "      <td>-121.94</td>\n",
       "      <td>nan</td>\n",
       "      <td>NaN</td>\n",
       "      <td>37.40</td>\n",
       "      <td>-121.93</td>\n",
       "      <td>4181</td>\n",
       "      <td>Subscriber</td>\n",
       "      <td>No</td>\n",
       "    </tr>\n",
       "    <tr>\n",
       "      <th>1862625</th>\n",
       "      <td>2244</td>\n",
       "      <td>2018-12-01 14:01:06.252</td>\n",
       "      <td>2018-12-01 14:38:30.895</td>\n",
       "      <td>nan</td>\n",
       "      <td>NaN</td>\n",
       "      <td>37.41</td>\n",
       "      <td>-121.93</td>\n",
       "      <td>nan</td>\n",
       "      <td>NaN</td>\n",
       "      <td>37.42</td>\n",
       "      <td>-121.96</td>\n",
       "      <td>4238</td>\n",
       "      <td>Customer</td>\n",
       "      <td>No</td>\n",
       "    </tr>\n",
       "    <tr>\n",
       "      <th>1863272</th>\n",
       "      <td>1269</td>\n",
       "      <td>2018-12-01 10:54:13.764</td>\n",
       "      <td>2018-12-01 11:15:23.036</td>\n",
       "      <td>nan</td>\n",
       "      <td>NaN</td>\n",
       "      <td>37.42</td>\n",
       "      <td>-121.96</td>\n",
       "      <td>nan</td>\n",
       "      <td>NaN</td>\n",
       "      <td>37.40</td>\n",
       "      <td>-121.92</td>\n",
       "      <td>4284</td>\n",
       "      <td>Customer</td>\n",
       "      <td>No</td>\n",
       "    </tr>\n",
       "  </tbody>\n",
       "</table>\n",
       "<p>11771 rows × 14 columns</p>\n",
       "</div>"
      ],
      "text/plain": [
       "         duration_sec              start_time                end_time  \\\n",
       "623364           5572 2018-06-30 20:58:31.855 2018-06-30 22:31:24.593   \n",
       "623376            573 2018-06-30 22:12:27.511 2018-06-30 22:22:01.174   \n",
       "623393            850 2018-06-30 22:01:25.585 2018-06-30 22:15:36.151   \n",
       "623429            562 2018-06-30 21:52:05.118 2018-06-30 22:01:27.440   \n",
       "623456            819 2018-06-30 21:37:34.506 2018-06-30 21:51:13.729   \n",
       "...               ...                     ...                     ...   \n",
       "1860854           663 2018-12-02 09:47:44.116 2018-12-02 09:58:47.162   \n",
       "1861409          1141 2018-12-01 21:22:41.646 2018-12-01 21:41:42.727   \n",
       "1861570           753 2018-12-01 19:57:14.201 2018-12-01 20:09:47.858   \n",
       "1862625          2244 2018-12-01 14:01:06.252 2018-12-01 14:38:30.895   \n",
       "1863272          1269 2018-12-01 10:54:13.764 2018-12-01 11:15:23.036   \n",
       "\n",
       "        start_station_id start_station_name  start_station_latitude  \\\n",
       "623364               nan                NaN                   37.40   \n",
       "623376               nan                NaN                   37.40   \n",
       "623393               nan                NaN                   37.41   \n",
       "623429               nan                NaN                   37.41   \n",
       "623456               nan                NaN                   37.41   \n",
       "...                  ...                ...                     ...   \n",
       "1860854              nan                NaN                   37.40   \n",
       "1861409              nan                NaN                   37.41   \n",
       "1861570              nan                NaN                   37.41   \n",
       "1862625              nan                NaN                   37.41   \n",
       "1863272              nan                NaN                   37.42   \n",
       "\n",
       "         start_station_longitude end_station_id end_station_name  \\\n",
       "623364                   -121.94            nan              NaN   \n",
       "623376                   -121.94            nan              NaN   \n",
       "623393                   -121.94            nan              NaN   \n",
       "623429                   -121.94            nan              NaN   \n",
       "623456                   -121.94            nan              NaN   \n",
       "...                          ...            ...              ...   \n",
       "1860854                  -121.92            nan              NaN   \n",
       "1861409                  -121.96            nan              NaN   \n",
       "1861570                  -121.94            nan              NaN   \n",
       "1862625                  -121.93            nan              NaN   \n",
       "1863272                  -121.96            nan              NaN   \n",
       "\n",
       "         end_station_latitude  end_station_longitude bike_id   user_type  \\\n",
       "623364                  37.40                -121.94    4202    Customer   \n",
       "623376                  37.40                -121.93    4095  Subscriber   \n",
       "623393                  37.41                -121.95    4122    Customer   \n",
       "623429                  37.42                -121.94    4184  Subscriber   \n",
       "623456                  37.41                -121.96    4137    Customer   \n",
       "...                       ...                    ...     ...         ...   \n",
       "1860854                 37.39                -121.93    4284    Customer   \n",
       "1861409                 37.41                -121.94    4256  Subscriber   \n",
       "1861570                 37.40                -121.93    4181  Subscriber   \n",
       "1862625                 37.42                -121.96    4238    Customer   \n",
       "1863272                 37.40                -121.92    4284    Customer   \n",
       "\n",
       "        bike_share_for_all_trip  \n",
       "623364                       No  \n",
       "623376                      Yes  \n",
       "623393                       No  \n",
       "623429                       No  \n",
       "623456                       No  \n",
       "...                         ...  \n",
       "1860854                      No  \n",
       "1861409                      No  \n",
       "1861570                      No  \n",
       "1862625                      No  \n",
       "1863272                      No  \n",
       "\n",
       "[11771 rows x 14 columns]"
      ]
     },
     "execution_count": 22,
     "metadata": {},
     "output_type": "execute_result"
    }
   ],
   "source": [
    "df_cleaned[df_cleaned.start_station_name.isnull()]"
   ]
  },
  {
   "cell_type": "code",
   "execution_count": 23,
   "metadata": {
    "scrolled": false,
    "slideshow": {
     "slide_type": "-"
    }
   },
   "outputs": [
    {
     "data": {
      "text/html": [
       "<div>\n",
       "<style scoped>\n",
       "    .dataframe tbody tr th:only-of-type {\n",
       "        vertical-align: middle;\n",
       "    }\n",
       "\n",
       "    .dataframe tbody tr th {\n",
       "        vertical-align: top;\n",
       "    }\n",
       "\n",
       "    .dataframe thead th {\n",
       "        text-align: right;\n",
       "    }\n",
       "</style>\n",
       "<table border=\"1\" class=\"dataframe\">\n",
       "  <thead>\n",
       "    <tr style=\"text-align: right;\">\n",
       "      <th></th>\n",
       "      <th>duration_sec</th>\n",
       "      <th>start_time</th>\n",
       "      <th>end_time</th>\n",
       "      <th>start_station_id</th>\n",
       "      <th>start_station_name</th>\n",
       "      <th>start_station_latitude</th>\n",
       "      <th>start_station_longitude</th>\n",
       "      <th>end_station_id</th>\n",
       "      <th>end_station_name</th>\n",
       "      <th>end_station_latitude</th>\n",
       "      <th>end_station_longitude</th>\n",
       "      <th>bike_id</th>\n",
       "      <th>user_type</th>\n",
       "      <th>bike_share_for_all_trip</th>\n",
       "    </tr>\n",
       "  </thead>\n",
       "  <tbody>\n",
       "    <tr>\n",
       "      <th>623364</th>\n",
       "      <td>5572</td>\n",
       "      <td>2018-06-30 20:58:31.855</td>\n",
       "      <td>2018-06-30 22:31:24.593</td>\n",
       "      <td>nan</td>\n",
       "      <td>NaN</td>\n",
       "      <td>37.40</td>\n",
       "      <td>-121.94</td>\n",
       "      <td>nan</td>\n",
       "      <td>NaN</td>\n",
       "      <td>37.40</td>\n",
       "      <td>-121.94</td>\n",
       "      <td>4202</td>\n",
       "      <td>Customer</td>\n",
       "      <td>No</td>\n",
       "    </tr>\n",
       "    <tr>\n",
       "      <th>623376</th>\n",
       "      <td>573</td>\n",
       "      <td>2018-06-30 22:12:27.511</td>\n",
       "      <td>2018-06-30 22:22:01.174</td>\n",
       "      <td>nan</td>\n",
       "      <td>NaN</td>\n",
       "      <td>37.40</td>\n",
       "      <td>-121.94</td>\n",
       "      <td>nan</td>\n",
       "      <td>NaN</td>\n",
       "      <td>37.40</td>\n",
       "      <td>-121.93</td>\n",
       "      <td>4095</td>\n",
       "      <td>Subscriber</td>\n",
       "      <td>Yes</td>\n",
       "    </tr>\n",
       "    <tr>\n",
       "      <th>623393</th>\n",
       "      <td>850</td>\n",
       "      <td>2018-06-30 22:01:25.585</td>\n",
       "      <td>2018-06-30 22:15:36.151</td>\n",
       "      <td>nan</td>\n",
       "      <td>NaN</td>\n",
       "      <td>37.41</td>\n",
       "      <td>-121.94</td>\n",
       "      <td>nan</td>\n",
       "      <td>NaN</td>\n",
       "      <td>37.41</td>\n",
       "      <td>-121.95</td>\n",
       "      <td>4122</td>\n",
       "      <td>Customer</td>\n",
       "      <td>No</td>\n",
       "    </tr>\n",
       "    <tr>\n",
       "      <th>623429</th>\n",
       "      <td>562</td>\n",
       "      <td>2018-06-30 21:52:05.118</td>\n",
       "      <td>2018-06-30 22:01:27.440</td>\n",
       "      <td>nan</td>\n",
       "      <td>NaN</td>\n",
       "      <td>37.41</td>\n",
       "      <td>-121.94</td>\n",
       "      <td>nan</td>\n",
       "      <td>NaN</td>\n",
       "      <td>37.42</td>\n",
       "      <td>-121.94</td>\n",
       "      <td>4184</td>\n",
       "      <td>Subscriber</td>\n",
       "      <td>No</td>\n",
       "    </tr>\n",
       "    <tr>\n",
       "      <th>623456</th>\n",
       "      <td>819</td>\n",
       "      <td>2018-06-30 21:37:34.506</td>\n",
       "      <td>2018-06-30 21:51:13.729</td>\n",
       "      <td>nan</td>\n",
       "      <td>NaN</td>\n",
       "      <td>37.41</td>\n",
       "      <td>-121.94</td>\n",
       "      <td>nan</td>\n",
       "      <td>NaN</td>\n",
       "      <td>37.41</td>\n",
       "      <td>-121.96</td>\n",
       "      <td>4137</td>\n",
       "      <td>Customer</td>\n",
       "      <td>No</td>\n",
       "    </tr>\n",
       "    <tr>\n",
       "      <th>...</th>\n",
       "      <td>...</td>\n",
       "      <td>...</td>\n",
       "      <td>...</td>\n",
       "      <td>...</td>\n",
       "      <td>...</td>\n",
       "      <td>...</td>\n",
       "      <td>...</td>\n",
       "      <td>...</td>\n",
       "      <td>...</td>\n",
       "      <td>...</td>\n",
       "      <td>...</td>\n",
       "      <td>...</td>\n",
       "      <td>...</td>\n",
       "      <td>...</td>\n",
       "    </tr>\n",
       "    <tr>\n",
       "      <th>1860854</th>\n",
       "      <td>663</td>\n",
       "      <td>2018-12-02 09:47:44.116</td>\n",
       "      <td>2018-12-02 09:58:47.162</td>\n",
       "      <td>nan</td>\n",
       "      <td>NaN</td>\n",
       "      <td>37.40</td>\n",
       "      <td>-121.92</td>\n",
       "      <td>nan</td>\n",
       "      <td>NaN</td>\n",
       "      <td>37.39</td>\n",
       "      <td>-121.93</td>\n",
       "      <td>4284</td>\n",
       "      <td>Customer</td>\n",
       "      <td>No</td>\n",
       "    </tr>\n",
       "    <tr>\n",
       "      <th>1861409</th>\n",
       "      <td>1141</td>\n",
       "      <td>2018-12-01 21:22:41.646</td>\n",
       "      <td>2018-12-01 21:41:42.727</td>\n",
       "      <td>nan</td>\n",
       "      <td>NaN</td>\n",
       "      <td>37.41</td>\n",
       "      <td>-121.96</td>\n",
       "      <td>nan</td>\n",
       "      <td>NaN</td>\n",
       "      <td>37.41</td>\n",
       "      <td>-121.94</td>\n",
       "      <td>4256</td>\n",
       "      <td>Subscriber</td>\n",
       "      <td>No</td>\n",
       "    </tr>\n",
       "    <tr>\n",
       "      <th>1861570</th>\n",
       "      <td>753</td>\n",
       "      <td>2018-12-01 19:57:14.201</td>\n",
       "      <td>2018-12-01 20:09:47.858</td>\n",
       "      <td>nan</td>\n",
       "      <td>NaN</td>\n",
       "      <td>37.41</td>\n",
       "      <td>-121.94</td>\n",
       "      <td>nan</td>\n",
       "      <td>NaN</td>\n",
       "      <td>37.40</td>\n",
       "      <td>-121.93</td>\n",
       "      <td>4181</td>\n",
       "      <td>Subscriber</td>\n",
       "      <td>No</td>\n",
       "    </tr>\n",
       "    <tr>\n",
       "      <th>1862625</th>\n",
       "      <td>2244</td>\n",
       "      <td>2018-12-01 14:01:06.252</td>\n",
       "      <td>2018-12-01 14:38:30.895</td>\n",
       "      <td>nan</td>\n",
       "      <td>NaN</td>\n",
       "      <td>37.41</td>\n",
       "      <td>-121.93</td>\n",
       "      <td>nan</td>\n",
       "      <td>NaN</td>\n",
       "      <td>37.42</td>\n",
       "      <td>-121.96</td>\n",
       "      <td>4238</td>\n",
       "      <td>Customer</td>\n",
       "      <td>No</td>\n",
       "    </tr>\n",
       "    <tr>\n",
       "      <th>1863272</th>\n",
       "      <td>1269</td>\n",
       "      <td>2018-12-01 10:54:13.764</td>\n",
       "      <td>2018-12-01 11:15:23.036</td>\n",
       "      <td>nan</td>\n",
       "      <td>NaN</td>\n",
       "      <td>37.42</td>\n",
       "      <td>-121.96</td>\n",
       "      <td>nan</td>\n",
       "      <td>NaN</td>\n",
       "      <td>37.40</td>\n",
       "      <td>-121.92</td>\n",
       "      <td>4284</td>\n",
       "      <td>Customer</td>\n",
       "      <td>No</td>\n",
       "    </tr>\n",
       "  </tbody>\n",
       "</table>\n",
       "<p>11771 rows × 14 columns</p>\n",
       "</div>"
      ],
      "text/plain": [
       "         duration_sec              start_time                end_time  \\\n",
       "623364           5572 2018-06-30 20:58:31.855 2018-06-30 22:31:24.593   \n",
       "623376            573 2018-06-30 22:12:27.511 2018-06-30 22:22:01.174   \n",
       "623393            850 2018-06-30 22:01:25.585 2018-06-30 22:15:36.151   \n",
       "623429            562 2018-06-30 21:52:05.118 2018-06-30 22:01:27.440   \n",
       "623456            819 2018-06-30 21:37:34.506 2018-06-30 21:51:13.729   \n",
       "...               ...                     ...                     ...   \n",
       "1860854           663 2018-12-02 09:47:44.116 2018-12-02 09:58:47.162   \n",
       "1861409          1141 2018-12-01 21:22:41.646 2018-12-01 21:41:42.727   \n",
       "1861570           753 2018-12-01 19:57:14.201 2018-12-01 20:09:47.858   \n",
       "1862625          2244 2018-12-01 14:01:06.252 2018-12-01 14:38:30.895   \n",
       "1863272          1269 2018-12-01 10:54:13.764 2018-12-01 11:15:23.036   \n",
       "\n",
       "        start_station_id start_station_name  start_station_latitude  \\\n",
       "623364               nan                NaN                   37.40   \n",
       "623376               nan                NaN                   37.40   \n",
       "623393               nan                NaN                   37.41   \n",
       "623429               nan                NaN                   37.41   \n",
       "623456               nan                NaN                   37.41   \n",
       "...                  ...                ...                     ...   \n",
       "1860854              nan                NaN                   37.40   \n",
       "1861409              nan                NaN                   37.41   \n",
       "1861570              nan                NaN                   37.41   \n",
       "1862625              nan                NaN                   37.41   \n",
       "1863272              nan                NaN                   37.42   \n",
       "\n",
       "         start_station_longitude end_station_id end_station_name  \\\n",
       "623364                   -121.94            nan              NaN   \n",
       "623376                   -121.94            nan              NaN   \n",
       "623393                   -121.94            nan              NaN   \n",
       "623429                   -121.94            nan              NaN   \n",
       "623456                   -121.94            nan              NaN   \n",
       "...                          ...            ...              ...   \n",
       "1860854                  -121.92            nan              NaN   \n",
       "1861409                  -121.96            nan              NaN   \n",
       "1861570                  -121.94            nan              NaN   \n",
       "1862625                  -121.93            nan              NaN   \n",
       "1863272                  -121.96            nan              NaN   \n",
       "\n",
       "         end_station_latitude  end_station_longitude bike_id   user_type  \\\n",
       "623364                  37.40                -121.94    4202    Customer   \n",
       "623376                  37.40                -121.93    4095  Subscriber   \n",
       "623393                  37.41                -121.95    4122    Customer   \n",
       "623429                  37.42                -121.94    4184  Subscriber   \n",
       "623456                  37.41                -121.96    4137    Customer   \n",
       "...                       ...                    ...     ...         ...   \n",
       "1860854                 37.39                -121.93    4284    Customer   \n",
       "1861409                 37.41                -121.94    4256  Subscriber   \n",
       "1861570                 37.40                -121.93    4181  Subscriber   \n",
       "1862625                 37.42                -121.96    4238    Customer   \n",
       "1863272                 37.40                -121.92    4284    Customer   \n",
       "\n",
       "        bike_share_for_all_trip  \n",
       "623364                       No  \n",
       "623376                      Yes  \n",
       "623393                       No  \n",
       "623429                       No  \n",
       "623456                       No  \n",
       "...                         ...  \n",
       "1860854                      No  \n",
       "1861409                      No  \n",
       "1861570                      No  \n",
       "1862625                      No  \n",
       "1863272                      No  \n",
       "\n",
       "[11771 rows x 14 columns]"
      ]
     },
     "execution_count": 23,
     "metadata": {},
     "output_type": "execute_result"
    }
   ],
   "source": [
    "df_cleaned[df_cleaned.end_station_name.isnull()]"
   ]
  },
  {
   "cell_type": "markdown",
   "metadata": {
    "slideshow": {
     "slide_type": "-"
    }
   },
   "source": [
    "### Assessing Data"
   ]
  },
  {
   "cell_type": "markdown",
   "metadata": {
    "slideshow": {
     "slide_type": "-"
    }
   },
   "source": [
    "#### Define: What is the minimum and maximum starting time of the rides? (Timestamp)"
   ]
  },
  {
   "cell_type": "code",
   "execution_count": 24,
   "metadata": {
    "scrolled": true,
    "slideshow": {
     "slide_type": "-"
    }
   },
   "outputs": [
    {
     "data": {
      "text/plain": [
       "94662     2018-01-01 00:01:53.847\n",
       "94801     2018-01-01 00:07:41.040\n",
       "94800     2018-01-01 00:07:52.943\n",
       "94799     2018-01-01 00:09:31.745\n",
       "94793     2018-01-01 00:14:37.187\n",
       "                    ...          \n",
       "1732378   2018-12-31 23:49:14.048\n",
       "1732370   2018-12-31 23:52:27.260\n",
       "1732371   2018-12-31 23:52:33.089\n",
       "1732363   2018-12-31 23:59:11.882\n",
       "1732362   2018-12-31 23:59:12.097\n",
       "Name: start_time, Length: 1863721, dtype: datetime64[ns]"
      ]
     },
     "execution_count": 24,
     "metadata": {},
     "output_type": "execute_result"
    }
   ],
   "source": [
    "df_cleaned.start_time.sort_values()"
   ]
  },
  {
   "cell_type": "code",
   "execution_count": 25,
   "metadata": {
    "slideshow": {
     "slide_type": "-"
    }
   },
   "outputs": [
    {
     "data": {
      "text/plain": [
       "San Francisco Ferry Building (Harry Bridges Plaza)           38461\n",
       "San Francisco Caltrain Station 2  (Townsend St at 4th St)    37617\n",
       "San Francisco Caltrain (Townsend St at 4th St)               35092\n",
       "Market St at 10th St                                         34918\n",
       "Berry St at 4th St                                           33716\n",
       "                                                             ...  \n",
       "William St at 4th St (Temporary Location)                       26\n",
       "Viva Calle SJ                                                   25\n",
       "Williams Ave at 3rd St                                          17\n",
       "Farnam St at Fruitvale Ave                                      14\n",
       "2nd St at S Park St                                             11\n",
       "Name: start_station_name, Length: 348, dtype: int64"
      ]
     },
     "execution_count": 25,
     "metadata": {},
     "output_type": "execute_result"
    }
   ],
   "source": [
    "#Different Start and End stations\n",
    "df_cleaned.start_station_name.value_counts()"
   ]
  },
  {
   "cell_type": "code",
   "execution_count": 26,
   "metadata": {
    "scrolled": true,
    "slideshow": {
     "slide_type": "-"
    }
   },
   "outputs": [
    {
     "data": {
      "text/plain": [
       "San Francisco Caltrain Station 2  (Townsend St at 4th St)    50000\n",
       "San Francisco Ferry Building (Harry Bridges Plaza)           44113\n",
       "San Francisco Caltrain (Townsend St at 4th St)               42970\n",
       "The Embarcadero at Sansome St                                39222\n",
       "Montgomery St BART Station (Market St at 2nd St)             35955\n",
       "                                                             ...  \n",
       "2nd St at S Park St                                             33\n",
       "Lane St at Van Dyke Ave                                         33\n",
       "Williams Ave at 3rd St                                          24\n",
       "Viva Calle SJ                                                   15\n",
       "Farnam St at Fruitvale Ave                                      12\n",
       "Name: end_station_name, Length: 348, dtype: int64"
      ]
     },
     "execution_count": 26,
     "metadata": {},
     "output_type": "execute_result"
    }
   ],
   "source": [
    "df_cleaned.end_station_name.value_counts()"
   ]
  },
  {
   "cell_type": "markdown",
   "metadata": {
    "slideshow": {
     "slide_type": "-"
    }
   },
   "source": [
    "#### Define: Who are the different user types?"
   ]
  },
  {
   "cell_type": "code",
   "execution_count": 27,
   "metadata": {
    "slideshow": {
     "slide_type": "-"
    }
   },
   "outputs": [
    {
     "data": {
      "text/plain": [
       "Subscriber    1583554\n",
       "Customer       280167\n",
       "Name: user_type, dtype: int64"
      ]
     },
     "execution_count": 27,
     "metadata": {},
     "output_type": "execute_result"
    }
   ],
   "source": [
    "df_cleaned.user_type.value_counts()"
   ]
  },
  {
   "cell_type": "markdown",
   "metadata": {
    "slideshow": {
     "slide_type": "-"
    }
   },
   "source": [
    "“Subscriber” = Member or “Customer” = Casual)"
   ]
  },
  {
   "cell_type": "code",
   "execution_count": 28,
   "metadata": {
    "slideshow": {
     "slide_type": "-"
    }
   },
   "outputs": [
    {
     "data": {
      "text/plain": [
       "(1863721, 14)"
      ]
     },
     "execution_count": 28,
     "metadata": {},
     "output_type": "execute_result"
    }
   ],
   "source": [
    "df_cleaned.shape"
   ]
  },
  {
   "cell_type": "markdown",
   "metadata": {
    "slideshow": {
     "slide_type": "-"
    }
   },
   "source": [
    "#### Define: Maximum and Minimum duration of rides in general"
   ]
  },
  {
   "cell_type": "code",
   "execution_count": 29,
   "metadata": {
    "slideshow": {
     "slide_type": "-"
    }
   },
   "outputs": [
    {
     "data": {
      "text/plain": [
       "61"
      ]
     },
     "execution_count": 29,
     "metadata": {},
     "output_type": "execute_result"
    }
   ],
   "source": [
    "df_cleaned.duration_sec.min()"
   ]
  },
  {
   "cell_type": "code",
   "execution_count": 30,
   "metadata": {
    "scrolled": true,
    "slideshow": {
     "slide_type": "-"
    }
   },
   "outputs": [
    {
     "data": {
      "text/plain": [
       "86366"
      ]
     },
     "execution_count": 30,
     "metadata": {},
     "output_type": "execute_result"
    }
   ],
   "source": [
    "df_cleaned.duration_sec.max()"
   ]
  },
  {
   "cell_type": "markdown",
   "metadata": {
    "slideshow": {
     "slide_type": "-"
    }
   },
   "source": [
    "#### Define: Does the Customer or Subscriber share trips?"
   ]
  },
  {
   "cell_type": "code",
   "execution_count": 31,
   "metadata": {
    "slideshow": {
     "slide_type": "-"
    }
   },
   "outputs": [
    {
     "data": {
      "text/html": [
       "<div>\n",
       "<style scoped>\n",
       "    .dataframe tbody tr th:only-of-type {\n",
       "        vertical-align: middle;\n",
       "    }\n",
       "\n",
       "    .dataframe tbody tr th {\n",
       "        vertical-align: top;\n",
       "    }\n",
       "\n",
       "    .dataframe thead th {\n",
       "        text-align: right;\n",
       "    }\n",
       "</style>\n",
       "<table border=\"1\" class=\"dataframe\">\n",
       "  <thead>\n",
       "    <tr style=\"text-align: right;\">\n",
       "      <th></th>\n",
       "      <th>duration_sec</th>\n",
       "      <th>start_time</th>\n",
       "      <th>end_time</th>\n",
       "      <th>start_station_id</th>\n",
       "      <th>start_station_name</th>\n",
       "      <th>start_station_latitude</th>\n",
       "      <th>start_station_longitude</th>\n",
       "      <th>end_station_id</th>\n",
       "      <th>end_station_name</th>\n",
       "      <th>end_station_latitude</th>\n",
       "      <th>end_station_longitude</th>\n",
       "      <th>bike_id</th>\n",
       "      <th>user_type</th>\n",
       "      <th>bike_share_for_all_trip</th>\n",
       "    </tr>\n",
       "  </thead>\n",
       "  <tbody>\n",
       "  </tbody>\n",
       "</table>\n",
       "</div>"
      ],
      "text/plain": [
       "Empty DataFrame\n",
       "Columns: [duration_sec, start_time, end_time, start_station_id, start_station_name, start_station_latitude, start_station_longitude, end_station_id, end_station_name, end_station_latitude, end_station_longitude, bike_id, user_type, bike_share_for_all_trip]\n",
       "Index: []"
      ]
     },
     "execution_count": 31,
     "metadata": {},
     "output_type": "execute_result"
    }
   ],
   "source": [
    "df_cleaned[(df_cleaned.user_type == 'Customer') & (df_cleaned.bike_share_for_all_trip == 'Yes')]"
   ]
  },
  {
   "cell_type": "code",
   "execution_count": 32,
   "metadata": {
    "slideshow": {
     "slide_type": "-"
    }
   },
   "outputs": [
    {
     "data": {
      "text/html": [
       "<div>\n",
       "<style scoped>\n",
       "    .dataframe tbody tr th:only-of-type {\n",
       "        vertical-align: middle;\n",
       "    }\n",
       "\n",
       "    .dataframe tbody tr th {\n",
       "        vertical-align: top;\n",
       "    }\n",
       "\n",
       "    .dataframe thead th {\n",
       "        text-align: right;\n",
       "    }\n",
       "</style>\n",
       "<table border=\"1\" class=\"dataframe\">\n",
       "  <thead>\n",
       "    <tr style=\"text-align: right;\">\n",
       "      <th></th>\n",
       "      <th>duration_sec</th>\n",
       "      <th>start_time</th>\n",
       "      <th>end_time</th>\n",
       "      <th>start_station_id</th>\n",
       "      <th>start_station_name</th>\n",
       "      <th>start_station_latitude</th>\n",
       "      <th>start_station_longitude</th>\n",
       "      <th>end_station_id</th>\n",
       "      <th>end_station_name</th>\n",
       "      <th>end_station_latitude</th>\n",
       "      <th>end_station_longitude</th>\n",
       "      <th>bike_id</th>\n",
       "      <th>user_type</th>\n",
       "      <th>bike_share_for_all_trip</th>\n",
       "    </tr>\n",
       "  </thead>\n",
       "  <tbody>\n",
       "    <tr>\n",
       "      <th>8</th>\n",
       "      <td>996</td>\n",
       "      <td>2018-01-31 23:34:56.004</td>\n",
       "      <td>2018-01-31 23:51:32.674</td>\n",
       "      <td>134.0</td>\n",
       "      <td>Valencia St at 24th St</td>\n",
       "      <td>37.752428</td>\n",
       "      <td>-122.420628</td>\n",
       "      <td>4.0</td>\n",
       "      <td>Cyril Magnin St at Ellis St</td>\n",
       "      <td>37.785881</td>\n",
       "      <td>-122.408915</td>\n",
       "      <td>3675</td>\n",
       "      <td>Subscriber</td>\n",
       "      <td>Yes</td>\n",
       "    </tr>\n",
       "    <tr>\n",
       "      <th>9</th>\n",
       "      <td>825</td>\n",
       "      <td>2018-01-31 23:34:14.027</td>\n",
       "      <td>2018-01-31 23:47:59.809</td>\n",
       "      <td>305.0</td>\n",
       "      <td>Ryland Park</td>\n",
       "      <td>37.342725</td>\n",
       "      <td>-121.895617</td>\n",
       "      <td>317.0</td>\n",
       "      <td>San Salvador St at 9th St</td>\n",
       "      <td>37.333955</td>\n",
       "      <td>-121.877349</td>\n",
       "      <td>1453</td>\n",
       "      <td>Subscriber</td>\n",
       "      <td>Yes</td>\n",
       "    </tr>\n",
       "    <tr>\n",
       "      <th>13</th>\n",
       "      <td>887</td>\n",
       "      <td>2018-01-31 23:24:16.357</td>\n",
       "      <td>2018-01-31 23:39:04.123</td>\n",
       "      <td>308.0</td>\n",
       "      <td>San Pedro Square</td>\n",
       "      <td>37.336802</td>\n",
       "      <td>-121.894090</td>\n",
       "      <td>297.0</td>\n",
       "      <td>Locust St at Grant St</td>\n",
       "      <td>37.322980</td>\n",
       "      <td>-121.887931</td>\n",
       "      <td>55</td>\n",
       "      <td>Subscriber</td>\n",
       "      <td>Yes</td>\n",
       "    </tr>\n",
       "    <tr>\n",
       "      <th>16</th>\n",
       "      <td>808</td>\n",
       "      <td>2018-01-31 23:19:58.603</td>\n",
       "      <td>2018-01-31 23:33:27.531</td>\n",
       "      <td>67.0</td>\n",
       "      <td>San Francisco Caltrain Station 2  (Townsend St...</td>\n",
       "      <td>37.776639</td>\n",
       "      <td>-122.395526</td>\n",
       "      <td>98.0</td>\n",
       "      <td>Valencia St at 16th St</td>\n",
       "      <td>37.765052</td>\n",
       "      <td>-122.421866</td>\n",
       "      <td>3041</td>\n",
       "      <td>Subscriber</td>\n",
       "      <td>Yes</td>\n",
       "    </tr>\n",
       "    <tr>\n",
       "      <th>22</th>\n",
       "      <td>150</td>\n",
       "      <td>2018-01-31 23:10:09.586</td>\n",
       "      <td>2018-01-31 23:12:40.333</td>\n",
       "      <td>182.0</td>\n",
       "      <td>19th Street BART Station</td>\n",
       "      <td>37.809013</td>\n",
       "      <td>-122.268247</td>\n",
       "      <td>183.0</td>\n",
       "      <td>Telegraph Ave at 19th St</td>\n",
       "      <td>37.808702</td>\n",
       "      <td>-122.269927</td>\n",
       "      <td>3468</td>\n",
       "      <td>Subscriber</td>\n",
       "      <td>Yes</td>\n",
       "    </tr>\n",
       "    <tr>\n",
       "      <th>...</th>\n",
       "      <td>...</td>\n",
       "      <td>...</td>\n",
       "      <td>...</td>\n",
       "      <td>...</td>\n",
       "      <td>...</td>\n",
       "      <td>...</td>\n",
       "      <td>...</td>\n",
       "      <td>...</td>\n",
       "      <td>...</td>\n",
       "      <td>...</td>\n",
       "      <td>...</td>\n",
       "      <td>...</td>\n",
       "      <td>...</td>\n",
       "      <td>...</td>\n",
       "    </tr>\n",
       "    <tr>\n",
       "      <th>1863669</th>\n",
       "      <td>223</td>\n",
       "      <td>2018-12-01 01:10:52.829</td>\n",
       "      <td>2018-12-01 01:14:36.292</td>\n",
       "      <td>357.0</td>\n",
       "      <td>2nd St at Julian St</td>\n",
       "      <td>37.341132</td>\n",
       "      <td>-121.892844</td>\n",
       "      <td>309.0</td>\n",
       "      <td>San Jose City Hall</td>\n",
       "      <td>37.337391</td>\n",
       "      <td>-121.886995</td>\n",
       "      <td>637</td>\n",
       "      <td>Subscriber</td>\n",
       "      <td>Yes</td>\n",
       "    </tr>\n",
       "    <tr>\n",
       "      <th>1863670</th>\n",
       "      <td>391</td>\n",
       "      <td>2018-12-01 01:07:13.163</td>\n",
       "      <td>2018-12-01 01:13:44.981</td>\n",
       "      <td>317.0</td>\n",
       "      <td>San Salvador St at 9th St</td>\n",
       "      <td>37.333955</td>\n",
       "      <td>-121.877349</td>\n",
       "      <td>286.0</td>\n",
       "      <td>San Carlos St at 11th St</td>\n",
       "      <td>37.336466</td>\n",
       "      <td>-121.876613</td>\n",
       "      <td>73</td>\n",
       "      <td>Subscriber</td>\n",
       "      <td>Yes</td>\n",
       "    </tr>\n",
       "    <tr>\n",
       "      <th>1863695</th>\n",
       "      <td>1310</td>\n",
       "      <td>2018-12-01 00:23:53.342</td>\n",
       "      <td>2018-12-01 00:45:43.588</td>\n",
       "      <td>85.0</td>\n",
       "      <td>Church St at Duboce Ave</td>\n",
       "      <td>37.770083</td>\n",
       "      <td>-122.429156</td>\n",
       "      <td>13.0</td>\n",
       "      <td>Commercial St at Montgomery St</td>\n",
       "      <td>37.794231</td>\n",
       "      <td>-122.402923</td>\n",
       "      <td>1525</td>\n",
       "      <td>Subscriber</td>\n",
       "      <td>Yes</td>\n",
       "    </tr>\n",
       "    <tr>\n",
       "      <th>1863704</th>\n",
       "      <td>447</td>\n",
       "      <td>2018-12-01 00:31:36.148</td>\n",
       "      <td>2018-12-01 00:39:03.391</td>\n",
       "      <td>368.0</td>\n",
       "      <td>Myrtle St at Polk St</td>\n",
       "      <td>37.785434</td>\n",
       "      <td>-122.419622</td>\n",
       "      <td>17.0</td>\n",
       "      <td>Embarcadero BART Station (Beale St at Market St)</td>\n",
       "      <td>37.792251</td>\n",
       "      <td>-122.397086</td>\n",
       "      <td>1677</td>\n",
       "      <td>Subscriber</td>\n",
       "      <td>Yes</td>\n",
       "    </tr>\n",
       "    <tr>\n",
       "      <th>1863713</th>\n",
       "      <td>671</td>\n",
       "      <td>2018-12-01 00:12:49.640</td>\n",
       "      <td>2018-12-01 00:24:01.512</td>\n",
       "      <td>34.0</td>\n",
       "      <td>Father Alfred E Boeddeker Park</td>\n",
       "      <td>37.783988</td>\n",
       "      <td>-122.412408</td>\n",
       "      <td>92.0</td>\n",
       "      <td>Mission Bay Kids Park</td>\n",
       "      <td>37.772301</td>\n",
       "      <td>-122.393028</td>\n",
       "      <td>4377</td>\n",
       "      <td>Subscriber</td>\n",
       "      <td>Yes</td>\n",
       "    </tr>\n",
       "  </tbody>\n",
       "</table>\n",
       "<p>162335 rows × 14 columns</p>\n",
       "</div>"
      ],
      "text/plain": [
       "         duration_sec              start_time                end_time  \\\n",
       "8                 996 2018-01-31 23:34:56.004 2018-01-31 23:51:32.674   \n",
       "9                 825 2018-01-31 23:34:14.027 2018-01-31 23:47:59.809   \n",
       "13                887 2018-01-31 23:24:16.357 2018-01-31 23:39:04.123   \n",
       "16                808 2018-01-31 23:19:58.603 2018-01-31 23:33:27.531   \n",
       "22                150 2018-01-31 23:10:09.586 2018-01-31 23:12:40.333   \n",
       "...               ...                     ...                     ...   \n",
       "1863669           223 2018-12-01 01:10:52.829 2018-12-01 01:14:36.292   \n",
       "1863670           391 2018-12-01 01:07:13.163 2018-12-01 01:13:44.981   \n",
       "1863695          1310 2018-12-01 00:23:53.342 2018-12-01 00:45:43.588   \n",
       "1863704           447 2018-12-01 00:31:36.148 2018-12-01 00:39:03.391   \n",
       "1863713           671 2018-12-01 00:12:49.640 2018-12-01 00:24:01.512   \n",
       "\n",
       "        start_station_id                                 start_station_name  \\\n",
       "8                  134.0                             Valencia St at 24th St   \n",
       "9                  305.0                                        Ryland Park   \n",
       "13                 308.0                                   San Pedro Square   \n",
       "16                  67.0  San Francisco Caltrain Station 2  (Townsend St...   \n",
       "22                 182.0                           19th Street BART Station   \n",
       "...                  ...                                                ...   \n",
       "1863669            357.0                                2nd St at Julian St   \n",
       "1863670            317.0                          San Salvador St at 9th St   \n",
       "1863695             85.0                            Church St at Duboce Ave   \n",
       "1863704            368.0                               Myrtle St at Polk St   \n",
       "1863713             34.0                     Father Alfred E Boeddeker Park   \n",
       "\n",
       "         start_station_latitude  start_station_longitude end_station_id  \\\n",
       "8                     37.752428              -122.420628            4.0   \n",
       "9                     37.342725              -121.895617          317.0   \n",
       "13                    37.336802              -121.894090          297.0   \n",
       "16                    37.776639              -122.395526           98.0   \n",
       "22                    37.809013              -122.268247          183.0   \n",
       "...                         ...                      ...            ...   \n",
       "1863669               37.341132              -121.892844          309.0   \n",
       "1863670               37.333955              -121.877349          286.0   \n",
       "1863695               37.770083              -122.429156           13.0   \n",
       "1863704               37.785434              -122.419622           17.0   \n",
       "1863713               37.783988              -122.412408           92.0   \n",
       "\n",
       "                                         end_station_name  \\\n",
       "8                             Cyril Magnin St at Ellis St   \n",
       "9                               San Salvador St at 9th St   \n",
       "13                                  Locust St at Grant St   \n",
       "16                                 Valencia St at 16th St   \n",
       "22                               Telegraph Ave at 19th St   \n",
       "...                                                   ...   \n",
       "1863669                                San Jose City Hall   \n",
       "1863670                          San Carlos St at 11th St   \n",
       "1863695                    Commercial St at Montgomery St   \n",
       "1863704  Embarcadero BART Station (Beale St at Market St)   \n",
       "1863713                             Mission Bay Kids Park   \n",
       "\n",
       "         end_station_latitude  end_station_longitude bike_id   user_type  \\\n",
       "8                   37.785881            -122.408915    3675  Subscriber   \n",
       "9                   37.333955            -121.877349    1453  Subscriber   \n",
       "13                  37.322980            -121.887931      55  Subscriber   \n",
       "16                  37.765052            -122.421866    3041  Subscriber   \n",
       "22                  37.808702            -122.269927    3468  Subscriber   \n",
       "...                       ...                    ...     ...         ...   \n",
       "1863669             37.337391            -121.886995     637  Subscriber   \n",
       "1863670             37.336466            -121.876613      73  Subscriber   \n",
       "1863695             37.794231            -122.402923    1525  Subscriber   \n",
       "1863704             37.792251            -122.397086    1677  Subscriber   \n",
       "1863713             37.772301            -122.393028    4377  Subscriber   \n",
       "\n",
       "        bike_share_for_all_trip  \n",
       "8                           Yes  \n",
       "9                           Yes  \n",
       "13                          Yes  \n",
       "16                          Yes  \n",
       "22                          Yes  \n",
       "...                         ...  \n",
       "1863669                     Yes  \n",
       "1863670                     Yes  \n",
       "1863695                     Yes  \n",
       "1863704                     Yes  \n",
       "1863713                     Yes  \n",
       "\n",
       "[162335 rows x 14 columns]"
      ]
     },
     "execution_count": 32,
     "metadata": {},
     "output_type": "execute_result"
    }
   ],
   "source": [
    "df_cleaned[(df_cleaned.user_type == 'Subscriber') & (df_cleaned.bike_share_for_all_trip == 'Yes')]"
   ]
  },
  {
   "cell_type": "code",
   "execution_count": 33,
   "metadata": {
    "scrolled": true,
    "slideshow": {
     "slide_type": "-"
    }
   },
   "outputs": [
    {
     "data": {
      "text/html": [
       "<div>\n",
       "<style scoped>\n",
       "    .dataframe tbody tr th:only-of-type {\n",
       "        vertical-align: middle;\n",
       "    }\n",
       "\n",
       "    .dataframe tbody tr th {\n",
       "        vertical-align: top;\n",
       "    }\n",
       "\n",
       "    .dataframe thead th {\n",
       "        text-align: right;\n",
       "    }\n",
       "</style>\n",
       "<table border=\"1\" class=\"dataframe\">\n",
       "  <thead>\n",
       "    <tr style=\"text-align: right;\">\n",
       "      <th></th>\n",
       "      <th>duration_sec</th>\n",
       "      <th>start_time</th>\n",
       "      <th>end_time</th>\n",
       "      <th>start_station_id</th>\n",
       "      <th>start_station_name</th>\n",
       "      <th>start_station_latitude</th>\n",
       "      <th>start_station_longitude</th>\n",
       "      <th>end_station_id</th>\n",
       "      <th>end_station_name</th>\n",
       "      <th>end_station_latitude</th>\n",
       "      <th>end_station_longitude</th>\n",
       "      <th>bike_id</th>\n",
       "      <th>user_type</th>\n",
       "      <th>bike_share_for_all_trip</th>\n",
       "    </tr>\n",
       "  </thead>\n",
       "  <tbody>\n",
       "    <tr>\n",
       "      <th>0</th>\n",
       "      <td>75284</td>\n",
       "      <td>2018-01-31 22:52:35.2390</td>\n",
       "      <td>2018-02-01 19:47:19.8240</td>\n",
       "      <td>120.0</td>\n",
       "      <td>Mission Dolores Park</td>\n",
       "      <td>37.761420</td>\n",
       "      <td>-122.426435</td>\n",
       "      <td>285.0</td>\n",
       "      <td>Webster St at O'Farrell St</td>\n",
       "      <td>37.783521</td>\n",
       "      <td>-122.431158</td>\n",
       "      <td>2765</td>\n",
       "      <td>Subscriber</td>\n",
       "      <td>No</td>\n",
       "    </tr>\n",
       "    <tr>\n",
       "      <th>4</th>\n",
       "      <td>39966</td>\n",
       "      <td>2018-01-31 19:52:24.6670</td>\n",
       "      <td>2018-02-01 06:58:31.0530</td>\n",
       "      <td>74.0</td>\n",
       "      <td>Laguna St at Hayes St</td>\n",
       "      <td>37.776435</td>\n",
       "      <td>-122.426244</td>\n",
       "      <td>19.0</td>\n",
       "      <td>Post St at Kearny St</td>\n",
       "      <td>37.788975</td>\n",
       "      <td>-122.403452</td>\n",
       "      <td>617</td>\n",
       "      <td>Subscriber</td>\n",
       "      <td>No</td>\n",
       "    </tr>\n",
       "    <tr>\n",
       "      <th>6</th>\n",
       "      <td>453</td>\n",
       "      <td>2018-01-31 23:53:53.6320</td>\n",
       "      <td>2018-02-01 00:01:26.8050</td>\n",
       "      <td>110.0</td>\n",
       "      <td>17th &amp; Folsom Street Park (17th St at Folsom St)</td>\n",
       "      <td>37.763708</td>\n",
       "      <td>-122.415204</td>\n",
       "      <td>134.0</td>\n",
       "      <td>Valencia St at 24th St</td>\n",
       "      <td>37.752428</td>\n",
       "      <td>-122.420628</td>\n",
       "      <td>3571</td>\n",
       "      <td>Subscriber</td>\n",
       "      <td>No</td>\n",
       "    </tr>\n",
       "    <tr>\n",
       "      <th>7</th>\n",
       "      <td>180</td>\n",
       "      <td>2018-01-31 23:52:09.9030</td>\n",
       "      <td>2018-01-31 23:55:10.8070</td>\n",
       "      <td>81.0</td>\n",
       "      <td>Berry St at 4th St</td>\n",
       "      <td>37.775880</td>\n",
       "      <td>-122.393170</td>\n",
       "      <td>93.0</td>\n",
       "      <td>4th St at Mission Bay Blvd S</td>\n",
       "      <td>37.770407</td>\n",
       "      <td>-122.391198</td>\n",
       "      <td>1403</td>\n",
       "      <td>Subscriber</td>\n",
       "      <td>No</td>\n",
       "    </tr>\n",
       "    <tr>\n",
       "      <th>11</th>\n",
       "      <td>432</td>\n",
       "      <td>2018-01-31 23:34:26.4840</td>\n",
       "      <td>2018-01-31 23:41:39.2970</td>\n",
       "      <td>89.0</td>\n",
       "      <td>Division St at Potrero Ave</td>\n",
       "      <td>37.769218</td>\n",
       "      <td>-122.407646</td>\n",
       "      <td>43.0</td>\n",
       "      <td>San Francisco Public Library (Grove St at Hyde...</td>\n",
       "      <td>37.778768</td>\n",
       "      <td>-122.415929</td>\n",
       "      <td>2928</td>\n",
       "      <td>Subscriber</td>\n",
       "      <td>No</td>\n",
       "    </tr>\n",
       "    <tr>\n",
       "      <th>...</th>\n",
       "      <td>...</td>\n",
       "      <td>...</td>\n",
       "      <td>...</td>\n",
       "      <td>...</td>\n",
       "      <td>...</td>\n",
       "      <td>...</td>\n",
       "      <td>...</td>\n",
       "      <td>...</td>\n",
       "      <td>...</td>\n",
       "      <td>...</td>\n",
       "      <td>...</td>\n",
       "      <td>...</td>\n",
       "      <td>...</td>\n",
       "      <td>...</td>\n",
       "    </tr>\n",
       "    <tr>\n",
       "      <th>1863716</th>\n",
       "      <td>473</td>\n",
       "      <td>2018-12-01 00:11:54.8110</td>\n",
       "      <td>2018-12-01 00:19:48.5470</td>\n",
       "      <td>345.0</td>\n",
       "      <td>Hubbell St at 16th St</td>\n",
       "      <td>37.766474</td>\n",
       "      <td>-122.398295</td>\n",
       "      <td>81.0</td>\n",
       "      <td>Berry St at 4th St</td>\n",
       "      <td>37.775880</td>\n",
       "      <td>-122.393170</td>\n",
       "      <td>3035</td>\n",
       "      <td>Subscriber</td>\n",
       "      <td>No</td>\n",
       "    </tr>\n",
       "    <tr>\n",
       "      <th>1863717</th>\n",
       "      <td>841</td>\n",
       "      <td>2018-12-01 00:02:48.7260</td>\n",
       "      <td>2018-12-01 00:16:49.7660</td>\n",
       "      <td>10.0</td>\n",
       "      <td>Washington St at Kearny St</td>\n",
       "      <td>37.795393</td>\n",
       "      <td>-122.404770</td>\n",
       "      <td>58.0</td>\n",
       "      <td>Market St at 10th St</td>\n",
       "      <td>37.776619</td>\n",
       "      <td>-122.417385</td>\n",
       "      <td>2034</td>\n",
       "      <td>Subscriber</td>\n",
       "      <td>No</td>\n",
       "    </tr>\n",
       "    <tr>\n",
       "      <th>1863718</th>\n",
       "      <td>260</td>\n",
       "      <td>2018-12-01 00:05:27.6150</td>\n",
       "      <td>2018-12-01 00:09:47.9560</td>\n",
       "      <td>245.0</td>\n",
       "      <td>Downtown Berkeley BART</td>\n",
       "      <td>37.870139</td>\n",
       "      <td>-122.268422</td>\n",
       "      <td>255.0</td>\n",
       "      <td>Virginia St at Shattuck Ave</td>\n",
       "      <td>37.876573</td>\n",
       "      <td>-122.269528</td>\n",
       "      <td>2243</td>\n",
       "      <td>Subscriber</td>\n",
       "      <td>No</td>\n",
       "    </tr>\n",
       "    <tr>\n",
       "      <th>1863719</th>\n",
       "      <td>292</td>\n",
       "      <td>2018-12-01 00:03:06.5490</td>\n",
       "      <td>2018-12-01 00:07:59.0800</td>\n",
       "      <td>93.0</td>\n",
       "      <td>4th St at Mission Bay Blvd S</td>\n",
       "      <td>37.770407</td>\n",
       "      <td>-122.391198</td>\n",
       "      <td>126.0</td>\n",
       "      <td>Esprit Park</td>\n",
       "      <td>37.761634</td>\n",
       "      <td>-122.390648</td>\n",
       "      <td>545</td>\n",
       "      <td>Subscriber</td>\n",
       "      <td>No</td>\n",
       "    </tr>\n",
       "    <tr>\n",
       "      <th>1863720</th>\n",
       "      <td>150</td>\n",
       "      <td>2018-12-01 00:03:05.7420</td>\n",
       "      <td>2018-12-01 00:05:36.0260</td>\n",
       "      <td>107.0</td>\n",
       "      <td>17th St at Dolores St</td>\n",
       "      <td>37.763015</td>\n",
       "      <td>-122.426497</td>\n",
       "      <td>119.0</td>\n",
       "      <td>18th St at Noe St</td>\n",
       "      <td>37.761047</td>\n",
       "      <td>-122.432642</td>\n",
       "      <td>4319</td>\n",
       "      <td>Subscriber</td>\n",
       "      <td>No</td>\n",
       "    </tr>\n",
       "  </tbody>\n",
       "</table>\n",
       "<p>1421219 rows × 14 columns</p>\n",
       "</div>"
      ],
      "text/plain": [
       "         duration_sec                start_time                  end_time  \\\n",
       "0               75284  2018-01-31 22:52:35.2390  2018-02-01 19:47:19.8240   \n",
       "4               39966  2018-01-31 19:52:24.6670  2018-02-01 06:58:31.0530   \n",
       "6                 453  2018-01-31 23:53:53.6320  2018-02-01 00:01:26.8050   \n",
       "7                 180  2018-01-31 23:52:09.9030  2018-01-31 23:55:10.8070   \n",
       "11                432  2018-01-31 23:34:26.4840  2018-01-31 23:41:39.2970   \n",
       "...               ...                       ...                       ...   \n",
       "1863716           473  2018-12-01 00:11:54.8110  2018-12-01 00:19:48.5470   \n",
       "1863717           841  2018-12-01 00:02:48.7260  2018-12-01 00:16:49.7660   \n",
       "1863718           260  2018-12-01 00:05:27.6150  2018-12-01 00:09:47.9560   \n",
       "1863719           292  2018-12-01 00:03:06.5490  2018-12-01 00:07:59.0800   \n",
       "1863720           150  2018-12-01 00:03:05.7420  2018-12-01 00:05:36.0260   \n",
       "\n",
       "         start_station_id                                start_station_name  \\\n",
       "0                   120.0                              Mission Dolores Park   \n",
       "4                    74.0                             Laguna St at Hayes St   \n",
       "6                   110.0  17th & Folsom Street Park (17th St at Folsom St)   \n",
       "7                    81.0                                Berry St at 4th St   \n",
       "11                   89.0                        Division St at Potrero Ave   \n",
       "...                   ...                                               ...   \n",
       "1863716             345.0                             Hubbell St at 16th St   \n",
       "1863717              10.0                        Washington St at Kearny St   \n",
       "1863718             245.0                            Downtown Berkeley BART   \n",
       "1863719              93.0                      4th St at Mission Bay Blvd S   \n",
       "1863720             107.0                             17th St at Dolores St   \n",
       "\n",
       "         start_station_latitude  start_station_longitude  end_station_id  \\\n",
       "0                     37.761420              -122.426435           285.0   \n",
       "4                     37.776435              -122.426244            19.0   \n",
       "6                     37.763708              -122.415204           134.0   \n",
       "7                     37.775880              -122.393170            93.0   \n",
       "11                    37.769218              -122.407646            43.0   \n",
       "...                         ...                      ...             ...   \n",
       "1863716               37.766474              -122.398295            81.0   \n",
       "1863717               37.795393              -122.404770            58.0   \n",
       "1863718               37.870139              -122.268422           255.0   \n",
       "1863719               37.770407              -122.391198           126.0   \n",
       "1863720               37.763015              -122.426497           119.0   \n",
       "\n",
       "                                          end_station_name  \\\n",
       "0                               Webster St at O'Farrell St   \n",
       "4                                     Post St at Kearny St   \n",
       "6                                   Valencia St at 24th St   \n",
       "7                             4th St at Mission Bay Blvd S   \n",
       "11       San Francisco Public Library (Grove St at Hyde...   \n",
       "...                                                    ...   \n",
       "1863716                                 Berry St at 4th St   \n",
       "1863717                               Market St at 10th St   \n",
       "1863718                        Virginia St at Shattuck Ave   \n",
       "1863719                                        Esprit Park   \n",
       "1863720                                  18th St at Noe St   \n",
       "\n",
       "         end_station_latitude  end_station_longitude  bike_id   user_type  \\\n",
       "0                   37.783521            -122.431158     2765  Subscriber   \n",
       "4                   37.788975            -122.403452      617  Subscriber   \n",
       "6                   37.752428            -122.420628     3571  Subscriber   \n",
       "7                   37.770407            -122.391198     1403  Subscriber   \n",
       "11                  37.778768            -122.415929     2928  Subscriber   \n",
       "...                       ...                    ...      ...         ...   \n",
       "1863716             37.775880            -122.393170     3035  Subscriber   \n",
       "1863717             37.776619            -122.417385     2034  Subscriber   \n",
       "1863718             37.876573            -122.269528     2243  Subscriber   \n",
       "1863719             37.761634            -122.390648      545  Subscriber   \n",
       "1863720             37.761047            -122.432642     4319  Subscriber   \n",
       "\n",
       "        bike_share_for_all_trip  \n",
       "0                            No  \n",
       "4                            No  \n",
       "6                            No  \n",
       "7                            No  \n",
       "11                           No  \n",
       "...                         ...  \n",
       "1863716                      No  \n",
       "1863717                      No  \n",
       "1863718                      No  \n",
       "1863719                      No  \n",
       "1863720                      No  \n",
       "\n",
       "[1421219 rows x 14 columns]"
      ]
     },
     "execution_count": 33,
     "metadata": {},
     "output_type": "execute_result"
    }
   ],
   "source": [
    "df_new[(df_cleaned.user_type == 'Subscriber') & (df_cleaned.bike_share_for_all_trip == 'No')]"
   ]
  },
  {
   "cell_type": "markdown",
   "metadata": {
    "slideshow": {
     "slide_type": "-"
    }
   },
   "source": [
    "#### Define: Minimum and Maximum Duration of ride for Customer and Subscriber"
   ]
  },
  {
   "cell_type": "code",
   "execution_count": 34,
   "metadata": {
    "slideshow": {
     "slide_type": "-"
    }
   },
   "outputs": [
    {
     "data": {
      "text/plain": [
       "61"
      ]
     },
     "execution_count": 34,
     "metadata": {},
     "output_type": "execute_result"
    }
   ],
   "source": [
    "df_cleaned[(df_cleaned.user_type == 'Customer')].duration_sec.min()"
   ]
  },
  {
   "cell_type": "code",
   "execution_count": 35,
   "metadata": {
    "slideshow": {
     "slide_type": "-"
    }
   },
   "outputs": [
    {
     "data": {
      "text/plain": [
       "86366"
      ]
     },
     "execution_count": 35,
     "metadata": {},
     "output_type": "execute_result"
    }
   ],
   "source": [
    "df_cleaned[(df_cleaned.user_type == 'Customer')].duration_sec.max()"
   ]
  },
  {
   "cell_type": "code",
   "execution_count": 36,
   "metadata": {
    "slideshow": {
     "slide_type": "-"
    }
   },
   "outputs": [
    {
     "data": {
      "text/plain": [
       "61"
      ]
     },
     "execution_count": 36,
     "metadata": {},
     "output_type": "execute_result"
    }
   ],
   "source": [
    "df_cleaned[(df_cleaned.user_type == 'Subscriber')].duration_sec.min()"
   ]
  },
  {
   "cell_type": "code",
   "execution_count": 37,
   "metadata": {
    "slideshow": {
     "slide_type": "-"
    }
   },
   "outputs": [
    {
     "data": {
      "text/plain": [
       "86281"
      ]
     },
     "execution_count": 37,
     "metadata": {},
     "output_type": "execute_result"
    }
   ],
   "source": [
    "df_cleaned[(df_cleaned.user_type == 'Subscriber')].duration_sec.max()"
   ]
  },
  {
   "cell_type": "markdown",
   "metadata": {
    "slideshow": {
     "slide_type": "-"
    }
   },
   "source": [
    "#### Define: Add columns for the start month, day of the week, and hour, along with figuring out the trip duration in minutes so I can create visuals based on workable units"
   ]
  },
  {
   "cell_type": "code",
   "execution_count": 38,
   "metadata": {
    "slideshow": {
     "slide_type": "-"
    }
   },
   "outputs": [],
   "source": [
    "# Start time month (January - December)\n",
    "df_cleaned['start_time_month'] = df_cleaned['start_time'].dt.strftime('%B')"
   ]
  },
  {
   "cell_type": "code",
   "execution_count": 39,
   "metadata": {
    "slideshow": {
     "slide_type": "-"
    }
   },
   "outputs": [],
   "source": [
    "# Start time month (1-12)\n",
    "df_cleaned['start_time_month_num'] = df_cleaned['start_time'].dt.month.astype(int)"
   ]
  },
  {
   "cell_type": "code",
   "execution_count": 40,
   "metadata": {
    "slideshow": {
     "slide_type": "-"
    }
   },
   "outputs": [],
   "source": [
    "# Start time weekday\n",
    "df_cleaned['start_time_weekday'] = df_cleaned['start_time'].dt.strftime('%a')"
   ]
  },
  {
   "cell_type": "code",
   "execution_count": 41,
   "metadata": {
    "slideshow": {
     "slide_type": "-"
    }
   },
   "outputs": [],
   "source": [
    "# Start and end time hour\n",
    "df_cleaned['start_time_hour'] = df_cleaned['start_time'].dt.hour\n",
    "df_cleaned['end_time_hour'] = df_cleaned['end_time'].dt.hour"
   ]
  },
  {
   "cell_type": "code",
   "execution_count": 42,
   "metadata": {
    "slideshow": {
     "slide_type": "-"
    }
   },
   "outputs": [],
   "source": [
    "# Duration in seconds to duration in minutes\n",
    "df_cleaned['duration_min'] = df_cleaned['duration_sec']/60\n",
    "df_cleaned['duration_min'] = df_cleaned['duration_min'].astype(int)"
   ]
  },
  {
   "cell_type": "code",
   "execution_count": 43,
   "metadata": {
    "slideshow": {
     "slide_type": "-"
    }
   },
   "outputs": [],
   "source": [
    "df_cleaned['start_date'] = df_cleaned.start_time.dt.strftime('%Y-%m-%d')"
   ]
  },
  {
   "cell_type": "code",
   "execution_count": 44,
   "metadata": {
    "slideshow": {
     "slide_type": "-"
    }
   },
   "outputs": [
    {
     "data": {
      "text/html": [
       "<div>\n",
       "<style scoped>\n",
       "    .dataframe tbody tr th:only-of-type {\n",
       "        vertical-align: middle;\n",
       "    }\n",
       "\n",
       "    .dataframe tbody tr th {\n",
       "        vertical-align: top;\n",
       "    }\n",
       "\n",
       "    .dataframe thead th {\n",
       "        text-align: right;\n",
       "    }\n",
       "</style>\n",
       "<table border=\"1\" class=\"dataframe\">\n",
       "  <thead>\n",
       "    <tr style=\"text-align: right;\">\n",
       "      <th></th>\n",
       "      <th>duration_sec</th>\n",
       "      <th>start_time</th>\n",
       "      <th>end_time</th>\n",
       "      <th>start_station_id</th>\n",
       "      <th>start_station_name</th>\n",
       "      <th>start_station_latitude</th>\n",
       "      <th>start_station_longitude</th>\n",
       "      <th>end_station_id</th>\n",
       "      <th>end_station_name</th>\n",
       "      <th>end_station_latitude</th>\n",
       "      <th>...</th>\n",
       "      <th>bike_id</th>\n",
       "      <th>user_type</th>\n",
       "      <th>bike_share_for_all_trip</th>\n",
       "      <th>start_time_month</th>\n",
       "      <th>start_time_month_num</th>\n",
       "      <th>start_time_weekday</th>\n",
       "      <th>start_time_hour</th>\n",
       "      <th>end_time_hour</th>\n",
       "      <th>duration_min</th>\n",
       "      <th>start_date</th>\n",
       "    </tr>\n",
       "  </thead>\n",
       "  <tbody>\n",
       "    <tr>\n",
       "      <th>0</th>\n",
       "      <td>75284</td>\n",
       "      <td>2018-01-31 22:52:35.239</td>\n",
       "      <td>2018-02-01 19:47:19.824</td>\n",
       "      <td>120.0</td>\n",
       "      <td>Mission Dolores Park</td>\n",
       "      <td>37.761420</td>\n",
       "      <td>-122.426435</td>\n",
       "      <td>285.0</td>\n",
       "      <td>Webster St at O'Farrell St</td>\n",
       "      <td>37.783521</td>\n",
       "      <td>...</td>\n",
       "      <td>2765</td>\n",
       "      <td>Subscriber</td>\n",
       "      <td>No</td>\n",
       "      <td>January</td>\n",
       "      <td>1</td>\n",
       "      <td>Wed</td>\n",
       "      <td>22</td>\n",
       "      <td>19</td>\n",
       "      <td>1254</td>\n",
       "      <td>2018-01-31</td>\n",
       "    </tr>\n",
       "    <tr>\n",
       "      <th>1</th>\n",
       "      <td>85422</td>\n",
       "      <td>2018-01-31 16:13:34.351</td>\n",
       "      <td>2018-02-01 15:57:17.310</td>\n",
       "      <td>15.0</td>\n",
       "      <td>San Francisco Ferry Building (Harry Bridges Pl...</td>\n",
       "      <td>37.795392</td>\n",
       "      <td>-122.394203</td>\n",
       "      <td>15.0</td>\n",
       "      <td>San Francisco Ferry Building (Harry Bridges Pl...</td>\n",
       "      <td>37.795392</td>\n",
       "      <td>...</td>\n",
       "      <td>2815</td>\n",
       "      <td>Customer</td>\n",
       "      <td>No</td>\n",
       "      <td>January</td>\n",
       "      <td>1</td>\n",
       "      <td>Wed</td>\n",
       "      <td>16</td>\n",
       "      <td>15</td>\n",
       "      <td>1423</td>\n",
       "      <td>2018-01-31</td>\n",
       "    </tr>\n",
       "    <tr>\n",
       "      <th>2</th>\n",
       "      <td>71576</td>\n",
       "      <td>2018-01-31 14:23:55.889</td>\n",
       "      <td>2018-02-01 10:16:52.116</td>\n",
       "      <td>304.0</td>\n",
       "      <td>Jackson St at 5th St</td>\n",
       "      <td>37.348759</td>\n",
       "      <td>-121.894798</td>\n",
       "      <td>296.0</td>\n",
       "      <td>5th St at Virginia St</td>\n",
       "      <td>37.325998</td>\n",
       "      <td>...</td>\n",
       "      <td>3039</td>\n",
       "      <td>Customer</td>\n",
       "      <td>No</td>\n",
       "      <td>January</td>\n",
       "      <td>1</td>\n",
       "      <td>Wed</td>\n",
       "      <td>14</td>\n",
       "      <td>10</td>\n",
       "      <td>1192</td>\n",
       "      <td>2018-01-31</td>\n",
       "    </tr>\n",
       "    <tr>\n",
       "      <th>3</th>\n",
       "      <td>61076</td>\n",
       "      <td>2018-01-31 14:53:23.562</td>\n",
       "      <td>2018-02-01 07:51:20.500</td>\n",
       "      <td>75.0</td>\n",
       "      <td>Market St at Franklin St</td>\n",
       "      <td>37.773793</td>\n",
       "      <td>-122.421239</td>\n",
       "      <td>47.0</td>\n",
       "      <td>4th St at Harrison St</td>\n",
       "      <td>37.780955</td>\n",
       "      <td>...</td>\n",
       "      <td>321</td>\n",
       "      <td>Customer</td>\n",
       "      <td>No</td>\n",
       "      <td>January</td>\n",
       "      <td>1</td>\n",
       "      <td>Wed</td>\n",
       "      <td>14</td>\n",
       "      <td>7</td>\n",
       "      <td>1017</td>\n",
       "      <td>2018-01-31</td>\n",
       "    </tr>\n",
       "    <tr>\n",
       "      <th>4</th>\n",
       "      <td>39966</td>\n",
       "      <td>2018-01-31 19:52:24.667</td>\n",
       "      <td>2018-02-01 06:58:31.053</td>\n",
       "      <td>74.0</td>\n",
       "      <td>Laguna St at Hayes St</td>\n",
       "      <td>37.776435</td>\n",
       "      <td>-122.426244</td>\n",
       "      <td>19.0</td>\n",
       "      <td>Post St at Kearny St</td>\n",
       "      <td>37.788975</td>\n",
       "      <td>...</td>\n",
       "      <td>617</td>\n",
       "      <td>Subscriber</td>\n",
       "      <td>No</td>\n",
       "      <td>January</td>\n",
       "      <td>1</td>\n",
       "      <td>Wed</td>\n",
       "      <td>19</td>\n",
       "      <td>6</td>\n",
       "      <td>666</td>\n",
       "      <td>2018-01-31</td>\n",
       "    </tr>\n",
       "    <tr>\n",
       "      <th>...</th>\n",
       "      <td>...</td>\n",
       "      <td>...</td>\n",
       "      <td>...</td>\n",
       "      <td>...</td>\n",
       "      <td>...</td>\n",
       "      <td>...</td>\n",
       "      <td>...</td>\n",
       "      <td>...</td>\n",
       "      <td>...</td>\n",
       "      <td>...</td>\n",
       "      <td>...</td>\n",
       "      <td>...</td>\n",
       "      <td>...</td>\n",
       "      <td>...</td>\n",
       "      <td>...</td>\n",
       "      <td>...</td>\n",
       "      <td>...</td>\n",
       "      <td>...</td>\n",
       "      <td>...</td>\n",
       "      <td>...</td>\n",
       "      <td>...</td>\n",
       "    </tr>\n",
       "    <tr>\n",
       "      <th>1863716</th>\n",
       "      <td>473</td>\n",
       "      <td>2018-12-01 00:11:54.811</td>\n",
       "      <td>2018-12-01 00:19:48.547</td>\n",
       "      <td>345.0</td>\n",
       "      <td>Hubbell St at 16th St</td>\n",
       "      <td>37.766474</td>\n",
       "      <td>-122.398295</td>\n",
       "      <td>81.0</td>\n",
       "      <td>Berry St at 4th St</td>\n",
       "      <td>37.775880</td>\n",
       "      <td>...</td>\n",
       "      <td>3035</td>\n",
       "      <td>Subscriber</td>\n",
       "      <td>No</td>\n",
       "      <td>December</td>\n",
       "      <td>12</td>\n",
       "      <td>Sat</td>\n",
       "      <td>0</td>\n",
       "      <td>0</td>\n",
       "      <td>7</td>\n",
       "      <td>2018-12-01</td>\n",
       "    </tr>\n",
       "    <tr>\n",
       "      <th>1863717</th>\n",
       "      <td>841</td>\n",
       "      <td>2018-12-01 00:02:48.726</td>\n",
       "      <td>2018-12-01 00:16:49.766</td>\n",
       "      <td>10.0</td>\n",
       "      <td>Washington St at Kearny St</td>\n",
       "      <td>37.795393</td>\n",
       "      <td>-122.404770</td>\n",
       "      <td>58.0</td>\n",
       "      <td>Market St at 10th St</td>\n",
       "      <td>37.776619</td>\n",
       "      <td>...</td>\n",
       "      <td>2034</td>\n",
       "      <td>Subscriber</td>\n",
       "      <td>No</td>\n",
       "      <td>December</td>\n",
       "      <td>12</td>\n",
       "      <td>Sat</td>\n",
       "      <td>0</td>\n",
       "      <td>0</td>\n",
       "      <td>14</td>\n",
       "      <td>2018-12-01</td>\n",
       "    </tr>\n",
       "    <tr>\n",
       "      <th>1863718</th>\n",
       "      <td>260</td>\n",
       "      <td>2018-12-01 00:05:27.615</td>\n",
       "      <td>2018-12-01 00:09:47.956</td>\n",
       "      <td>245.0</td>\n",
       "      <td>Downtown Berkeley BART</td>\n",
       "      <td>37.870139</td>\n",
       "      <td>-122.268422</td>\n",
       "      <td>255.0</td>\n",
       "      <td>Virginia St at Shattuck Ave</td>\n",
       "      <td>37.876573</td>\n",
       "      <td>...</td>\n",
       "      <td>2243</td>\n",
       "      <td>Subscriber</td>\n",
       "      <td>No</td>\n",
       "      <td>December</td>\n",
       "      <td>12</td>\n",
       "      <td>Sat</td>\n",
       "      <td>0</td>\n",
       "      <td>0</td>\n",
       "      <td>4</td>\n",
       "      <td>2018-12-01</td>\n",
       "    </tr>\n",
       "    <tr>\n",
       "      <th>1863719</th>\n",
       "      <td>292</td>\n",
       "      <td>2018-12-01 00:03:06.549</td>\n",
       "      <td>2018-12-01 00:07:59.080</td>\n",
       "      <td>93.0</td>\n",
       "      <td>4th St at Mission Bay Blvd S</td>\n",
       "      <td>37.770407</td>\n",
       "      <td>-122.391198</td>\n",
       "      <td>126.0</td>\n",
       "      <td>Esprit Park</td>\n",
       "      <td>37.761634</td>\n",
       "      <td>...</td>\n",
       "      <td>545</td>\n",
       "      <td>Subscriber</td>\n",
       "      <td>No</td>\n",
       "      <td>December</td>\n",
       "      <td>12</td>\n",
       "      <td>Sat</td>\n",
       "      <td>0</td>\n",
       "      <td>0</td>\n",
       "      <td>4</td>\n",
       "      <td>2018-12-01</td>\n",
       "    </tr>\n",
       "    <tr>\n",
       "      <th>1863720</th>\n",
       "      <td>150</td>\n",
       "      <td>2018-12-01 00:03:05.742</td>\n",
       "      <td>2018-12-01 00:05:36.026</td>\n",
       "      <td>107.0</td>\n",
       "      <td>17th St at Dolores St</td>\n",
       "      <td>37.763015</td>\n",
       "      <td>-122.426497</td>\n",
       "      <td>119.0</td>\n",
       "      <td>18th St at Noe St</td>\n",
       "      <td>37.761047</td>\n",
       "      <td>...</td>\n",
       "      <td>4319</td>\n",
       "      <td>Subscriber</td>\n",
       "      <td>No</td>\n",
       "      <td>December</td>\n",
       "      <td>12</td>\n",
       "      <td>Sat</td>\n",
       "      <td>0</td>\n",
       "      <td>0</td>\n",
       "      <td>2</td>\n",
       "      <td>2018-12-01</td>\n",
       "    </tr>\n",
       "  </tbody>\n",
       "</table>\n",
       "<p>1863721 rows × 21 columns</p>\n",
       "</div>"
      ],
      "text/plain": [
       "         duration_sec              start_time                end_time  \\\n",
       "0               75284 2018-01-31 22:52:35.239 2018-02-01 19:47:19.824   \n",
       "1               85422 2018-01-31 16:13:34.351 2018-02-01 15:57:17.310   \n",
       "2               71576 2018-01-31 14:23:55.889 2018-02-01 10:16:52.116   \n",
       "3               61076 2018-01-31 14:53:23.562 2018-02-01 07:51:20.500   \n",
       "4               39966 2018-01-31 19:52:24.667 2018-02-01 06:58:31.053   \n",
       "...               ...                     ...                     ...   \n",
       "1863716           473 2018-12-01 00:11:54.811 2018-12-01 00:19:48.547   \n",
       "1863717           841 2018-12-01 00:02:48.726 2018-12-01 00:16:49.766   \n",
       "1863718           260 2018-12-01 00:05:27.615 2018-12-01 00:09:47.956   \n",
       "1863719           292 2018-12-01 00:03:06.549 2018-12-01 00:07:59.080   \n",
       "1863720           150 2018-12-01 00:03:05.742 2018-12-01 00:05:36.026   \n",
       "\n",
       "        start_station_id                                 start_station_name  \\\n",
       "0                  120.0                               Mission Dolores Park   \n",
       "1                   15.0  San Francisco Ferry Building (Harry Bridges Pl...   \n",
       "2                  304.0                               Jackson St at 5th St   \n",
       "3                   75.0                           Market St at Franklin St   \n",
       "4                   74.0                              Laguna St at Hayes St   \n",
       "...                  ...                                                ...   \n",
       "1863716            345.0                              Hubbell St at 16th St   \n",
       "1863717             10.0                         Washington St at Kearny St   \n",
       "1863718            245.0                             Downtown Berkeley BART   \n",
       "1863719             93.0                       4th St at Mission Bay Blvd S   \n",
       "1863720            107.0                              17th St at Dolores St   \n",
       "\n",
       "         start_station_latitude  start_station_longitude end_station_id  \\\n",
       "0                     37.761420              -122.426435          285.0   \n",
       "1                     37.795392              -122.394203           15.0   \n",
       "2                     37.348759              -121.894798          296.0   \n",
       "3                     37.773793              -122.421239           47.0   \n",
       "4                     37.776435              -122.426244           19.0   \n",
       "...                         ...                      ...            ...   \n",
       "1863716               37.766474              -122.398295           81.0   \n",
       "1863717               37.795393              -122.404770           58.0   \n",
       "1863718               37.870139              -122.268422          255.0   \n",
       "1863719               37.770407              -122.391198          126.0   \n",
       "1863720               37.763015              -122.426497          119.0   \n",
       "\n",
       "                                          end_station_name  \\\n",
       "0                               Webster St at O'Farrell St   \n",
       "1        San Francisco Ferry Building (Harry Bridges Pl...   \n",
       "2                                    5th St at Virginia St   \n",
       "3                                    4th St at Harrison St   \n",
       "4                                     Post St at Kearny St   \n",
       "...                                                    ...   \n",
       "1863716                                 Berry St at 4th St   \n",
       "1863717                               Market St at 10th St   \n",
       "1863718                        Virginia St at Shattuck Ave   \n",
       "1863719                                        Esprit Park   \n",
       "1863720                                  18th St at Noe St   \n",
       "\n",
       "         end_station_latitude  ...  bike_id   user_type  \\\n",
       "0                   37.783521  ...     2765  Subscriber   \n",
       "1                   37.795392  ...     2815    Customer   \n",
       "2                   37.325998  ...     3039    Customer   \n",
       "3                   37.780955  ...      321    Customer   \n",
       "4                   37.788975  ...      617  Subscriber   \n",
       "...                       ...  ...      ...         ...   \n",
       "1863716             37.775880  ...     3035  Subscriber   \n",
       "1863717             37.776619  ...     2034  Subscriber   \n",
       "1863718             37.876573  ...     2243  Subscriber   \n",
       "1863719             37.761634  ...      545  Subscriber   \n",
       "1863720             37.761047  ...     4319  Subscriber   \n",
       "\n",
       "        bike_share_for_all_trip start_time_month start_time_month_num  \\\n",
       "0                            No          January                    1   \n",
       "1                            No          January                    1   \n",
       "2                            No          January                    1   \n",
       "3                            No          January                    1   \n",
       "4                            No          January                    1   \n",
       "...                         ...              ...                  ...   \n",
       "1863716                      No         December                   12   \n",
       "1863717                      No         December                   12   \n",
       "1863718                      No         December                   12   \n",
       "1863719                      No         December                   12   \n",
       "1863720                      No         December                   12   \n",
       "\n",
       "         start_time_weekday start_time_hour  end_time_hour  duration_min  \\\n",
       "0                       Wed              22             19          1254   \n",
       "1                       Wed              16             15          1423   \n",
       "2                       Wed              14             10          1192   \n",
       "3                       Wed              14              7          1017   \n",
       "4                       Wed              19              6           666   \n",
       "...                     ...             ...            ...           ...   \n",
       "1863716                 Sat               0              0             7   \n",
       "1863717                 Sat               0              0            14   \n",
       "1863718                 Sat               0              0             4   \n",
       "1863719                 Sat               0              0             4   \n",
       "1863720                 Sat               0              0             2   \n",
       "\n",
       "         start_date  \n",
       "0        2018-01-31  \n",
       "1        2018-01-31  \n",
       "2        2018-01-31  \n",
       "3        2018-01-31  \n",
       "4        2018-01-31  \n",
       "...             ...  \n",
       "1863716  2018-12-01  \n",
       "1863717  2018-12-01  \n",
       "1863718  2018-12-01  \n",
       "1863719  2018-12-01  \n",
       "1863720  2018-12-01  \n",
       "\n",
       "[1863721 rows x 21 columns]"
      ]
     },
     "execution_count": 44,
     "metadata": {},
     "output_type": "execute_result"
    }
   ],
   "source": [
    "df_cleaned"
   ]
  },
  {
   "cell_type": "code",
   "execution_count": 45,
   "metadata": {
    "slideshow": {
     "slide_type": "-"
    }
   },
   "outputs": [
    {
     "data": {
      "text/plain": [
       "(1863721, 21)"
      ]
     },
     "execution_count": 45,
     "metadata": {},
     "output_type": "execute_result"
    }
   ],
   "source": [
    "df_cleaned.shape"
   ]
  },
  {
   "cell_type": "code",
   "execution_count": 46,
   "metadata": {
    "slideshow": {
     "slide_type": "-"
    }
   },
   "outputs": [
    {
     "name": "stdout",
     "output_type": "stream",
     "text": [
      "<class 'pandas.core.frame.DataFrame'>\n",
      "RangeIndex: 1863721 entries, 0 to 1863720\n",
      "Data columns (total 21 columns):\n",
      " #   Column                   Non-Null Count    Dtype         \n",
      "---  ------                   --------------    -----         \n",
      " 0   duration_sec             1863721 non-null  int64         \n",
      " 1   start_time               1863721 non-null  datetime64[ns]\n",
      " 2   end_time                 1863721 non-null  datetime64[ns]\n",
      " 3   start_station_id         1863721 non-null  object        \n",
      " 4   start_station_name       1851950 non-null  object        \n",
      " 5   start_station_latitude   1863721 non-null  float64       \n",
      " 6   start_station_longitude  1863721 non-null  float64       \n",
      " 7   end_station_id           1863721 non-null  object        \n",
      " 8   end_station_name         1851950 non-null  object        \n",
      " 9   end_station_latitude     1863721 non-null  float64       \n",
      " 10  end_station_longitude    1863721 non-null  float64       \n",
      " 11  bike_id                  1863721 non-null  object        \n",
      " 12  user_type                1863721 non-null  category      \n",
      " 13  bike_share_for_all_trip  1863721 non-null  category      \n",
      " 14  start_time_month         1863721 non-null  object        \n",
      " 15  start_time_month_num     1863721 non-null  int32         \n",
      " 16  start_time_weekday       1863721 non-null  object        \n",
      " 17  start_time_hour          1863721 non-null  int64         \n",
      " 18  end_time_hour            1863721 non-null  int64         \n",
      " 19  duration_min             1863721 non-null  int32         \n",
      " 20  start_date               1863721 non-null  object        \n",
      "dtypes: category(2), datetime64[ns](2), float64(4), int32(2), int64(3), object(8)\n",
      "memory usage: 259.5+ MB\n"
     ]
    }
   ],
   "source": [
    "df_cleaned.info(null_counts = True)"
   ]
  },
  {
   "cell_type": "markdown",
   "metadata": {
    "slideshow": {
     "slide_type": "-"
    }
   },
   "source": [
    "#### Define: Calculate the total distance traveled using the latitude and longitude in the data set\n",
    "Calculations are derived from the 'haversine' formula which is used to calculate the great-circle distance between tow points, i.e. the shortest distance over the earth's surface. Thank you Google for providing a way to figure this out! Reference is listed in the sources at the end of this document."
   ]
  },
  {
   "cell_type": "code",
   "execution_count": 47,
   "metadata": {
    "slideshow": {
     "slide_type": "-"
    }
   },
   "outputs": [],
   "source": [
    "import math\n",
    "from math import radians, sin, cos, acos\n",
    "\n",
    "def distance(origin, destination):\n",
    "\n",
    "    lat1, long1 = origin\n",
    "    lat2, long2 = destination\n",
    "    radius = 6371\n",
    "    # this is in kilometers - will convert to US units of miles after\n",
    "\n",
    "    dlat = math.radians(lat2 - lat1)\n",
    "    dlong = math.radians(long2 - long1)\n",
    "    \n",
    "    a = (math.sin(dlat / 2) * math.sin(dlat / 2) + math.cos(math.radians(lat1)) * math.cos(math.radians(lat2)) * math.sin(dlong / 2) * math.sin(dlong / 2))\n",
    "    c = 2 * math.atan2(math.sqrt(a), math.sqrt(1 - a))\n",
    "    d = radius * c\n",
    "\n",
    "    return d"
   ]
  },
  {
   "cell_type": "code",
   "execution_count": 48,
   "metadata": {
    "slideshow": {
     "slide_type": "-"
    }
   },
   "outputs": [],
   "source": [
    "# Using the calcuated math on our columns for lat and long\n",
    "df_cleaned['distance_km'] = df_cleaned.apply(lambda x: distance((x['start_station_latitude'], x['start_station_longitude']), (x['end_station_latitude'], x['end_station_longitude'])), axis=1)"
   ]
  },
  {
   "cell_type": "code",
   "execution_count": 49,
   "metadata": {
    "slideshow": {
     "slide_type": "-"
    }
   },
   "outputs": [],
   "source": [
    "# Converting the kilometers to miles\n",
    "df_cleaned['distance_miles'] = df_cleaned['distance_km'] * 0.621371"
   ]
  },
  {
   "cell_type": "code",
   "execution_count": 50,
   "metadata": {
    "scrolled": true,
    "slideshow": {
     "slide_type": "-"
    }
   },
   "outputs": [
    {
     "data": {
      "text/html": [
       "<div>\n",
       "<style scoped>\n",
       "    .dataframe tbody tr th:only-of-type {\n",
       "        vertical-align: middle;\n",
       "    }\n",
       "\n",
       "    .dataframe tbody tr th {\n",
       "        vertical-align: top;\n",
       "    }\n",
       "\n",
       "    .dataframe thead th {\n",
       "        text-align: right;\n",
       "    }\n",
       "</style>\n",
       "<table border=\"1\" class=\"dataframe\">\n",
       "  <thead>\n",
       "    <tr style=\"text-align: right;\">\n",
       "      <th></th>\n",
       "      <th>duration_sec</th>\n",
       "      <th>start_time</th>\n",
       "      <th>end_time</th>\n",
       "      <th>start_station_id</th>\n",
       "      <th>start_station_name</th>\n",
       "      <th>start_station_latitude</th>\n",
       "      <th>start_station_longitude</th>\n",
       "      <th>end_station_id</th>\n",
       "      <th>end_station_name</th>\n",
       "      <th>end_station_latitude</th>\n",
       "      <th>...</th>\n",
       "      <th>bike_share_for_all_trip</th>\n",
       "      <th>start_time_month</th>\n",
       "      <th>start_time_month_num</th>\n",
       "      <th>start_time_weekday</th>\n",
       "      <th>start_time_hour</th>\n",
       "      <th>end_time_hour</th>\n",
       "      <th>duration_min</th>\n",
       "      <th>start_date</th>\n",
       "      <th>distance_km</th>\n",
       "      <th>distance_miles</th>\n",
       "    </tr>\n",
       "  </thead>\n",
       "  <tbody>\n",
       "    <tr>\n",
       "      <th>1069179</th>\n",
       "      <td>375</td>\n",
       "      <td>2018-08-23 16:42:24.683</td>\n",
       "      <td>2018-08-23 16:48:40.393</td>\n",
       "      <td>36.0</td>\n",
       "      <td>Folsom St at 3rd St</td>\n",
       "      <td>37.783830</td>\n",
       "      <td>-122.398870</td>\n",
       "      <td>67.0</td>\n",
       "      <td>San Francisco Caltrain Station 2  (Townsend St...</td>\n",
       "      <td>37.776639</td>\n",
       "      <td>...</td>\n",
       "      <td>No</td>\n",
       "      <td>August</td>\n",
       "      <td>8</td>\n",
       "      <td>Thu</td>\n",
       "      <td>16</td>\n",
       "      <td>16</td>\n",
       "      <td>6</td>\n",
       "      <td>2018-08-23</td>\n",
       "      <td>0.851870</td>\n",
       "      <td>0.529327</td>\n",
       "    </tr>\n",
       "    <tr>\n",
       "      <th>1012596</th>\n",
       "      <td>1154</td>\n",
       "      <td>2018-07-02 11:41:42.268</td>\n",
       "      <td>2018-07-02 12:00:56.449</td>\n",
       "      <td>129.0</td>\n",
       "      <td>Harrison St at 20th St</td>\n",
       "      <td>37.758862</td>\n",
       "      <td>-122.412544</td>\n",
       "      <td>343.0</td>\n",
       "      <td>Bryant St at 2nd St</td>\n",
       "      <td>37.783172</td>\n",
       "      <td>...</td>\n",
       "      <td>No</td>\n",
       "      <td>July</td>\n",
       "      <td>7</td>\n",
       "      <td>Mon</td>\n",
       "      <td>11</td>\n",
       "      <td>12</td>\n",
       "      <td>19</td>\n",
       "      <td>2018-07-02</td>\n",
       "      <td>3.176121</td>\n",
       "      <td>1.973549</td>\n",
       "    </tr>\n",
       "    <tr>\n",
       "      <th>1416817</th>\n",
       "      <td>549</td>\n",
       "      <td>2018-10-29 09:04:21.232</td>\n",
       "      <td>2018-10-29 09:13:30.834</td>\n",
       "      <td>124.0</td>\n",
       "      <td>19th St at Florida St</td>\n",
       "      <td>37.760447</td>\n",
       "      <td>-122.410807</td>\n",
       "      <td>104.0</td>\n",
       "      <td>4th St at 16th St</td>\n",
       "      <td>37.767045</td>\n",
       "      <td>...</td>\n",
       "      <td>No</td>\n",
       "      <td>October</td>\n",
       "      <td>10</td>\n",
       "      <td>Mon</td>\n",
       "      <td>9</td>\n",
       "      <td>9</td>\n",
       "      <td>9</td>\n",
       "      <td>2018-10-29</td>\n",
       "      <td>1.902865</td>\n",
       "      <td>1.182385</td>\n",
       "    </tr>\n",
       "    <tr>\n",
       "      <th>670689</th>\n",
       "      <td>153</td>\n",
       "      <td>2018-06-24 10:15:02.475</td>\n",
       "      <td>2018-06-24 10:17:36.161</td>\n",
       "      <td>19.0</td>\n",
       "      <td>Post St at Kearny St</td>\n",
       "      <td>37.788975</td>\n",
       "      <td>-122.403452</td>\n",
       "      <td>19.0</td>\n",
       "      <td>Post St at Kearny St</td>\n",
       "      <td>37.788975</td>\n",
       "      <td>...</td>\n",
       "      <td>No</td>\n",
       "      <td>June</td>\n",
       "      <td>6</td>\n",
       "      <td>Sun</td>\n",
       "      <td>10</td>\n",
       "      <td>10</td>\n",
       "      <td>2</td>\n",
       "      <td>2018-06-24</td>\n",
       "      <td>0.000000</td>\n",
       "      <td>0.000000</td>\n",
       "    </tr>\n",
       "    <tr>\n",
       "      <th>1258330</th>\n",
       "      <td>137</td>\n",
       "      <td>2018-09-23 16:44:47.918</td>\n",
       "      <td>2018-09-23 16:47:05.467</td>\n",
       "      <td>74.0</td>\n",
       "      <td>Laguna St at Hayes St</td>\n",
       "      <td>37.776435</td>\n",
       "      <td>-122.426244</td>\n",
       "      <td>74.0</td>\n",
       "      <td>Laguna St at Hayes St</td>\n",
       "      <td>37.776435</td>\n",
       "      <td>...</td>\n",
       "      <td>No</td>\n",
       "      <td>September</td>\n",
       "      <td>9</td>\n",
       "      <td>Sun</td>\n",
       "      <td>16</td>\n",
       "      <td>16</td>\n",
       "      <td>2</td>\n",
       "      <td>2018-09-23</td>\n",
       "      <td>0.000000</td>\n",
       "      <td>0.000000</td>\n",
       "    </tr>\n",
       "  </tbody>\n",
       "</table>\n",
       "<p>5 rows × 23 columns</p>\n",
       "</div>"
      ],
      "text/plain": [
       "         duration_sec              start_time                end_time  \\\n",
       "1069179           375 2018-08-23 16:42:24.683 2018-08-23 16:48:40.393   \n",
       "1012596          1154 2018-07-02 11:41:42.268 2018-07-02 12:00:56.449   \n",
       "1416817           549 2018-10-29 09:04:21.232 2018-10-29 09:13:30.834   \n",
       "670689            153 2018-06-24 10:15:02.475 2018-06-24 10:17:36.161   \n",
       "1258330           137 2018-09-23 16:44:47.918 2018-09-23 16:47:05.467   \n",
       "\n",
       "        start_station_id      start_station_name  start_station_latitude  \\\n",
       "1069179             36.0     Folsom St at 3rd St               37.783830   \n",
       "1012596            129.0  Harrison St at 20th St               37.758862   \n",
       "1416817            124.0   19th St at Florida St               37.760447   \n",
       "670689              19.0    Post St at Kearny St               37.788975   \n",
       "1258330             74.0   Laguna St at Hayes St               37.776435   \n",
       "\n",
       "         start_station_longitude end_station_id  \\\n",
       "1069179              -122.398870           67.0   \n",
       "1012596              -122.412544          343.0   \n",
       "1416817              -122.410807          104.0   \n",
       "670689               -122.403452           19.0   \n",
       "1258330              -122.426244           74.0   \n",
       "\n",
       "                                          end_station_name  \\\n",
       "1069179  San Francisco Caltrain Station 2  (Townsend St...   \n",
       "1012596                                Bryant St at 2nd St   \n",
       "1416817                                  4th St at 16th St   \n",
       "670689                                Post St at Kearny St   \n",
       "1258330                              Laguna St at Hayes St   \n",
       "\n",
       "         end_station_latitude  ...  bike_share_for_all_trip start_time_month  \\\n",
       "1069179             37.776639  ...                       No           August   \n",
       "1012596             37.783172  ...                       No             July   \n",
       "1416817             37.767045  ...                       No          October   \n",
       "670689              37.788975  ...                       No             June   \n",
       "1258330             37.776435  ...                       No        September   \n",
       "\n",
       "        start_time_month_num start_time_weekday start_time_hour  \\\n",
       "1069179                    8                Thu              16   \n",
       "1012596                    7                Mon              11   \n",
       "1416817                   10                Mon               9   \n",
       "670689                     6                Sun              10   \n",
       "1258330                    9                Sun              16   \n",
       "\n",
       "         end_time_hour duration_min  start_date  distance_km  distance_miles  \n",
       "1069179             16            6  2018-08-23     0.851870        0.529327  \n",
       "1012596             12           19  2018-07-02     3.176121        1.973549  \n",
       "1416817              9            9  2018-10-29     1.902865        1.182385  \n",
       "670689              10            2  2018-06-24     0.000000        0.000000  \n",
       "1258330             16            2  2018-09-23     0.000000        0.000000  \n",
       "\n",
       "[5 rows x 23 columns]"
      ]
     },
     "execution_count": 50,
     "metadata": {},
     "output_type": "execute_result"
    }
   ],
   "source": [
    "df_cleaned.sample(5)\n",
    "# Phew! Let's not do any additional math for this analysis. But this is pretty cool"
   ]
  },
  {
   "cell_type": "code",
   "execution_count": 51,
   "metadata": {
    "slideshow": {
     "slide_type": "-"
    }
   },
   "outputs": [
    {
     "name": "stdout",
     "output_type": "stream",
     "text": [
      "<class 'pandas.core.frame.DataFrame'>\n",
      "RangeIndex: 1863721 entries, 0 to 1863720\n",
      "Data columns (total 23 columns):\n",
      " #   Column                   Dtype         \n",
      "---  ------                   -----         \n",
      " 0   duration_sec             int64         \n",
      " 1   start_time               datetime64[ns]\n",
      " 2   end_time                 datetime64[ns]\n",
      " 3   start_station_id         object        \n",
      " 4   start_station_name       object        \n",
      " 5   start_station_latitude   float64       \n",
      " 6   start_station_longitude  float64       \n",
      " 7   end_station_id           object        \n",
      " 8   end_station_name         object        \n",
      " 9   end_station_latitude     float64       \n",
      " 10  end_station_longitude    float64       \n",
      " 11  bike_id                  object        \n",
      " 12  user_type                category      \n",
      " 13  bike_share_for_all_trip  category      \n",
      " 14  start_time_month         object        \n",
      " 15  start_time_month_num     int32         \n",
      " 16  start_time_weekday       object        \n",
      " 17  start_time_hour          int64         \n",
      " 18  end_time_hour            int64         \n",
      " 19  duration_min             int32         \n",
      " 20  start_date               object        \n",
      " 21  distance_km              float64       \n",
      " 22  distance_miles           float64       \n",
      "dtypes: category(2), datetime64[ns](2), float64(6), int32(2), int64(3), object(8)\n",
      "memory usage: 287.9+ MB\n"
     ]
    }
   ],
   "source": [
    "df_cleaned.info()"
   ]
  },
  {
   "cell_type": "code",
   "execution_count": 52,
   "metadata": {
    "slideshow": {
     "slide_type": "-"
    }
   },
   "outputs": [],
   "source": [
    "#Save the cleaned data set to a new file\n",
    "df_cleaned.to_csv('fordgo_master_clean.csv', index = False)"
   ]
  },
  {
   "cell_type": "markdown",
   "metadata": {
    "slideshow": {
     "slide_type": "subslide"
    }
   },
   "source": [
    "#### Structure of the Dataset"
   ]
  },
  {
   "cell_type": "markdown",
   "metadata": {
    "slideshow": {
     "slide_type": "subslide"
    }
   },
   "source": [
    "The FordGoBike data is straightforward and intuitive to understand. This data has been collected efficiently, providing a valuable collection of data to work with and draw conclusions from.\n",
    "\n",
    "This notebook uses data collected from January 2018 through December, 2018. There were approximately 1,860,000 (1,863,721) bike rides in the San Francisco Bay area of California, USA documented.\n",
    "\n",
    "The column header descriptions are as follows (each trip is anonymized):\n"
   ]
  },
  {
   "cell_type": "markdown",
   "metadata": {
    "slideshow": {
     "slide_type": "subslide"
    }
   },
   "source": [
    "- Trip Duration (seconds)\n",
    "  - Start Time and Date\n",
    "  - End Time and Date\n",
    "- Start Station ID\n",
    "  - Start Station Name\n",
    "  - Start Station Latitude\n",
    "  - Start Station Longitude\n",
    "- End Station ID\n",
    "  - End Station Name\n",
    "  - End Station Latitude\n",
    "  - End Station Longitude\n",
    "- Bike ID\n",
    "- User Type (Subscriber or Customer – “Subscriber” = Member or “Customer” = Casual)\n",
    "\n",
    "I added the following columns in my cleaning efforts:\n",
    "\n",
    "- Start Time Month\n",
    "- Start Time Month Number\n",
    "- Start Time Day of the Week\n",
    "- Start and end Time Hour\n",
    "- Duration (min)\n",
    "- Distance (km)\n",
    "- Distance (miles)"
   ]
  },
  {
   "cell_type": "markdown",
   "metadata": {},
   "source": [
    "#### What is/are the main feature(s) of interest in the dataset?"
   ]
  },
  {
   "cell_type": "markdown",
   "metadata": {},
   "source": [
    "The main features include data related to the start and end of a ride. This can be used to calculate when bikes are in high or low demand. There is also ample data related to the users of the bike service, whether they are a paying member or a casual user. These features can be used to make business decisions such as which day of the week bikes should be most available."
   ]
  },
  {
   "cell_type": "markdown",
   "metadata": {},
   "source": [
    "#### What features in the dataset will help support the investigation into feature(s) of interest?"
   ]
  },
  {
   "cell_type": "markdown",
   "metadata": {},
   "source": [
    "The start and end times, and related time-based information will be utilized heavily. I will use the customer related data, as well as the distance to understand the user-driven data behind each ride."
   ]
  },
  {
   "cell_type": "markdown",
   "metadata": {},
   "source": [
    "## Univariate Exploration\n",
    "In this section, I investigate distributions of individual variables. This is also in preparation to look at the relationships between variables."
   ]
  },
  {
   "cell_type": "code",
   "execution_count": 53,
   "metadata": {},
   "outputs": [],
   "source": [
    "# Removing the rainbow colors and setting to the variable no_color\n",
    "no_color = sb.color_palette()[0]"
   ]
  },
  {
   "cell_type": "code",
   "execution_count": 54,
   "metadata": {},
   "outputs": [
    {
     "data": {
      "text/plain": [
       "count     1863721\n",
       "unique         12\n",
       "top       October\n",
       "freq       201458\n",
       "Name: start_time_month, dtype: object"
      ]
     },
     "execution_count": 54,
     "metadata": {},
     "output_type": "execute_result"
    }
   ],
   "source": [
    "# Before we visualize our data, let's see what kind of numbers we're looking at\n",
    "df_cleaned.start_time_month.describe()"
   ]
  },
  {
   "cell_type": "code",
   "execution_count": 55,
   "metadata": {},
   "outputs": [
    {
     "data": {
      "image/png": "[encoded data removed]",
      "text/plain": [
       "<Figure size 612x360 with 1 Axes>"
      ]
     },
     "metadata": {
      "needs_background": "light"
     },
     "output_type": "display_data"
    }
   ],
   "source": [
    "# Monthly usage of the Ford Go Bike system\n",
    "graph = sb.catplot(data = df_cleaned, x = 'start_time_month', kind = 'count', color = no_color, aspect = 1.7);\n",
    "\n",
    "graph.set_axis_labels('Month', 'Number of Bike Trips'),\n",
    "\n",
    "graph.fig.suptitle('Ford GoBike Usage by Month', y = 1.05, fontsize = 16, fontweight = 'bold');\n",
    "\n",
    "graph.set_xticklabels(rotation=75);"
   ]
  },
  {
   "cell_type": "markdown",
   "metadata": {},
   "source": [
    "###### Observation 1: Not surprisingly, the summer months and early-mid fall are the most popular times to use the Ford Go Bike sharing system. October is the most popular month, with July as the second most popular, and June/August coming in closely as the third most popular months to use the bike system. The weather in San Francisco is best in the mid-late summer and usually stays sunny until returning to its usual foggy weather in the late fall/early winter months."
   ]
  },
  {
   "cell_type": "code",
   "execution_count": 56,
   "metadata": {},
   "outputs": [
    {
     "data": {
      "image/png": "[encoded data removed]",
      "text/plain": [
       "<Figure size 360x360 with 1 Axes>"
      ]
     },
     "metadata": {
      "needs_background": "light"
     },
     "output_type": "display_data"
    }
   ],
   "source": [
    "# Weekday usage of the Ford Go bike system\n",
    "weekday = ['Mon', 'Tue', 'Wed', 'Thu', 'Fri', 'Sat', 'Sun']\n",
    "\n",
    "graph = sb.catplot(data=df_cleaned, x='start_time_weekday', kind='count', color = no_color, order = weekday)\n",
    "\n",
    "graph.set_axis_labels('Weekdays', 'Number of Bike Trips')\n",
    "\n",
    "graph.fig.suptitle('Ford GoBike Usage by Weekday', y=1.05, fontsize=16, fontweight='bold');\n",
    "\n",
    "graph.set_xticklabels(rotation=75);"
   ]
  },
  {
   "cell_type": "markdown",
   "metadata": {},
   "source": [
    "###### Observation 2: Tuesdays and Wednesdays seem to be the most popular days for using the bike sharing system, however Thursdays, Mondays and Fridays are very close to the Tues/Weds numbers. The usage drops significantly on Saturdays and Sundays suggesting the Ford bike share system is used primarily for commuting purposes during working days."
   ]
  },
  {
   "cell_type": "code",
   "execution_count": 57,
   "metadata": {},
   "outputs": [
    {
     "data": {
      "image/png": "[encoded data removed]",
      "text/plain": [
       "<Figure size 612x360 with 1 Axes>"
      ]
     },
     "metadata": {
      "needs_background": "light"
     },
     "output_type": "display_data"
    }
   ],
   "source": [
    "# Hourly usage of the Ford Go Bike System\n",
    "graph = sb.catplot(data = df_cleaned, x='start_time_hour', kind='count', color = no_color, aspect = 1.7)\n",
    "\n",
    "graph.set_axis_labels('Hours', 'Number of Bike Rides')\n",
    "\n",
    "graph.fig.suptitle('Ford GoBike System Usage by Hour', y=1.05, fontsize=16, fontweight='bold');"
   ]
  },
  {
   "cell_type": "markdown",
   "metadata": {},
   "source": [
    "###### Observation 3: The bikes saw the most usage during the morning hours of 8-9am, and in the afternoon hours of 5-6pm, which is a typical workday in the United States. This furthers the suggestion that the bikes are being used primarily for commuters."
   ]
  },
  {
   "cell_type": "code",
   "execution_count": 58,
   "metadata": {},
   "outputs": [
    {
     "data": {
      "text/plain": [
       "count    1.863721e+06\n",
       "mean     1.379682e+01\n",
       "std      3.950700e+01\n",
       "min      1.000000e+00\n",
       "25%      5.000000e+00\n",
       "50%      9.000000e+00\n",
       "75%      1.400000e+01\n",
       "max      1.439000e+03\n",
       "Name: duration_min, dtype: float64"
      ]
     },
     "execution_count": 58,
     "metadata": {},
     "output_type": "execute_result"
    }
   ],
   "source": [
    "df_cleaned.duration_min.describe()"
   ]
  },
  {
   "cell_type": "code",
   "execution_count": 59,
   "metadata": {},
   "outputs": [
    {
     "data": {
      "image/png": "[encoded data removed]",
      "text/plain": [
       "<Figure size 432x288 with 1 Axes>"
      ]
     },
     "metadata": {
      "needs_background": "light"
     },
     "output_type": "display_data"
    }
   ],
   "source": [
    "# Duration of the bike rides - in SECONDS\n",
    "bin_edges = np.arange(0, 3600, 60)\n",
    "\n",
    "plt.hist(data = df_cleaned, x = 'duration_sec', bins = bin_edges);\n",
    "\n",
    "plt.title(\"Ford GoBike System Trip Duration in Seconds\", y=1.05, fontsize=16, fontweight='bold')\n",
    "plt.xlabel('Duration (Sec)')\n",
    "plt.ylabel('Number of Bike Trips');"
   ]
  },
  {
   "cell_type": "code",
   "execution_count": 60,
   "metadata": {},
   "outputs": [
    {
     "data": {
      "text/plain": [
       "count    1.863721e+06\n",
       "mean     1.379682e+01\n",
       "std      3.950700e+01\n",
       "min      1.000000e+00\n",
       "25%      5.000000e+00\n",
       "50%      9.000000e+00\n",
       "75%      1.400000e+01\n",
       "max      1.439000e+03\n",
       "Name: duration_min, dtype: float64"
      ]
     },
     "execution_count": 60,
     "metadata": {},
     "output_type": "execute_result"
    }
   ],
   "source": [
    "df_cleaned.duration_min.describe(percentiles = [.95])\n",
    "df_cleaned.duration_min.describe()"
   ]
  },
  {
   "cell_type": "code",
   "execution_count": 61,
   "metadata": {},
   "outputs": [
    {
     "data": {
      "text/plain": [
       "13.796815081227287"
      ]
     },
     "execution_count": 61,
     "metadata": {},
     "output_type": "execute_result"
    }
   ],
   "source": [
    "df_cleaned.duration_min.mean()"
   ]
  },
  {
   "cell_type": "code",
   "execution_count": 62,
   "metadata": {},
   "outputs": [
    {
     "data": {
      "image/png": "[encoded data removed]",
      "text/plain": [
       "<Figure size 432x288 with 1 Axes>"
      ]
     },
     "metadata": {
      "needs_background": "light"
     },
     "output_type": "display_data"
    }
   ],
   "source": [
    "# Duration of the bike rides -in MINUTES\n",
    "bin_edges = np.arange(0, 45, 1)\n",
    "ticks = [0, 5, 10, 15, 20, 25, 30,  35, 40, 45]\n",
    "labels = ['{}'.format(val) for val in ticks]\n",
    "\n",
    "plt.hist(data = df_cleaned, x = 'duration_min', bins = bin_edges, rwidth = 0.6);\n",
    "#sb.distplot(df_cleaned['duration_min'], bins = bin_edges, kde = False, hist_kws = {'alpha' : 1});\n",
    "\n",
    "plt.title(\"Ford GoBike System Trip Duration in Minutes\", y=1.05, fontsize=16, fontweight='bold')\n",
    "plt.xlabel('Duration (Min)')\n",
    "plt.xticks(ticks, labels)\n",
    "plt.ylabel('Number of Bike Trips');"
   ]
  },
  {
   "cell_type": "markdown",
   "metadata": {},
   "source": [
    "###### Observation 4: The average trip is just under 13.8 minutes, with 75% of trips being under 14 minutes. Looking at the histogram, most rides fall in between the 3 - 11 minute range. This suggests riders are taking the bikes short distances."
   ]
  },
  {
   "cell_type": "code",
   "execution_count": 63,
   "metadata": {},
   "outputs": [
    {
     "data": {
      "text/plain": [
       "count    1.863721e+06\n",
       "mean     9.885569e-01\n",
       "std      6.389948e-01\n",
       "min      0.000000e+00\n",
       "25%      5.390663e-01\n",
       "50%      8.541301e-01\n",
       "75%      1.297083e+00\n",
       "max      4.058128e+01\n",
       "Name: distance_miles, dtype: float64"
      ]
     },
     "execution_count": 63,
     "metadata": {},
     "output_type": "execute_result"
    }
   ],
   "source": [
    "df_cleaned.distance_miles.describe()"
   ]
  },
  {
   "cell_type": "code",
   "execution_count": 64,
   "metadata": {},
   "outputs": [
    {
     "data": {
      "text/plain": [
       "0.9885568560652287"
      ]
     },
     "execution_count": 64,
     "metadata": {},
     "output_type": "execute_result"
    }
   ],
   "source": [
    "df_cleaned.distance_miles.mean()"
   ]
  },
  {
   "cell_type": "code",
   "execution_count": 65,
   "metadata": {},
   "outputs": [
    {
     "data": {
      "image/png": "[encoded data removed]",
      "text/plain": [
       "<Figure size 432x288 with 1 Axes>"
      ]
     },
     "metadata": {
      "needs_background": "light"
     },
     "output_type": "display_data"
    }
   ],
   "source": [
    "# Distance in miles traveled\n",
    "bin_edges = np.arange(0, 5, 1)\n",
    "\n",
    "plt.hist(data = df_cleaned, x = 'distance_miles', bins = bin_edges);\n",
    "\n",
    "plt.title(\"Ford GoBike System Trip Distance in Miles\", y=1.05, fontsize=16, fontweight='bold')\n",
    "plt.xlabel('Distance (Miles)')\n",
    "plt.ylabel('Number of Bike Trips');"
   ]
  },
  {
   "cell_type": "markdown",
   "metadata": {},
   "source": [
    "###### Observation 5: The mean distance traveled is 0.99 miles, with 75% of rides being 1.29 miles or less. Looking at the histogram above a majority of the rides fall under 2 miles, with over half of those 1 mile of less."
   ]
  },
  {
   "cell_type": "code",
   "execution_count": 66,
   "metadata": {},
   "outputs": [
    {
     "data": {
      "text/plain": [
       "<matplotlib.axes._subplots.AxesSubplot at 0x1a390506288>"
      ]
     },
     "execution_count": 66,
     "metadata": {},
     "output_type": "execute_result"
    },
    {
     "data": {
      "image/png": "[encoded data removed]",
      "text/plain": [
       "<Figure size 432x288 with 1 Axes>"
      ]
     },
     "metadata": {
      "needs_background": "light"
     },
     "output_type": "display_data"
    }
   ],
   "source": [
    "#Total duration in seconds of usage of the bike sharing system by Customer and Subscriber (coding with seaborn)\n",
    "sb.barplot(x='user_type', y='duration_sec', data=df_cleaned)"
   ]
  },
  {
   "cell_type": "markdown",
   "metadata": {},
   "source": [
    "###### Observation 6: The above plot indicateds that the duration of usage of the bike sharing system were more by customers than the members. "
   ]
  },
  {
   "cell_type": "code",
   "execution_count": 67,
   "metadata": {},
   "outputs": [
    {
     "data": {
      "text/plain": [
       "15.0     38461\n",
       "67.0     37617\n",
       "30.0     35092\n",
       "58.0     34918\n",
       "81.0     33716\n",
       "         ...  \n",
       "301.0       93\n",
       "359.0       91\n",
       "358.0       52\n",
       "374.0       25\n",
       "48.0        11\n",
       "Name: start_station_id, Length: 332, dtype: int64"
      ]
     },
     "execution_count": 67,
     "metadata": {},
     "output_type": "execute_result"
    }
   ],
   "source": [
    "#Most commonly used start_station, which start_station has high demand\n",
    "df_cleaned.start_station_id.value_counts(sort=True)"
   ]
  },
  {
   "cell_type": "code",
   "execution_count": 68,
   "metadata": {},
   "outputs": [],
   "source": [
    "df_max_station = df_cleaned[df_cleaned.start_station_id == '15.0']"
   ]
  },
  {
   "cell_type": "code",
   "execution_count": 69,
   "metadata": {
    "scrolled": true
   },
   "outputs": [
    {
     "data": {
      "text/html": [
       "<div>\n",
       "<style scoped>\n",
       "    .dataframe tbody tr th:only-of-type {\n",
       "        vertical-align: middle;\n",
       "    }\n",
       "\n",
       "    .dataframe tbody tr th {\n",
       "        vertical-align: top;\n",
       "    }\n",
       "\n",
       "    .dataframe thead th {\n",
       "        text-align: right;\n",
       "    }\n",
       "</style>\n",
       "<table border=\"1\" class=\"dataframe\">\n",
       "  <thead>\n",
       "    <tr style=\"text-align: right;\">\n",
       "      <th></th>\n",
       "      <th>duration_sec</th>\n",
       "      <th>start_time</th>\n",
       "      <th>end_time</th>\n",
       "      <th>start_station_id</th>\n",
       "      <th>start_station_name</th>\n",
       "      <th>start_station_latitude</th>\n",
       "      <th>start_station_longitude</th>\n",
       "      <th>end_station_id</th>\n",
       "      <th>end_station_name</th>\n",
       "      <th>end_station_latitude</th>\n",
       "      <th>...</th>\n",
       "      <th>bike_share_for_all_trip</th>\n",
       "      <th>start_time_month</th>\n",
       "      <th>start_time_month_num</th>\n",
       "      <th>start_time_weekday</th>\n",
       "      <th>start_time_hour</th>\n",
       "      <th>end_time_hour</th>\n",
       "      <th>duration_min</th>\n",
       "      <th>start_date</th>\n",
       "      <th>distance_km</th>\n",
       "      <th>distance_miles</th>\n",
       "    </tr>\n",
       "  </thead>\n",
       "  <tbody>\n",
       "    <tr>\n",
       "      <th>1</th>\n",
       "      <td>85422</td>\n",
       "      <td>2018-01-31 16:13:34.351</td>\n",
       "      <td>2018-02-01 15:57:17.310</td>\n",
       "      <td>15.0</td>\n",
       "      <td>San Francisco Ferry Building (Harry Bridges Pl...</td>\n",
       "      <td>37.795392</td>\n",
       "      <td>-122.394203</td>\n",
       "      <td>15.0</td>\n",
       "      <td>San Francisco Ferry Building (Harry Bridges Pl...</td>\n",
       "      <td>37.795392</td>\n",
       "      <td>...</td>\n",
       "      <td>No</td>\n",
       "      <td>January</td>\n",
       "      <td>1</td>\n",
       "      <td>Wed</td>\n",
       "      <td>16</td>\n",
       "      <td>15</td>\n",
       "      <td>1423</td>\n",
       "      <td>2018-01-31</td>\n",
       "      <td>0.000000</td>\n",
       "      <td>0.000000</td>\n",
       "    </tr>\n",
       "    <tr>\n",
       "      <th>30</th>\n",
       "      <td>375</td>\n",
       "      <td>2018-01-31 22:56:31.082</td>\n",
       "      <td>2018-01-31 23:02:46.583</td>\n",
       "      <td>15.0</td>\n",
       "      <td>San Francisco Ferry Building (Harry Bridges Pl...</td>\n",
       "      <td>37.795392</td>\n",
       "      <td>-122.394203</td>\n",
       "      <td>6.0</td>\n",
       "      <td>The Embarcadero at Sansome St</td>\n",
       "      <td>37.804770</td>\n",
       "      <td>...</td>\n",
       "      <td>No</td>\n",
       "      <td>January</td>\n",
       "      <td>1</td>\n",
       "      <td>Wed</td>\n",
       "      <td>22</td>\n",
       "      <td>23</td>\n",
       "      <td>6</td>\n",
       "      <td>2018-01-31</td>\n",
       "      <td>1.310345</td>\n",
       "      <td>0.814210</td>\n",
       "    </tr>\n",
       "    <tr>\n",
       "      <th>90</th>\n",
       "      <td>451</td>\n",
       "      <td>2018-01-31 21:57:35.425</td>\n",
       "      <td>2018-01-31 22:05:07.018</td>\n",
       "      <td>15.0</td>\n",
       "      <td>San Francisco Ferry Building (Harry Bridges Pl...</td>\n",
       "      <td>37.795392</td>\n",
       "      <td>-122.394203</td>\n",
       "      <td>6.0</td>\n",
       "      <td>The Embarcadero at Sansome St</td>\n",
       "      <td>37.804770</td>\n",
       "      <td>...</td>\n",
       "      <td>No</td>\n",
       "      <td>January</td>\n",
       "      <td>1</td>\n",
       "      <td>Wed</td>\n",
       "      <td>21</td>\n",
       "      <td>22</td>\n",
       "      <td>7</td>\n",
       "      <td>2018-01-31</td>\n",
       "      <td>1.310345</td>\n",
       "      <td>0.814210</td>\n",
       "    </tr>\n",
       "    <tr>\n",
       "      <th>141</th>\n",
       "      <td>841</td>\n",
       "      <td>2018-01-31 21:25:01.905</td>\n",
       "      <td>2018-01-31 21:39:03.712</td>\n",
       "      <td>15.0</td>\n",
       "      <td>San Francisco Ferry Building (Harry Bridges Pl...</td>\n",
       "      <td>37.795392</td>\n",
       "      <td>-122.394203</td>\n",
       "      <td>58.0</td>\n",
       "      <td>Market St at 10th St</td>\n",
       "      <td>37.776619</td>\n",
       "      <td>...</td>\n",
       "      <td>No</td>\n",
       "      <td>January</td>\n",
       "      <td>1</td>\n",
       "      <td>Wed</td>\n",
       "      <td>21</td>\n",
       "      <td>21</td>\n",
       "      <td>14</td>\n",
       "      <td>2018-01-31</td>\n",
       "      <td>2.916783</td>\n",
       "      <td>1.812404</td>\n",
       "    </tr>\n",
       "    <tr>\n",
       "      <th>207</th>\n",
       "      <td>511</td>\n",
       "      <td>2018-01-31 21:01:37.141</td>\n",
       "      <td>2018-01-31 21:10:08.258</td>\n",
       "      <td>15.0</td>\n",
       "      <td>San Francisco Ferry Building (Harry Bridges Pl...</td>\n",
       "      <td>37.795392</td>\n",
       "      <td>-122.394203</td>\n",
       "      <td>81.0</td>\n",
       "      <td>Berry St at 4th St</td>\n",
       "      <td>37.775880</td>\n",
       "      <td>...</td>\n",
       "      <td>No</td>\n",
       "      <td>January</td>\n",
       "      <td>1</td>\n",
       "      <td>Wed</td>\n",
       "      <td>21</td>\n",
       "      <td>21</td>\n",
       "      <td>8</td>\n",
       "      <td>2018-01-31</td>\n",
       "      <td>2.171534</td>\n",
       "      <td>1.349328</td>\n",
       "    </tr>\n",
       "    <tr>\n",
       "      <th>...</th>\n",
       "      <td>...</td>\n",
       "      <td>...</td>\n",
       "      <td>...</td>\n",
       "      <td>...</td>\n",
       "      <td>...</td>\n",
       "      <td>...</td>\n",
       "      <td>...</td>\n",
       "      <td>...</td>\n",
       "      <td>...</td>\n",
       "      <td>...</td>\n",
       "      <td>...</td>\n",
       "      <td>...</td>\n",
       "      <td>...</td>\n",
       "      <td>...</td>\n",
       "      <td>...</td>\n",
       "      <td>...</td>\n",
       "      <td>...</td>\n",
       "      <td>...</td>\n",
       "      <td>...</td>\n",
       "      <td>...</td>\n",
       "      <td>...</td>\n",
       "    </tr>\n",
       "    <tr>\n",
       "      <th>1863408</th>\n",
       "      <td>646</td>\n",
       "      <td>2018-12-01 09:53:28.241</td>\n",
       "      <td>2018-12-01 10:04:14.959</td>\n",
       "      <td>15.0</td>\n",
       "      <td>San Francisco Ferry Building (Harry Bridges Pl...</td>\n",
       "      <td>37.795392</td>\n",
       "      <td>-122.394203</td>\n",
       "      <td>6.0</td>\n",
       "      <td>The Embarcadero at Sansome St</td>\n",
       "      <td>37.804770</td>\n",
       "      <td>...</td>\n",
       "      <td>No</td>\n",
       "      <td>December</td>\n",
       "      <td>12</td>\n",
       "      <td>Sat</td>\n",
       "      <td>9</td>\n",
       "      <td>10</td>\n",
       "      <td>10</td>\n",
       "      <td>2018-12-01</td>\n",
       "      <td>1.310345</td>\n",
       "      <td>0.814210</td>\n",
       "    </tr>\n",
       "    <tr>\n",
       "      <th>1863504</th>\n",
       "      <td>369</td>\n",
       "      <td>2018-12-01 08:44:23.469</td>\n",
       "      <td>2018-12-01 08:50:33.300</td>\n",
       "      <td>15.0</td>\n",
       "      <td>San Francisco Ferry Building (Harry Bridges Pl...</td>\n",
       "      <td>37.795392</td>\n",
       "      <td>-122.394203</td>\n",
       "      <td>6.0</td>\n",
       "      <td>The Embarcadero at Sansome St</td>\n",
       "      <td>37.804770</td>\n",
       "      <td>...</td>\n",
       "      <td>No</td>\n",
       "      <td>December</td>\n",
       "      <td>12</td>\n",
       "      <td>Sat</td>\n",
       "      <td>8</td>\n",
       "      <td>8</td>\n",
       "      <td>6</td>\n",
       "      <td>2018-12-01</td>\n",
       "      <td>1.310345</td>\n",
       "      <td>0.814210</td>\n",
       "    </tr>\n",
       "    <tr>\n",
       "      <th>1863528</th>\n",
       "      <td>471</td>\n",
       "      <td>2018-12-01 08:24:44.547</td>\n",
       "      <td>2018-12-01 08:32:36.223</td>\n",
       "      <td>15.0</td>\n",
       "      <td>San Francisco Ferry Building (Harry Bridges Pl...</td>\n",
       "      <td>37.795392</td>\n",
       "      <td>-122.394203</td>\n",
       "      <td>50.0</td>\n",
       "      <td>2nd St at Townsend St</td>\n",
       "      <td>37.780526</td>\n",
       "      <td>...</td>\n",
       "      <td>No</td>\n",
       "      <td>December</td>\n",
       "      <td>12</td>\n",
       "      <td>Sat</td>\n",
       "      <td>8</td>\n",
       "      <td>8</td>\n",
       "      <td>7</td>\n",
       "      <td>2018-12-01</td>\n",
       "      <td>1.688445</td>\n",
       "      <td>1.049151</td>\n",
       "    </tr>\n",
       "    <tr>\n",
       "      <th>1863556</th>\n",
       "      <td>2644</td>\n",
       "      <td>2018-12-01 07:23:10.895</td>\n",
       "      <td>2018-12-01 08:07:15.015</td>\n",
       "      <td>15.0</td>\n",
       "      <td>San Francisco Ferry Building (Harry Bridges Pl...</td>\n",
       "      <td>37.795392</td>\n",
       "      <td>-122.394203</td>\n",
       "      <td>23.0</td>\n",
       "      <td>The Embarcadero at Steuart St</td>\n",
       "      <td>37.791464</td>\n",
       "      <td>...</td>\n",
       "      <td>No</td>\n",
       "      <td>December</td>\n",
       "      <td>12</td>\n",
       "      <td>Sat</td>\n",
       "      <td>7</td>\n",
       "      <td>8</td>\n",
       "      <td>44</td>\n",
       "      <td>2018-12-01</td>\n",
       "      <td>0.517986</td>\n",
       "      <td>0.321862</td>\n",
       "    </tr>\n",
       "    <tr>\n",
       "      <th>1863708</th>\n",
       "      <td>681</td>\n",
       "      <td>2018-12-01 00:19:41.383</td>\n",
       "      <td>2018-12-01 00:31:02.605</td>\n",
       "      <td>15.0</td>\n",
       "      <td>San Francisco Ferry Building (Harry Bridges Pl...</td>\n",
       "      <td>37.795392</td>\n",
       "      <td>-122.394203</td>\n",
       "      <td>323.0</td>\n",
       "      <td>Broadway at Kearny</td>\n",
       "      <td>37.798014</td>\n",
       "      <td>...</td>\n",
       "      <td>No</td>\n",
       "      <td>December</td>\n",
       "      <td>12</td>\n",
       "      <td>Sat</td>\n",
       "      <td>0</td>\n",
       "      <td>0</td>\n",
       "      <td>11</td>\n",
       "      <td>2018-12-01</td>\n",
       "      <td>1.072565</td>\n",
       "      <td>0.666461</td>\n",
       "    </tr>\n",
       "  </tbody>\n",
       "</table>\n",
       "<p>38461 rows × 23 columns</p>\n",
       "</div>"
      ],
      "text/plain": [
       "         duration_sec              start_time                end_time  \\\n",
       "1               85422 2018-01-31 16:13:34.351 2018-02-01 15:57:17.310   \n",
       "30                375 2018-01-31 22:56:31.082 2018-01-31 23:02:46.583   \n",
       "90                451 2018-01-31 21:57:35.425 2018-01-31 22:05:07.018   \n",
       "141               841 2018-01-31 21:25:01.905 2018-01-31 21:39:03.712   \n",
       "207               511 2018-01-31 21:01:37.141 2018-01-31 21:10:08.258   \n",
       "...               ...                     ...                     ...   \n",
       "1863408           646 2018-12-01 09:53:28.241 2018-12-01 10:04:14.959   \n",
       "1863504           369 2018-12-01 08:44:23.469 2018-12-01 08:50:33.300   \n",
       "1863528           471 2018-12-01 08:24:44.547 2018-12-01 08:32:36.223   \n",
       "1863556          2644 2018-12-01 07:23:10.895 2018-12-01 08:07:15.015   \n",
       "1863708           681 2018-12-01 00:19:41.383 2018-12-01 00:31:02.605   \n",
       "\n",
       "        start_station_id                                 start_station_name  \\\n",
       "1                   15.0  San Francisco Ferry Building (Harry Bridges Pl...   \n",
       "30                  15.0  San Francisco Ferry Building (Harry Bridges Pl...   \n",
       "90                  15.0  San Francisco Ferry Building (Harry Bridges Pl...   \n",
       "141                 15.0  San Francisco Ferry Building (Harry Bridges Pl...   \n",
       "207                 15.0  San Francisco Ferry Building (Harry Bridges Pl...   \n",
       "...                  ...                                                ...   \n",
       "1863408             15.0  San Francisco Ferry Building (Harry Bridges Pl...   \n",
       "1863504             15.0  San Francisco Ferry Building (Harry Bridges Pl...   \n",
       "1863528             15.0  San Francisco Ferry Building (Harry Bridges Pl...   \n",
       "1863556             15.0  San Francisco Ferry Building (Harry Bridges Pl...   \n",
       "1863708             15.0  San Francisco Ferry Building (Harry Bridges Pl...   \n",
       "\n",
       "         start_station_latitude  start_station_longitude end_station_id  \\\n",
       "1                     37.795392              -122.394203           15.0   \n",
       "30                    37.795392              -122.394203            6.0   \n",
       "90                    37.795392              -122.394203            6.0   \n",
       "141                   37.795392              -122.394203           58.0   \n",
       "207                   37.795392              -122.394203           81.0   \n",
       "...                         ...                      ...            ...   \n",
       "1863408               37.795392              -122.394203            6.0   \n",
       "1863504               37.795392              -122.394203            6.0   \n",
       "1863528               37.795392              -122.394203           50.0   \n",
       "1863556               37.795392              -122.394203           23.0   \n",
       "1863708               37.795392              -122.394203          323.0   \n",
       "\n",
       "                                          end_station_name  \\\n",
       "1        San Francisco Ferry Building (Harry Bridges Pl...   \n",
       "30                           The Embarcadero at Sansome St   \n",
       "90                           The Embarcadero at Sansome St   \n",
       "141                                   Market St at 10th St   \n",
       "207                                     Berry St at 4th St   \n",
       "...                                                    ...   \n",
       "1863408                      The Embarcadero at Sansome St   \n",
       "1863504                      The Embarcadero at Sansome St   \n",
       "1863528                              2nd St at Townsend St   \n",
       "1863556                      The Embarcadero at Steuart St   \n",
       "1863708                                 Broadway at Kearny   \n",
       "\n",
       "         end_station_latitude  ...  bike_share_for_all_trip start_time_month  \\\n",
       "1                   37.795392  ...                       No          January   \n",
       "30                  37.804770  ...                       No          January   \n",
       "90                  37.804770  ...                       No          January   \n",
       "141                 37.776619  ...                       No          January   \n",
       "207                 37.775880  ...                       No          January   \n",
       "...                       ...  ...                      ...              ...   \n",
       "1863408             37.804770  ...                       No         December   \n",
       "1863504             37.804770  ...                       No         December   \n",
       "1863528             37.780526  ...                       No         December   \n",
       "1863556             37.791464  ...                       No         December   \n",
       "1863708             37.798014  ...                       No         December   \n",
       "\n",
       "        start_time_month_num start_time_weekday start_time_hour  \\\n",
       "1                          1                Wed              16   \n",
       "30                         1                Wed              22   \n",
       "90                         1                Wed              21   \n",
       "141                        1                Wed              21   \n",
       "207                        1                Wed              21   \n",
       "...                      ...                ...             ...   \n",
       "1863408                   12                Sat               9   \n",
       "1863504                   12                Sat               8   \n",
       "1863528                   12                Sat               8   \n",
       "1863556                   12                Sat               7   \n",
       "1863708                   12                Sat               0   \n",
       "\n",
       "         end_time_hour duration_min  start_date  distance_km  distance_miles  \n",
       "1                   15         1423  2018-01-31     0.000000        0.000000  \n",
       "30                  23            6  2018-01-31     1.310345        0.814210  \n",
       "90                  22            7  2018-01-31     1.310345        0.814210  \n",
       "141                 21           14  2018-01-31     2.916783        1.812404  \n",
       "207                 21            8  2018-01-31     2.171534        1.349328  \n",
       "...                ...          ...         ...          ...             ...  \n",
       "1863408             10           10  2018-12-01     1.310345        0.814210  \n",
       "1863504              8            6  2018-12-01     1.310345        0.814210  \n",
       "1863528              8            7  2018-12-01     1.688445        1.049151  \n",
       "1863556              8           44  2018-12-01     0.517986        0.321862  \n",
       "1863708              0           11  2018-12-01     1.072565        0.666461  \n",
       "\n",
       "[38461 rows x 23 columns]"
      ]
     },
     "execution_count": 69,
     "metadata": {},
     "output_type": "execute_result"
    }
   ],
   "source": [
    "df_max_station"
   ]
  },
  {
   "cell_type": "markdown",
   "metadata": {},
   "source": [
    "###### Observation 7: The San Fransisco Ferry Building station had the most riders as origin point. "
   ]
  },
  {
   "cell_type": "markdown",
   "metadata": {},
   "source": [
    "#### Discuss the distribution(s) of your variable(s) of interest. Were there any unusual points? Did you need to perform any transformations?"
   ]
  },
  {
   "cell_type": "markdown",
   "metadata": {},
   "source": [
    "Thankfully, due to thorough cleaning efforts there were no big surprises during the exploratory and visualization phase. The duration of the bike ride and the distance gave me a little trouble since there were some outliers I didn't anticipate."
   ]
  },
  {
   "cell_type": "markdown",
   "metadata": {},
   "source": [
    "#### Of the features you investigated, were there any unusual distributions? Did you perform any operations on the data to tidy, adjust, or change the form of the data? If so, why did you do this?"
   ]
  },
  {
   "cell_type": "markdown",
   "metadata": {},
   "source": [
    "Nothing seems out of the normal expectations for a bike sharing system in a major city. So far, the data reveals that weekdays are significant in sharing bike system. "
   ]
  },
  {
   "cell_type": "markdown",
   "metadata": {},
   "source": [
    "## Bivariate Exploration\n",
    "In this section, I investigate relationships between pairs of variables in the data."
   ]
  },
  {
   "cell_type": "code",
   "execution_count": 70,
   "metadata": {},
   "outputs": [],
   "source": [
    "# Customers vs Subscribers\n",
    "customer = df_cleaned.query('user_type == \"Customer\"')['bike_id'].count()\n",
    "subscriber = df_cleaned.query('user_type == \"Subscriber\"')['bike_id'].count()\n",
    "customer_prop = customer / df_cleaned['bike_id'].count()\n",
    "subscriber_prop = subscriber / df_cleaned['bike_id'].count()"
   ]
  },
  {
   "cell_type": "code",
   "execution_count": 71,
   "metadata": {},
   "outputs": [
    {
     "data": {
      "image/png": "[encoded data removed]",
      "text/plain": [
       "<Figure size 576x360 with 1 Axes>"
      ]
     },
     "metadata": {},
     "output_type": "display_data"
    }
   ],
   "source": [
    "# Customers vs Subscribers Visuals\n",
    "# pie chart\n",
    "plt.figure(figsize = [8, 5])\n",
    "\n",
    "labels = ['Customer', 'Subscriber']\n",
    "size = [customer_prop, subscriber_prop]\n",
    "explode = (0, 0.3)\n",
    "\n",
    "plt.pie(size, explode=explode, labels = labels, autopct='%1.1f%%', shadow=True, startangle=90, textprops={'color':'white'})\n",
    "plt.axis('equal')\n",
    "\n",
    "plt.suptitle('Ford GoBike System - Customers vs. Subscribers', y=1.05, fontsize=16, fontweight='bold');"
   ]
  },
  {
   "cell_type": "code",
   "execution_count": 72,
   "metadata": {},
   "outputs": [
    {
     "data": {
      "image/png": "[encoded data removed]",
      "text/plain": [
       "<Figure size 720x360 with 1 Axes>"
      ]
     },
     "metadata": {
      "needs_background": "light"
     },
     "output_type": "display_data"
    }
   ],
   "source": [
    "# Customers vs Subscribers Visuals\n",
    "# bar chart\n",
    "plt.figure(figsize = [10, 5])\n",
    "\n",
    "graph = sb.countplot(data = df_cleaned, x = \"user_type\", order = df_cleaned.user_type.value_counts().index);\n",
    "graph.set_xlabel('User Type');\n",
    "graph.set_ylabel('Number of Bike Trips');\n",
    "plt.suptitle('Ford GoBike System - Customers vs. Subscribers', y=1.05, fontsize=16, fontweight='bold');"
   ]
  },
  {
   "cell_type": "code",
   "execution_count": 73,
   "metadata": {},
   "outputs": [
    {
     "data": {
      "image/png": "[encoded data removed]",
      "text/plain": [
       "<Figure size 720x360 with 2 Axes>"
      ]
     },
     "metadata": {
      "needs_background": "light"
     },
     "output_type": "display_data"
    }
   ],
   "source": [
    "# Customer Usage by Month vs. Subscriber Usage by Month\n",
    "#plt.figure(figsize = [12, 5])\n",
    "graph = sb.catplot(data=df_cleaned, x='start_time_month', col=\"user_type\", kind='count', sharey = True, color = no_color);\n",
    "\n",
    "graph.set_axis_labels(\"Month\", \"Number of Bike Trips\");\n",
    "graph.set_titles(\"{col_name}\");\n",
    "\n",
    "graph.fig.suptitle('Ford GoBike System - Customers vs. Subscribers', y=1.05, fontsize=16, fontweight='bold');\n",
    "graph.set_xticklabels(rotation=75);"
   ]
  },
  {
   "cell_type": "markdown",
   "metadata": {},
   "source": [
    "###### Observation 2: Winter months are the worst for the bike sharing system for both groups what can be determined by the harsher weather.\n",
    "Customers: demand is high around summertime, reaching its peak in July. Customers are most probably tourists, or the occasional riders who visit the Bay Area.\n",
    "Subscribers: the highest demand is from May till October, reaching it's peak in October. Subscribers are most likely riders using the bikes for their daily commute."
   ]
  },
  {
   "cell_type": "code",
   "execution_count": 74,
   "metadata": {},
   "outputs": [
    {
     "data": {
      "image/png": "[encoded data removed]",
      "text/plain": [
       "<Figure size 864x360 with 1 Axes>"
      ]
     },
     "metadata": {
      "needs_background": "light"
     },
     "output_type": "display_data"
    }
   ],
   "source": [
    "# Customer Usage by Weekday vs. Subscriber Usage by Weekday\n",
    "plt.figure(figsize=(12, 5))\n",
    "\n",
    "df_cleaned_user_week = df_cleaned.groupby(['start_time_weekday', 'user_type']).size().reset_index()\n",
    "weekday = ['Mon', 'Tue', 'Wed', 'Thu', 'Fri', 'Sat', 'Sun']\n",
    "\n",
    "ax = sb.pointplot(data=df_cleaned_user_week, x='start_time_weekday', y=0, hue = 'user_type', scale=.7, order = weekday);\n",
    "\n",
    "plt.title('Ford GoBike System Trends by User Type', y=1.05, fontsize=16, fontweight='bold')\n",
    "plt.xlabel('Weekdays')\n",
    "plt.ylabel('Number of Bike Trips');\n",
    "plt.grid()"
   ]
  },
  {
   "cell_type": "markdown",
   "metadata": {},
   "source": [
    "###### Observation 3: The point plot above is an excellent visual showing the sharp contrast between Customers and Subscribers. Customers have a relatively low usage of the bike share system with a small increase on the weekends. Subscribers are the opposite - there is steadily high usage on weekdays, with a sharp decline on the weekend."
   ]
  },
  {
   "cell_type": "code",
   "execution_count": 75,
   "metadata": {},
   "outputs": [
    {
     "data": {
      "image/png": "[encoded data removed]",
      "text/plain": [
       "<Figure size 864x576 with 1 Axes>"
      ]
     },
     "metadata": {
      "needs_background": "light"
     },
     "output_type": "display_data"
    }
   ],
   "source": [
    "# Customer Usage by Distance vs. Subscriber Usage by Distance\n",
    "plt = df_cleaned.groupby('user_type')['distance_miles'].mean().plot(kind='barh', figsize=(12,8));\n",
    "\n",
    "plt.set_title('Ford Go Bike System Average Distance (Miles) by User Type', y=1.05, fontsize=16, fontweight='bold')\n",
    "plt.set_xlabel('User Type')\n",
    "plt.set_ylabel('Average Distance Traveled (Miles)');"
   ]
  },
  {
   "cell_type": "markdown",
   "metadata": {},
   "source": [
    "###### Observation 4: The average distance traveled by customers is slightly higher than subscribers. Since the data exploration thus far suggests subscribers are using the bike share system for commuting purposes, that suggestion also implies that the commuting distance for the subscribers is less than the average ride a customer takes"
   ]
  },
  {
   "cell_type": "code",
   "execution_count": 76,
   "metadata": {},
   "outputs": [
    {
     "data": {
      "text/plain": [
       "count    1.863721e+06\n",
       "mean     1.379682e+01\n",
       "std      3.950700e+01\n",
       "min      1.000000e+00\n",
       "50%      9.000000e+00\n",
       "95%      3.000000e+01\n",
       "max      1.439000e+03\n",
       "Name: duration_min, dtype: float64"
      ]
     },
     "execution_count": 76,
     "metadata": {},
     "output_type": "execute_result"
    }
   ],
   "source": [
    "df_cleaned.duration_min.describe(percentiles = [.95])"
   ]
  },
  {
   "cell_type": "code",
   "execution_count": 77,
   "metadata": {},
   "outputs": [
    {
     "data": {
      "image/png": "[encoded data removed]",
      "text/plain": [
       "<Figure size 1440x360 with 2 Axes>"
      ]
     },
     "metadata": {
      "needs_background": "light"
     },
     "output_type": "display_data"
    }
   ],
   "source": [
    "# Customer Usage by Duration vs. Subscriber Usage by Duration\n",
    "\n",
    "data = df_cleaned.query('duration_min < 30')\n",
    "\n",
    "graph = sb.catplot(data=data, x = 'duration_min', col='user_type', kind='count', sharey = False, color = no_color, height=5, aspect=2);\n",
    "\n",
    "graph.set_axis_labels('Duration (Min)', 'Number of Bike Trips')\n",
    "graph.set_titles('{col_name}')\n",
    "\n",
    "graph.fig.suptitle('Ford GoBike System - Customers vs. Subscribers Ride Duration (Min)', y=1.05, fontsize=16, fontweight='bold');\n",
    "graph.set_xticklabels(rotation=75);"
   ]
  },
  {
   "cell_type": "code",
   "execution_count": 78,
   "metadata": {},
   "outputs": [
    {
     "data": {
      "image/png": "[encoded data removed]",
      "text/plain": [
       "<Figure size 720x360 with 2 Axes>"
      ]
     },
     "metadata": {
      "needs_background": "light"
     },
     "output_type": "display_data"
    }
   ],
   "source": [
    "data = df_cleaned.query('duration_min < 30')\n",
    "\n",
    "g = sb.catplot(data=data, y='duration_min', col=\"user_type\", kind='box', color = no_color)\n",
    "\n",
    "g.set_titles(col_template = '{col_name}')\n",
    "g.set_axis_labels(\"\", \"Duration (Min)\")\n",
    "g.fig.suptitle('Ford Go Bike System - Duration (Min) by User Type', y=1.05, fontsize=16, fontweight='bold');"
   ]
  },
  {
   "cell_type": "markdown",
   "metadata": {},
   "source": [
    "###### Observation 5: The plots above show the ride duration spread in minutes (note the y-axis isn't shared between the Customer and Subscriber graphs in order to visualize trends easier). Customer typically have trip durations are longer (8 to 18 minutes according to the box plot) than for subscribers (5 to 12 minutes according to the box plot). This can probably be explained by the fact that subscribers are mainly commuters who take short trips to work/school rather than longer trips around the Bay Area."
   ]
  },
  {
   "cell_type": "markdown",
   "metadata": {},
   "source": [
    "#### Talk about some of the relationships you observed in this part of the investigation. How did the feature(s) of interest vary with other features in the dataset?"
   ]
  },
  {
   "cell_type": "markdown",
   "metadata": {},
   "source": [
    "Adding the user type to the analysis revealed different behavior usage between customers and subscribers. The data suggests that customers are casual riders such as tourists, or students on a school vacation or holiday. This is accurate when factoring in that Customer usage increases on the weekends, and peaks during the month of July. In contrast, the data suggests Subscribers are daily commuters or full time students who use the system during weekdays, better weather, and mostly for shorter distances. They mainly rent bikes before and after a typical work or school day (8-9am and 5-6pm)."
   ]
  },
  {
   "cell_type": "markdown",
   "metadata": {},
   "source": [
    "#### Did you observe any interesting relationships between the other features (not the main feature(s) of interest)?"
   ]
  },
  {
   "cell_type": "markdown",
   "metadata": {},
   "source": [
    "There is a difference in the trip duration between customers and subscribers. Customers trips are usually longer than for subscribers, most probably due to the fact they prefer bike rides around weekends in summertime, which may be for longer trips around the surrounding area. Subscribers use the system mainly for commute purposes so they prefer quick, short rides to and from work."
   ]
  },
  {
   "cell_type": "markdown",
   "metadata": {},
   "source": [
    "## Multivariate Exploration\n",
    "I created plots of three or more variables to investigate the Ford Go Bike data even further."
   ]
  },
  {
   "cell_type": "code",
   "execution_count": 87,
   "metadata": {},
   "outputs": [
    {
     "ename": "TypeError",
     "evalue": "'Text' object is not callable",
     "output_type": "error",
     "traceback": [
      "\u001b[1;31m---------------------------------------------------------------------------\u001b[0m",
      "\u001b[1;31mTypeError\u001b[0m                                 Traceback (most recent call last)",
      "\u001b[1;32m<ipython-input-87-829288efc4d7>\u001b[0m in \u001b[0;36m<module>\u001b[1;34m\u001b[0m\n\u001b[0;32m     12\u001b[0m \u001b[0mheat_map\u001b[0m \u001b[1;33m=\u001b[0m \u001b[0msb\u001b[0m\u001b[1;33m.\u001b[0m\u001b[0mheatmap\u001b[0m\u001b[1;33m(\u001b[0m\u001b[0mdf_customer\u001b[0m\u001b[1;33m,\u001b[0m \u001b[0mcmap\u001b[0m \u001b[1;33m=\u001b[0m \u001b[1;34m'twilight'\u001b[0m\u001b[1;33m)\u001b[0m\u001b[1;33m\u001b[0m\u001b[1;33m\u001b[0m\u001b[0m\n\u001b[0;32m     13\u001b[0m \u001b[1;33m\u001b[0m\u001b[0m\n\u001b[1;32m---> 14\u001b[1;33m \u001b[0mplt\u001b[0m\u001b[1;33m.\u001b[0m\u001b[0mtitle\u001b[0m\u001b[1;33m(\u001b[0m\u001b[1;34m'Customer'\u001b[0m\u001b[1;33m,\u001b[0m \u001b[0my\u001b[0m\u001b[1;33m=\u001b[0m\u001b[1;36m1.05\u001b[0m\u001b[1;33m)\u001b[0m\u001b[1;33m\u001b[0m\u001b[1;33m\u001b[0m\u001b[0m\n\u001b[0m\u001b[0;32m     15\u001b[0m \u001b[0mplt\u001b[0m\u001b[1;33m.\u001b[0m\u001b[0mxlabel\u001b[0m\u001b[1;33m(\u001b[0m\u001b[1;34m'Weekday'\u001b[0m\u001b[1;33m,\u001b[0m \u001b[0mlabelpad\u001b[0m \u001b[1;33m=\u001b[0m \u001b[1;36m16\u001b[0m\u001b[1;33m)\u001b[0m\u001b[1;33m\u001b[0m\u001b[1;33m\u001b[0m\u001b[0m\n\u001b[0;32m     16\u001b[0m \u001b[0mplt\u001b[0m\u001b[1;33m.\u001b[0m\u001b[0mylabel\u001b[0m\u001b[1;33m(\u001b[0m\u001b[1;34m'Start Time Hour'\u001b[0m\u001b[1;33m,\u001b[0m  \u001b[0mlabelpad\u001b[0m \u001b[1;33m=\u001b[0m \u001b[1;36m16\u001b[0m\u001b[1;33m)\u001b[0m\u001b[1;33m\u001b[0m\u001b[1;33m\u001b[0m\u001b[0m\n",
      "\u001b[1;31mTypeError\u001b[0m: 'Text' object is not callable"
     ]
    },
    {
     "data": {
      "image/png": "[encoded data removed]",
      "text/plain": [
       "<Figure size 432x288 with 2 Axes>"
      ]
     },
     "metadata": {
      "needs_background": "light"
     },
     "output_type": "display_data"
    }
   ],
   "source": [
    "# Weekday order\n",
    "weekday = ['Mon', 'Tue', 'Wed', 'Thu', 'Fri', 'Sat', 'Sun']\n",
    "df_cleaned['start_time_weekday'] = pd.Categorical(df_cleaned['start_time_weekday'], categories= ['Mon', 'Tue', 'Wed', 'Thu', 'Fri', 'Sat', 'Sun'], ordered=True);\n",
    "\n",
    "#plt.figure(figsize=(15,8))\n",
    "\n",
    "# Heatmap - Customers\n",
    "#plt.subplot(1, 2, 1)\n",
    "df_customer = df_cleaned.query('user_type == \"Customer\"').groupby(['start_time_hour', 'start_time_weekday'])['bike_id'].size().reset_index();\n",
    "df_customer = df_customer.pivot('start_time_hour', 'start_time_weekday', 'bike_id')\n",
    "\n",
    "heat_map = sb.heatmap(df_customer, cmap = 'twilight')\n",
    "\n",
    "plt.title('Customer', y=1.05)\n",
    "plt.xlabel('Weekday', labelpad = 16)\n",
    "plt.ylabel('Start Time Hour',  labelpad = 16)\n",
    "\n",
    "plt.show()\n",
    "\n",
    "#graph.suptitle('Ford GoBike System - Start Time vs. Weekday by User Type', y = 1.05, fontsize = 16, fontweight = 'bold');"
   ]
  },
  {
   "cell_type": "markdown",
   "metadata": {},
   "source": [
    "###### Please reference the slide deck with the correct visual - after much trial and error I can not get the code to work properly in this notebook.¶"
   ]
  },
  {
   "cell_type": "code",
   "execution_count": 88,
   "metadata": {},
   "outputs": [
    {
     "ename": "TypeError",
     "evalue": "'Text' object is not callable",
     "output_type": "error",
     "traceback": [
      "\u001b[1;31m---------------------------------------------------------------------------\u001b[0m",
      "\u001b[1;31mTypeError\u001b[0m                                 Traceback (most recent call last)",
      "\u001b[1;32m<ipython-input-88-f1aeaf137120>\u001b[0m in \u001b[0;36m<module>\u001b[1;34m\u001b[0m\n\u001b[0;32m      5\u001b[0m \u001b[0mhot_map\u001b[0m \u001b[1;33m=\u001b[0m \u001b[0msb\u001b[0m\u001b[1;33m.\u001b[0m\u001b[0mheatmap\u001b[0m\u001b[1;33m(\u001b[0m\u001b[0mdf_subscriber\u001b[0m\u001b[1;33m,\u001b[0m \u001b[0mcmap\u001b[0m \u001b[1;33m=\u001b[0m \u001b[1;34m'twilight'\u001b[0m\u001b[1;33m)\u001b[0m\u001b[1;33m\u001b[0m\u001b[1;33m\u001b[0m\u001b[0m\n\u001b[0;32m      6\u001b[0m \u001b[1;33m\u001b[0m\u001b[0m\n\u001b[1;32m----> 7\u001b[1;33m \u001b[0mplt\u001b[0m\u001b[1;33m.\u001b[0m\u001b[0mtitle\u001b[0m\u001b[1;33m(\u001b[0m\u001b[1;34m\"Subscriber\"\u001b[0m\u001b[1;33m,\u001b[0m \u001b[0my\u001b[0m\u001b[1;33m=\u001b[0m\u001b[1;36m1.05\u001b[0m\u001b[1;33m)\u001b[0m\u001b[1;33m\u001b[0m\u001b[1;33m\u001b[0m\u001b[0m\n\u001b[0m\u001b[0;32m      8\u001b[0m \u001b[0mplt\u001b[0m\u001b[1;33m.\u001b[0m\u001b[0mxlabel\u001b[0m\u001b[1;33m(\u001b[0m\u001b[1;34m'Weekday'\u001b[0m\u001b[1;33m,\u001b[0m \u001b[0mlabelpad\u001b[0m \u001b[1;33m=\u001b[0m \u001b[1;36m16\u001b[0m\u001b[1;33m)\u001b[0m\u001b[1;33m\u001b[0m\u001b[1;33m\u001b[0m\u001b[0m\n\u001b[0;32m      9\u001b[0m \u001b[0mplt\u001b[0m\u001b[1;33m.\u001b[0m\u001b[0mylabel\u001b[0m\u001b[1;33m(\u001b[0m\u001b[1;34m'Start Time Hour'\u001b[0m\u001b[1;33m,\u001b[0m \u001b[0mlabelpad\u001b[0m \u001b[1;33m=\u001b[0m \u001b[1;36m16\u001b[0m\u001b[1;33m)\u001b[0m\u001b[1;33m;\u001b[0m\u001b[1;33m\u001b[0m\u001b[1;33m\u001b[0m\u001b[0m\n",
      "\u001b[1;31mTypeError\u001b[0m: 'Text' object is not callable"
     ]
    },
    {
     "data": {
      "image/png": "[encoded data removed]",
      "text/plain": [
       "<Figure size 432x288 with 2 Axes>"
      ]
     },
     "metadata": {
      "needs_background": "light"
     },
     "output_type": "display_data"
    }
   ],
   "source": [
    "# Heatmap - Subscribers\n",
    "#plt.subplot(1, 2, 2)\n",
    "df_subscriber = df_cleaned.query('user_type == \"Subscriber\"').groupby(['start_time_hour', 'start_time_weekday'])['bike_id'].size().reset_index();\n",
    "df_subscriber = df_subscriber.pivot('start_time_hour', 'start_time_weekday', 'bike_id')\n",
    "hot_map = sb.heatmap(df_subscriber, cmap = 'twilight')\n",
    "\n",
    "plt.title(\"Subscriber\", y=1.05)\n",
    "plt.xlabel('Weekday', labelpad = 16)\n",
    "plt.ylabel('Start Time Hour', labelpad = 16);\n",
    "\n",
    "plt.show()"
   ]
  },
  {
   "cell_type": "markdown",
   "metadata": {},
   "source": [
    "###### Please reference the slide deck with the correct visual - after much trial and error I can not get the code to work properly in this notebook."
   ]
  },
  {
   "cell_type": "markdown",
   "metadata": {},
   "source": [
    "###### Observation 1: Customers use the bike sharing system more often on weekends, whilte Subscribers primarily use the bikes on weekdays.\n",
    "Customers: During weekdays, most bike rides occur between 4-6pm, peaking on Fridays around 5pm. During weeknds, most bike rides occur between 10am and 6pm, peaking on Saturdays around 12am.\n",
    "Subscribers: During weekdays, most bike rides occur around 8-9am and 4-6pm. "
   ]
  },
  {
   "cell_type": "code",
   "execution_count": null,
   "metadata": {},
   "outputs": [],
   "source": []
  },
  {
   "cell_type": "markdown",
   "metadata": {},
   "source": [
    "#### Talk about some of the relationships you observed in this part of the investigation. Were there features that strengthened each other in terms of looking at your feature(s) of interest?"
   ]
  },
  {
   "cell_type": "markdown",
   "metadata": {},
   "source": [
    "This section essentially amplified the previous data topics of exploration through different visuals and adding in more variables to compare to other variables. Subscriber vs Customer age was expanded upon through the use of age groups, and a pointplot to demonstrate the varing habits of each age group. The heatmap didn't reveal anything new for the time based discussion on when and what time each user group uses the bike sharing system. As previously noted, Customers use the system at almost the opposite time as the Subscribers."
   ]
  },
  {
   "cell_type": "markdown",
   "metadata": {},
   "source": [
    "#### Were there any interesting or surprising interactions between features?"
   ]
  },
  {
   "cell_type": "markdown",
   "metadata": {},
   "source": [
    "Nothing out of the expected here. It was interesting to note the sharp monthly difference for males vs. females vs. other, and how close the female count got to the male Customer count in January through March. This may be a potential loss of possible Customers converting to Subscribers."
   ]
  },
  {
   "cell_type": "markdown",
   "metadata": {},
   "source": [
    "## Summary"
   ]
  },
  {
   "cell_type": "markdown",
   "metadata": {},
   "source": [
    "This project is a win - win situation where a large number of people can benefit from this program:\n",
    "\n",
    "- Environmentally friendly, budget friendly, and lifetsyle friendly.\n",
    "- Subscribers (i.e. daily commuters) benefit from a health commuting choice\n",
    "- Customers (i.e. tourists, students, etc.) have a sustainable, yet flexible option for touring the city.\n",
    "- Affordable and convenient transportation for the people of all socioeconomic classes\n",
    "\n",
    "Renting a bike from theFord GoBike System is a fantastic (healthy and environmentally friendly) way of moving around in the city, both for enjoyment and work. There are two types of clients using the system: Subscribers and Customers. Subscribers are primarily daily commuters, having short trips to and from work, who rent a bike on weekdays at 8-9am and 5-6pm, and, occasionally around lunch time. Customers are usually tourists or occassional riders who use the system mainly on weekends to explore the Bay Area."
   ]
  },
  {
   "cell_type": "markdown",
   "metadata": {},
   "source": [
    "## Sources"
   ]
  },
  {
   "cell_type": "markdown",
   "metadata": {},
   "source": [
    "- FordGoBike Data Set\n",
    "- Haversine formula used to calculate distances using latitude and longitude\n",
    "- Seaborn catplot documentation\n",
    "- Matplotlib histogram documentation\n",
    "- IPython Display documentation\n",
    "- Seaborn heatmap documentation and tutorial"
   ]
  }
 ],
 "metadata": {
  "celltoolbar": "Slideshow",
  "kernelspec": {
   "display_name": "Python 3",
   "language": "python",
   "name": "python3"
  },
  "language_info": {
   "codemirror_mode": {
    "name": "ipython",
    "version": 3
   },
   "file_extension": ".py",
   "mimetype": "text/x-python",
   "name": "python",
   "nbconvert_exporter": "python",
   "pygments_lexer": "ipython3",
   "version": "3.7.6"
  }
 },
 "nbformat": 4,
 "nbformat_minor": 4
}
